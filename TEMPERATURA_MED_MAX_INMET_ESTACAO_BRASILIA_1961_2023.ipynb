{
 "cells": [
  {
   "cell_type": "code",
   "execution_count": 1,
   "metadata": {},
   "outputs": [],
   "source": [
    "import os \n",
    "import pandas as pd \n",
    "import plotly.graph_objects as go"
   ]
  },
  {
   "cell_type": "code",
   "execution_count": 2,
   "metadata": {},
   "outputs": [],
   "source": [
    "# Caminho do arquivo\n",
    "def caminho_arquivo(nome_arquivo: str):\n",
    "    return os.path.join(os.getcwd(), nome_arquivo)\n",
    "\n",
    "# Carregar dados do arquivo CSV\n",
    "def carregar_dados_csv(caminho_arquivo: str):\n",
    "    return pd.read_csv(caminho_arquivo, delimiter=';', skiprows=10)\n",
    "\n",
    "# Contar valores nodata a partir de uma coluna de interesse\n",
    "def contar_valores_nodata(df: pd.DataFrame, coluna: str):\n",
    "    isna = df[coluna].isna()\n",
    "    notna = df[coluna].notna()\n",
    "    return f'Completo: {len(df[coluna])} | Vazios: Com vazios: {isna.sum()}  | Sem vazios: {notna.sum()}'\n",
    "\n",
    "# Filtrar dados não nulos\n",
    "def filtrar_dados_notNaN(df: pd.DataFrame, coluna: str):\n",
    "    notna = df[coluna].notna()\n",
    "    return df[notna]\n",
    "\n",
    "# Inserir coluna com o número do mês\n",
    "def inserir_mes_ano(df: pd.DataFrame, coluna: str):\n",
    "    df_copy = df.copy()\n",
    "    df_copy[coluna] = pd.to_datetime(df_copy[coluna])\n",
    "    nm_mes = df_copy[coluna].dt.strftime(\"%B\")\n",
    "    ano = df_copy[coluna].dt.strftime(\"%Y\")\n",
    "\n",
    "    df_copy.insert(1,\"MÊS\",nm_mes)\n",
    "    df_copy.insert(2,\"ANO\",ano)\n",
    "\n",
    "    return df_copy\n",
    "\n",
    "# Inserir coluna com o número do mês e orderar\n",
    "def inserir_numero_mes(df: pd.DataFrame, coluna: str):\n",
    "    df_copy = df.copy()\n",
    "\n",
    "    # Definir um dicionário com o número do mês\n",
    "    dt_number = {'': 0,\n",
    "                'January': 1,\n",
    "                'February': 2,\n",
    "                'March': 3,\n",
    "                'April': 4,\n",
    "                'May': 5,\n",
    "                'June': 6,\n",
    "                'July': 7,\n",
    "                'August': 8,\n",
    "                'September': 9,\n",
    "                'October': 10,\n",
    "                'November': 11,\n",
    "                'December': 12\n",
    "                }\n",
    "\n",
    "    # Relacionar o número do mês com o nome do mês e atribuir a varíavel num_mes\n",
    "    num_mes = df_copy['MÊS'].apply(lambda x: dt_number[x])\n",
    "\n",
    "    df_copy.insert(1,\"NUM_MÊS\",num_mes)\n",
    "\n",
    "    df_copy = df_copy.sort_values(by=['NUM_MÊS'])\n",
    "\n",
    "    return df_copy\n",
    "\n",
    "# Anos que possuem menos de 360 dias de dados de temperatura média\n",
    "def listar_anos_descartados(df: pd.DataFrame, coluna: str):\n",
    "    df_copy = df.copy()\n",
    "\n",
    "    p_qtd_dias_ano = df_copy.groupby([coluna]).count()\n",
    "    p_qtd_dias_ano = p_qtd_dias_ano.reset_index()\n",
    "\n",
    "    p_qtd_dias_ano = p_qtd_dias_ano.iloc[:,0:2]\n",
    "    p_qtd_dias_ano = p_qtd_dias_ano.rename(columns={\"Data Medicao\": \"Dias\"})\n",
    "\n",
    "    p_ano_l = p_qtd_dias_ano[p_qtd_dias_ano['Dias'] > 360]['ANO'].tolist()   \n",
    "    p_ano_l_menor = p_qtd_dias_ano[p_qtd_dias_ano['Dias'] < 360]['ANO'].tolist()\n",
    "    \n",
    "    return p_ano_l, p_ano_l_menor\n",
    "\n",
    "def calcular_temperatura_media_mes(df: pd.DataFrame, colunas: list, coluna: str):\n",
    "    df_copy = df.copy()\n",
    "\n",
    "    # Média da Temperatural Mensal para cada ano e mês da série temporal\n",
    "    temp_mes_serie = df_copy.groupby(colunas)[coluna].mean().reset_index()\n",
    "    return temp_mes_serie\n",
    "\n",
    "def calcular_temperatura_media_ano_completo(df: pd.DataFrame, colunas: list, coluna: str):\n",
    "    df_copy = df.copy()\n",
    "\n",
    "    # Média da Temperatural Mensal para cada ano e mês da série temporal\n",
    "    temp_mes = df_copy.groupby(colunas)[coluna].mean()\n",
    "\n",
    "    df2 = pd.DataFrame(temp_mes)\n",
    "    df2 = df2.reset_index()\n",
    "    return df2"
   ]
  },
  {
   "cell_type": "code",
   "execution_count": 9,
   "metadata": {},
   "outputs": [],
   "source": [
    "# Carregar os dados do arquivo excel a um df \n",
    "df_bsb_83377_d = carregar_dados_csv(caminho_arquivo('dados_83377_D_1961-09-11_2024-03-14.csv'))\n",
    "df_bsb_A001_d = carregar_dados_csv(caminho_arquivo('dados_A001_D_2000-05-06_2024-03-14.csv'))\n",
    "df_AguasEmendadas_A045_d = carregar_dados_csv(caminho_arquivo('dados_A045_D_2008-10-02_2024-03-14.csv'))\n"
   ]
  },
  {
   "cell_type": "markdown",
   "metadata": {},
   "source": [
    "Temperatura Máxima já registrada em Brasília (Inmet 1964 - 2024)"
   ]
  },
  {
   "cell_type": "code",
   "execution_count": null,
   "metadata": {},
   "outputs": [
    {
     "data": {
      "text/plain": [
       "36.4"
      ]
     },
     "execution_count": 32,
     "metadata": {},
     "output_type": "execute_result"
    }
   ],
   "source": [
    "df_bsb_83377_d['TEMPERATURA MAXIMA, DIARIA(°C)'].max()"
   ]
  },
  {
   "cell_type": "code",
   "execution_count": 35,
   "metadata": {},
   "outputs": [
    {
     "data": {
      "application/vnd.microsoft.datawrangler.viewer.v0+json": {
       "columns": [
        {
         "name": "index",
         "rawType": "int64",
         "type": "integer"
        },
        {
         "name": "Data Medicao",
         "rawType": "object",
         "type": "string"
        },
        {
         "name": "EVAPORACAO DO PICHE, DIARIA(mm)",
         "rawType": "float64",
         "type": "float"
        },
        {
         "name": "INSOLACAO TOTAL, DIARIO(h)",
         "rawType": "float64",
         "type": "float"
        },
        {
         "name": "PRECIPITACAO TOTAL, DIARIO(mm)",
         "rawType": "float64",
         "type": "float"
        },
        {
         "name": "TEMPERATURA MAXIMA, DIARIA(°C)",
         "rawType": "float64",
         "type": "float"
        },
        {
         "name": "TEMPERATURA MEDIA COMPENSADA, DIARIA(°C)",
         "rawType": "float64",
         "type": "float"
        },
        {
         "name": "TEMPERATURA MINIMA, DIARIA(°C)",
         "rawType": "float64",
         "type": "float"
        },
        {
         "name": "UMIDADE RELATIVA DO AR, MEDIA DIARIA(%)",
         "rawType": "float64",
         "type": "float"
        },
        {
         "name": "UMIDADE RELATIVA DO AR, MINIMA DIARIA(%)",
         "rawType": "float64",
         "type": "float"
        },
        {
         "name": "VENTO, VELOCIDADE MEDIA DIARIA(m/s)",
         "rawType": "float64",
         "type": "float"
        },
        {
         "name": "Unnamed: 10",
         "rawType": "float64",
         "type": "float"
        }
       ],
       "conversionMethod": "pd.DataFrame",
       "ref": "bd0c9063-6a4b-412f-872d-b5575a174053",
       "rows": [
        [
         "21577",
         "2020-10-08",
         "14.3",
         "9.8",
         "0.0",
         "36.4",
         "28.28",
         "20.9",
         "27.0",
         "15.0",
         "1.68592",
         null
        ],
        [
         "19760",
         "2015-10-18",
         "15.0",
         "10.9",
         "0.0",
         "36.4",
         "28.42",
         "20.1",
         "19.75",
         "15.0",
         "3.333333",
         null
        ],
        [
         "19759",
         "2015-10-17",
         "14.0",
         "10.2",
         "0.0",
         "36.0",
         "28.36",
         "20.1",
         "23.75",
         "18.0",
         "1.666667",
         null
        ],
        [
         "19763",
         "2015-10-21",
         "12.2",
         "7.2",
         "0.0",
         "35.9",
         "27.8",
         "20.5",
         "40.0",
         "23.0",
         "1.0",
         null
        ],
        [
         "19737",
         "2015-09-25",
         "13.6",
         "10.3",
         "0.0",
         "35.8",
         "28.0",
         "20.4",
         "22.25",
         "15.0",
         "0.0",
         null
        ],
        [
         "17214",
         "2008-10-28",
         "11.0",
         "10.8",
         "0.0",
         "35.8",
         "29.06",
         "22.0",
         "25.0",
         "13.0",
         "3.666667",
         null
        ],
        [
         "19764",
         "2015-10-22",
         "8.1",
         "7.4",
         "0.0",
         "35.8",
         "27.84",
         "21.0",
         "45.75",
         "28.0",
         "0.34296",
         null
        ],
        [
         "20488",
         "2017-10-15",
         "14.0",
         "10.6",
         "0.0",
         "35.7",
         "27.58",
         "19.9",
         "26.75",
         "15.0",
         "3.0",
         null
        ],
        [
         "21925",
         "2021-09-21",
         "11.8",
         "7.0",
         "0.0",
         "35.7",
         "26.5",
         "20.1",
         "34.75",
         null,
         "2.0",
         null
        ],
        [
         "19762",
         "2015-10-20",
         "12.4",
         "10.7",
         "0.0",
         "35.7",
         "27.88",
         "19.9",
         "28.0",
         "19.0",
         "3.34296",
         null
        ]
       ],
       "shape": {
        "columns": 11,
        "rows": 10
       }
      },
      "text/html": [
       "<div>\n",
       "<style scoped>\n",
       "    .dataframe tbody tr th:only-of-type {\n",
       "        vertical-align: middle;\n",
       "    }\n",
       "\n",
       "    .dataframe tbody tr th {\n",
       "        vertical-align: top;\n",
       "    }\n",
       "\n",
       "    .dataframe thead th {\n",
       "        text-align: right;\n",
       "    }\n",
       "</style>\n",
       "<table border=\"1\" class=\"dataframe\">\n",
       "  <thead>\n",
       "    <tr style=\"text-align: right;\">\n",
       "      <th></th>\n",
       "      <th>Data Medicao</th>\n",
       "      <th>EVAPORACAO DO PICHE, DIARIA(mm)</th>\n",
       "      <th>INSOLACAO TOTAL, DIARIO(h)</th>\n",
       "      <th>PRECIPITACAO TOTAL, DIARIO(mm)</th>\n",
       "      <th>TEMPERATURA MAXIMA, DIARIA(°C)</th>\n",
       "      <th>TEMPERATURA MEDIA COMPENSADA, DIARIA(°C)</th>\n",
       "      <th>TEMPERATURA MINIMA, DIARIA(°C)</th>\n",
       "      <th>UMIDADE RELATIVA DO AR, MEDIA DIARIA(%)</th>\n",
       "      <th>UMIDADE RELATIVA DO AR, MINIMA DIARIA(%)</th>\n",
       "      <th>VENTO, VELOCIDADE MEDIA DIARIA(m/s)</th>\n",
       "      <th>Unnamed: 10</th>\n",
       "    </tr>\n",
       "  </thead>\n",
       "  <tbody>\n",
       "    <tr>\n",
       "      <th>21577</th>\n",
       "      <td>2020-10-08</td>\n",
       "      <td>14.3</td>\n",
       "      <td>9.8</td>\n",
       "      <td>0.0</td>\n",
       "      <td>36.4</td>\n",
       "      <td>28.28</td>\n",
       "      <td>20.9</td>\n",
       "      <td>27.00</td>\n",
       "      <td>15.0</td>\n",
       "      <td>1.685920</td>\n",
       "      <td>NaN</td>\n",
       "    </tr>\n",
       "    <tr>\n",
       "      <th>19760</th>\n",
       "      <td>2015-10-18</td>\n",
       "      <td>15.0</td>\n",
       "      <td>10.9</td>\n",
       "      <td>0.0</td>\n",
       "      <td>36.4</td>\n",
       "      <td>28.42</td>\n",
       "      <td>20.1</td>\n",
       "      <td>19.75</td>\n",
       "      <td>15.0</td>\n",
       "      <td>3.333333</td>\n",
       "      <td>NaN</td>\n",
       "    </tr>\n",
       "    <tr>\n",
       "      <th>19759</th>\n",
       "      <td>2015-10-17</td>\n",
       "      <td>14.0</td>\n",
       "      <td>10.2</td>\n",
       "      <td>0.0</td>\n",
       "      <td>36.0</td>\n",
       "      <td>28.36</td>\n",
       "      <td>20.1</td>\n",
       "      <td>23.75</td>\n",
       "      <td>18.0</td>\n",
       "      <td>1.666667</td>\n",
       "      <td>NaN</td>\n",
       "    </tr>\n",
       "    <tr>\n",
       "      <th>19763</th>\n",
       "      <td>2015-10-21</td>\n",
       "      <td>12.2</td>\n",
       "      <td>7.2</td>\n",
       "      <td>0.0</td>\n",
       "      <td>35.9</td>\n",
       "      <td>27.80</td>\n",
       "      <td>20.5</td>\n",
       "      <td>40.00</td>\n",
       "      <td>23.0</td>\n",
       "      <td>1.000000</td>\n",
       "      <td>NaN</td>\n",
       "    </tr>\n",
       "    <tr>\n",
       "      <th>19737</th>\n",
       "      <td>2015-09-25</td>\n",
       "      <td>13.6</td>\n",
       "      <td>10.3</td>\n",
       "      <td>0.0</td>\n",
       "      <td>35.8</td>\n",
       "      <td>28.00</td>\n",
       "      <td>20.4</td>\n",
       "      <td>22.25</td>\n",
       "      <td>15.0</td>\n",
       "      <td>0.000000</td>\n",
       "      <td>NaN</td>\n",
       "    </tr>\n",
       "    <tr>\n",
       "      <th>17214</th>\n",
       "      <td>2008-10-28</td>\n",
       "      <td>11.0</td>\n",
       "      <td>10.8</td>\n",
       "      <td>0.0</td>\n",
       "      <td>35.8</td>\n",
       "      <td>29.06</td>\n",
       "      <td>22.0</td>\n",
       "      <td>25.00</td>\n",
       "      <td>13.0</td>\n",
       "      <td>3.666667</td>\n",
       "      <td>NaN</td>\n",
       "    </tr>\n",
       "    <tr>\n",
       "      <th>19764</th>\n",
       "      <td>2015-10-22</td>\n",
       "      <td>8.1</td>\n",
       "      <td>7.4</td>\n",
       "      <td>0.0</td>\n",
       "      <td>35.8</td>\n",
       "      <td>27.84</td>\n",
       "      <td>21.0</td>\n",
       "      <td>45.75</td>\n",
       "      <td>28.0</td>\n",
       "      <td>0.342960</td>\n",
       "      <td>NaN</td>\n",
       "    </tr>\n",
       "    <tr>\n",
       "      <th>20488</th>\n",
       "      <td>2017-10-15</td>\n",
       "      <td>14.0</td>\n",
       "      <td>10.6</td>\n",
       "      <td>0.0</td>\n",
       "      <td>35.7</td>\n",
       "      <td>27.58</td>\n",
       "      <td>19.9</td>\n",
       "      <td>26.75</td>\n",
       "      <td>15.0</td>\n",
       "      <td>3.000000</td>\n",
       "      <td>NaN</td>\n",
       "    </tr>\n",
       "    <tr>\n",
       "      <th>21925</th>\n",
       "      <td>2021-09-21</td>\n",
       "      <td>11.8</td>\n",
       "      <td>7.0</td>\n",
       "      <td>0.0</td>\n",
       "      <td>35.7</td>\n",
       "      <td>26.50</td>\n",
       "      <td>20.1</td>\n",
       "      <td>34.75</td>\n",
       "      <td>NaN</td>\n",
       "      <td>2.000000</td>\n",
       "      <td>NaN</td>\n",
       "    </tr>\n",
       "    <tr>\n",
       "      <th>19762</th>\n",
       "      <td>2015-10-20</td>\n",
       "      <td>12.4</td>\n",
       "      <td>10.7</td>\n",
       "      <td>0.0</td>\n",
       "      <td>35.7</td>\n",
       "      <td>27.88</td>\n",
       "      <td>19.9</td>\n",
       "      <td>28.00</td>\n",
       "      <td>19.0</td>\n",
       "      <td>3.342960</td>\n",
       "      <td>NaN</td>\n",
       "    </tr>\n",
       "  </tbody>\n",
       "</table>\n",
       "</div>"
      ],
      "text/plain": [
       "      Data Medicao  EVAPORACAO DO PICHE, DIARIA(mm)  \\\n",
       "21577   2020-10-08                             14.3   \n",
       "19760   2015-10-18                             15.0   \n",
       "19759   2015-10-17                             14.0   \n",
       "19763   2015-10-21                             12.2   \n",
       "19737   2015-09-25                             13.6   \n",
       "17214   2008-10-28                             11.0   \n",
       "19764   2015-10-22                              8.1   \n",
       "20488   2017-10-15                             14.0   \n",
       "21925   2021-09-21                             11.8   \n",
       "19762   2015-10-20                             12.4   \n",
       "\n",
       "       INSOLACAO TOTAL, DIARIO(h)  PRECIPITACAO TOTAL, DIARIO(mm)  \\\n",
       "21577                         9.8                             0.0   \n",
       "19760                        10.9                             0.0   \n",
       "19759                        10.2                             0.0   \n",
       "19763                         7.2                             0.0   \n",
       "19737                        10.3                             0.0   \n",
       "17214                        10.8                             0.0   \n",
       "19764                         7.4                             0.0   \n",
       "20488                        10.6                             0.0   \n",
       "21925                         7.0                             0.0   \n",
       "19762                        10.7                             0.0   \n",
       "\n",
       "       TEMPERATURA MAXIMA, DIARIA(°C)  \\\n",
       "21577                            36.4   \n",
       "19760                            36.4   \n",
       "19759                            36.0   \n",
       "19763                            35.9   \n",
       "19737                            35.8   \n",
       "17214                            35.8   \n",
       "19764                            35.8   \n",
       "20488                            35.7   \n",
       "21925                            35.7   \n",
       "19762                            35.7   \n",
       "\n",
       "       TEMPERATURA MEDIA COMPENSADA, DIARIA(°C)  \\\n",
       "21577                                     28.28   \n",
       "19760                                     28.42   \n",
       "19759                                     28.36   \n",
       "19763                                     27.80   \n",
       "19737                                     28.00   \n",
       "17214                                     29.06   \n",
       "19764                                     27.84   \n",
       "20488                                     27.58   \n",
       "21925                                     26.50   \n",
       "19762                                     27.88   \n",
       "\n",
       "       TEMPERATURA MINIMA, DIARIA(°C)  \\\n",
       "21577                            20.9   \n",
       "19760                            20.1   \n",
       "19759                            20.1   \n",
       "19763                            20.5   \n",
       "19737                            20.4   \n",
       "17214                            22.0   \n",
       "19764                            21.0   \n",
       "20488                            19.9   \n",
       "21925                            20.1   \n",
       "19762                            19.9   \n",
       "\n",
       "       UMIDADE RELATIVA DO AR, MEDIA DIARIA(%)  \\\n",
       "21577                                    27.00   \n",
       "19760                                    19.75   \n",
       "19759                                    23.75   \n",
       "19763                                    40.00   \n",
       "19737                                    22.25   \n",
       "17214                                    25.00   \n",
       "19764                                    45.75   \n",
       "20488                                    26.75   \n",
       "21925                                    34.75   \n",
       "19762                                    28.00   \n",
       "\n",
       "       UMIDADE RELATIVA DO AR, MINIMA DIARIA(%)  \\\n",
       "21577                                      15.0   \n",
       "19760                                      15.0   \n",
       "19759                                      18.0   \n",
       "19763                                      23.0   \n",
       "19737                                      15.0   \n",
       "17214                                      13.0   \n",
       "19764                                      28.0   \n",
       "20488                                      15.0   \n",
       "21925                                       NaN   \n",
       "19762                                      19.0   \n",
       "\n",
       "       VENTO, VELOCIDADE MEDIA DIARIA(m/s)  Unnamed: 10  \n",
       "21577                             1.685920          NaN  \n",
       "19760                             3.333333          NaN  \n",
       "19759                             1.666667          NaN  \n",
       "19763                             1.000000          NaN  \n",
       "19737                             0.000000          NaN  \n",
       "17214                             3.666667          NaN  \n",
       "19764                             0.342960          NaN  \n",
       "20488                             3.000000          NaN  \n",
       "21925                             2.000000          NaN  \n",
       "19762                             3.342960          NaN  "
      ]
     },
     "execution_count": 35,
     "metadata": {},
     "output_type": "execute_result"
    }
   ],
   "source": [
    "df_bsb_83377_d.sort_values(by=['TEMPERATURA MAXIMA, DIARIA(°C)'], ascending=False).head(10)"
   ]
  },
  {
   "cell_type": "code",
   "execution_count": null,
   "metadata": {},
   "outputs": [
    {
     "data": {
      "text/plain": [
       "37.8"
      ]
     },
     "execution_count": 33,
     "metadata": {},
     "output_type": "execute_result"
    }
   ],
   "source": [
    "df_AguasEmendadas_A045_d['TEMPERATURA MAXIMA, DIARIA (AUT)(°C)'].max()"
   ]
  },
  {
   "cell_type": "markdown",
   "metadata": {},
   "source": [
    "Verificar a existência de valores vazios"
   ]
  },
  {
   "cell_type": "code",
   "execution_count": 5,
   "metadata": {},
   "outputs": [
    {
     "data": {
      "text/plain": [
       "'Completo: 22831 | Vazios: Com vazios: 269  | Sem vazios: 22562'"
      ]
     },
     "execution_count": 5,
     "metadata": {},
     "output_type": "execute_result"
    }
   ],
   "source": [
    "contar_valores_nodata(df_bsb_83377_d, 'TEMPERATURA MEDIA COMPENSADA, DIARIA(°C)')"
   ]
  },
  {
   "cell_type": "code",
   "execution_count": 6,
   "metadata": {},
   "outputs": [
    {
     "data": {
      "text/plain": [
       "'Completo: 8714 | Vazios: Com vazios: 340  | Sem vazios: 8374'"
      ]
     },
     "execution_count": 6,
     "metadata": {},
     "output_type": "execute_result"
    }
   ],
   "source": [
    "contar_valores_nodata(df_bsb_A001_d,'TEMPERATURA MEDIA, DIARIA (AUT)(°C)' )"
   ]
  },
  {
   "cell_type": "code",
   "execution_count": 7,
   "metadata": {},
   "outputs": [
    {
     "data": {
      "text/plain": [
       "'Completo: 5643 | Vazios: Com vazios: 137  | Sem vazios: 5506'"
      ]
     },
     "execution_count": 7,
     "metadata": {},
     "output_type": "execute_result"
    }
   ],
   "source": [
    "contar_valores_nodata(df_AguasEmendadas_A045_d,'TEMPERATURA MEDIA, DIARIA (AUT)(°C)' )"
   ]
  },
  {
   "cell_type": "code",
   "execution_count": 8,
   "metadata": {},
   "outputs": [
    {
     "data": {
      "text/plain": [
       "'Completo: 22831 | Vazios: Com vazios: 192  | Sem vazios: 22639'"
      ]
     },
     "execution_count": 8,
     "metadata": {},
     "output_type": "execute_result"
    }
   ],
   "source": [
    "contar_valores_nodata(df_bsb_83377_d,'TEMPERATURA MAXIMA, DIARIA(°C)' )"
   ]
  },
  {
   "cell_type": "markdown",
   "metadata": {},
   "source": [
    "Aplicar regras de negócio:\n",
    "- Regra 1: Remover valores vazios\n",
    "- Regra 2: Inserir mes e ano\n",
    "    "
   ]
  },
  {
   "cell_type": "code",
   "execution_count": null,
   "metadata": {},
   "outputs": [],
   "source": [
    "df_bsb_83377_d_filtro = filtrar_dados_notNaN(df_bsb_83377_d, 'TEMPERATURA MEDIA COMPENSADA, DIARIA(°C)')\n",
    "df_bsb_A001_d_filtro = filtrar_dados_notNaN(df_bsb_A001_d, 'TEMPERATURA MEDIA, DIARIA (AUT)(°C)')\n",
    "df_AguasEmendadas_A045_d_filtro =     filtrar_dados_notNaN(df_AguasEmendadas_A045_d, 'TEMPERATURA MEDIA, DIARIA (AUT)(°C)')\n",
    "df_bsb_83377_d_filtro_max = filtrar_dados_notNaN(df_bsb_83377_d, 'TEMPERATURA MAXIMA, DIARIA(°C)')\n"
   ]
  },
  {
   "cell_type": "code",
   "execution_count": null,
   "metadata": {},
   "outputs": [],
   "source": [
    "df_bsb_83377_d_filtro = inserir_mes_ano(df_bsb_83377_d_filtro, 'Data Medicao')\n",
    "df_bsb_A001_d_filtro = inserir_mes_ano(df_bsb_A001_d_filtro, 'Data Medicao')\n",
    "df_AguasEmendadas_A045_d_filtro = inserir_mes_ano(df_AguasEmendadas_A045_d_filtro, 'Data Medicao')\n",
    "df_bsb_83377_d_filtro_max = inserir_mes_ano(df_bsb_83377_d_filtro_max, 'Data Medicao')"
   ]
  },
  {
   "cell_type": "code",
   "execution_count": 12,
   "metadata": {},
   "outputs": [],
   "source": [
    "df_bsb_83377_d_filtro = inserir_numero_mes(df_bsb_83377_d_filtro, 'Data Medicao')\n",
    "df_bsb_A001_d_filtro = inserir_numero_mes(df_bsb_A001_d_filtro, 'Data Medicao')\n",
    "df_AguasEmendadas_A045_d_filtro = inserir_numero_mes(df_AguasEmendadas_A045_d_filtro, 'Data Medicao')\n",
    "df_bsb_83377_d_filtro_max = inserir_numero_mes(df_bsb_83377_d_filtro_max, 'Data Medicao')"
   ]
  },
  {
   "cell_type": "markdown",
   "metadata": {},
   "source": [
    "Filtrar as colunas de interesse"
   ]
  },
  {
   "cell_type": "code",
   "execution_count": 13,
   "metadata": {},
   "outputs": [],
   "source": [
    "est_bsb_conv_temp = df_bsb_83377_d_filtro[['Data Medicao','NUM_MÊS','MÊS','ANO','TEMPERATURA MEDIA COMPENSADA, DIARIA(°C)']]\n",
    "est_bsb_aut_temp = df_bsb_A001_d_filtro[['Data Medicao','NUM_MÊS','MÊS','ANO','TEMPERATURA MEDIA, DIARIA (AUT)(°C)']]\n",
    "est_emendadas_aut_temp = df_AguasEmendadas_A045_d_filtro[['Data Medicao','NUM_MÊS','MÊS','ANO','TEMPERATURA MEDIA, DIARIA (AUT)(°C)']]\n",
    "est_bsb_conv_temp_max = df_bsb_83377_d_filtro[['Data Medicao','NUM_MÊS','MÊS','ANO','TEMPERATURA MAXIMA, DIARIA(°C)']]\n"
   ]
  },
  {
   "cell_type": "markdown",
   "metadata": {},
   "source": [
    "Aplicar regra de negócio:\n",
    "- Regra 3: Verificar anos com registros em mais de 360 dias\n",
    "- Regra 4: Verificar quantos anos estão completos e quantos estão incompletos"
   ]
  },
  {
   "cell_type": "code",
   "execution_count": 16,
   "metadata": {},
   "outputs": [
    {
     "name": "stdout",
     "output_type": "stream",
     "text": [
      "57, 6\n"
     ]
    }
   ],
   "source": [
    "completos_bsb_conv, incompletos_bsb_conv = listar_anos_descartados(est_bsb_conv_temp, 'ANO')\n",
    "print(f'{len(completos_bsb_conv)}, {len(incompletos_bsb_conv)}')\n"
   ]
  },
  {
   "cell_type": "code",
   "execution_count": 17,
   "metadata": {},
   "outputs": [
    {
     "name": "stdout",
     "output_type": "stream",
     "text": [
      "13, 11\n"
     ]
    }
   ],
   "source": [
    "completos_bsb_aut, incompletos_bsb_aut = listar_anos_descartados(est_bsb_aut_temp, 'ANO')\n",
    "print(f'{len(completos_bsb_aut)}, {len(incompletos_bsb_aut)}')"
   ]
  },
  {
   "cell_type": "code",
   "execution_count": 18,
   "metadata": {},
   "outputs": [
    {
     "name": "stdout",
     "output_type": "stream",
     "text": [
      "7, 10\n"
     ]
    }
   ],
   "source": [
    "completos_emendadas_aut, incompletos_emendadas_aut = listar_anos_descartados(est_emendadas_aut_temp, 'ANO')\n",
    "print(f'{len(completos_emendadas_aut)}, {len(incompletos_emendadas_aut)}')"
   ]
  },
  {
   "cell_type": "code",
   "execution_count": 19,
   "metadata": {},
   "outputs": [
    {
     "name": "stdout",
     "output_type": "stream",
     "text": [
      "57, 6\n"
     ]
    }
   ],
   "source": [
    "completos_bsb_conv_max, incompletos_bsb_conv_max = listar_anos_descartados(est_bsb_conv_temp_max, 'ANO')\n",
    "print(f'{len(completos_bsb_conv_max)}, {len(incompletos_bsb_conv_max)}')"
   ]
  },
  {
   "cell_type": "markdown",
   "metadata": {},
   "source": [
    "Calcular a média da temperatura média e máxima da estação de interesse por mês"
   ]
  },
  {
   "cell_type": "code",
   "execution_count": 14,
   "metadata": {},
   "outputs": [],
   "source": [
    "df_est_bsb_conv_temp = calcular_temperatura_media_mes(est_bsb_conv_temp, ['ANO','NUM_MÊS','MÊS'], 'TEMPERATURA MEDIA COMPENSADA, DIARIA(°C)')\n",
    "df_est_bsb_aut_temp = calcular_temperatura_media_mes(est_bsb_aut_temp, ['ANO','NUM_MÊS','MÊS'], 'TEMPERATURA MEDIA, DIARIA (AUT)(°C)')\n",
    "df_est_emendadas_aut_temp = calcular_temperatura_media_mes(est_emendadas_aut_temp, ['ANO','NUM_MÊS','MÊS'], 'TEMPERATURA MEDIA, DIARIA (AUT)(°C)')\n",
    "df_est_bsb_conv_temp_max = calcular_temperatura_media_mes(est_bsb_conv_temp_max, ['ANO','NUM_MÊS','MÊS'], 'TEMPERATURA MAXIMA, DIARIA(°C)')"
   ]
  },
  {
   "cell_type": "code",
   "execution_count": null,
   "metadata": {},
   "outputs": [],
   "source": [
    "df_est_emendadas_aut_temp"
   ]
  },
  {
   "cell_type": "code",
   "execution_count": null,
   "metadata": {},
   "outputs": [],
   "source": [
    "df_est_bsb_conv_temp_max"
   ]
  },
  {
   "cell_type": "markdown",
   "metadata": {},
   "source": [
    "Calcular a média anual da temperatura média e máxima da estação de interesse para os anos completos"
   ]
  },
  {
   "cell_type": "code",
   "execution_count": 20,
   "metadata": {},
   "outputs": [],
   "source": [
    "# Aplicar filtro, ie, lista com os anos que possuem mais de 360 dias e atribuir a variável precip_mes_serie\n",
    "est_bsb_conv_temp_serie  = est_bsb_conv_temp[est_bsb_conv_temp[\"ANO\"].isin(completos_bsb_conv)]\n",
    "est_bsb_aut_temp_serie = est_bsb_aut_temp[est_bsb_aut_temp[\"ANO\"].isin(completos_bsb_aut)]\n",
    "est_emendadas_aut_temp_serie = est_emendadas_aut_temp[est_emendadas_aut_temp[\"ANO\"].isin(completos_emendadas_aut)]\n",
    "est_bsb_conv_temp_serie_max  = est_bsb_conv_temp_max[est_bsb_conv_temp_max[\"ANO\"].isin(completos_bsb_conv_max)]"
   ]
  },
  {
   "cell_type": "code",
   "execution_count": 21,
   "metadata": {},
   "outputs": [],
   "source": [
    "df_est_bsb_conv_temp_mes = calcular_temperatura_media_ano_completo(est_bsb_conv_temp_serie, ['NUM_MÊS','MÊS'], 'TEMPERATURA MEDIA COMPENSADA, DIARIA(°C)')\n",
    "df_est_bsb_aut_temp_mes = calcular_temperatura_media_ano_completo(est_bsb_aut_temp_serie, ['NUM_MÊS','MÊS'], 'TEMPERATURA MEDIA, DIARIA (AUT)(°C)')\n",
    "df_est_emendadas_aut_temp_mes = calcular_temperatura_media_ano_completo(est_emendadas_aut_temp_serie, ['NUM_MÊS','MÊS'], 'TEMPERATURA MEDIA, DIARIA (AUT)(°C)')\n",
    "df_est_bsb_conv_temp_mes_max = calcular_temperatura_media_ano_completo(est_bsb_conv_temp_serie_max, ['NUM_MÊS','MÊS'], 'TEMPERATURA MAXIMA, DIARIA(°C)')\n"
   ]
  },
  {
   "cell_type": "code",
   "execution_count": 22,
   "metadata": {},
   "outputs": [
    {
     "data": {
      "application/vnd.microsoft.datawrangler.viewer.v0+json": {
       "columns": [
        {
         "name": "index",
         "rawType": "int64",
         "type": "integer"
        },
        {
         "name": "NUM_MÊS",
         "rawType": "int64",
         "type": "integer"
        },
        {
         "name": "MÊS",
         "rawType": "object",
         "type": "string"
        },
        {
         "name": "TEMPERATURA MEDIA COMPENSADA, DIARIA(°C)",
         "rawType": "float64",
         "type": "float"
        }
       ],
       "conversionMethod": "pd.DataFrame",
       "ref": "b28960e0-7754-4296-bf16-1af93c5576b8",
       "rows": [
        [
         "0",
         "1",
         "January",
         "21.592576617480137"
        ],
        [
         "1",
         "2",
         "February",
         "21.630224159402243"
        ],
        [
         "2",
         "3",
         "March",
         "21.654971687429217"
        ],
        [
         "3",
         "4",
         "April",
         "21.24741954359274"
        ],
        [
         "4",
         "5",
         "May",
         "20.016547821165815"
        ],
        [
         "5",
         "6",
         "June",
         "18.997147887323944"
        ],
        [
         "6",
         "7",
         "July",
         "18.889710720363016"
        ],
        [
         "7",
         "8",
         "August",
         "20.707746319365796"
        ],
        [
         "8",
         "9",
         "September",
         "22.36739613809245"
        ],
        [
         "9",
         "10",
         "October",
         "22.43898074745187"
        ],
        [
         "10",
         "11",
         "November",
         "21.49482697947214"
        ],
        [
         "11",
         "12",
         "December",
         "21.427866440294284"
        ]
       ],
       "shape": {
        "columns": 3,
        "rows": 12
       }
      },
      "text/html": [
       "<div>\n",
       "<style scoped>\n",
       "    .dataframe tbody tr th:only-of-type {\n",
       "        vertical-align: middle;\n",
       "    }\n",
       "\n",
       "    .dataframe tbody tr th {\n",
       "        vertical-align: top;\n",
       "    }\n",
       "\n",
       "    .dataframe thead th {\n",
       "        text-align: right;\n",
       "    }\n",
       "</style>\n",
       "<table border=\"1\" class=\"dataframe\">\n",
       "  <thead>\n",
       "    <tr style=\"text-align: right;\">\n",
       "      <th></th>\n",
       "      <th>NUM_MÊS</th>\n",
       "      <th>MÊS</th>\n",
       "      <th>TEMPERATURA MEDIA COMPENSADA, DIARIA(°C)</th>\n",
       "    </tr>\n",
       "  </thead>\n",
       "  <tbody>\n",
       "    <tr>\n",
       "      <th>0</th>\n",
       "      <td>1</td>\n",
       "      <td>January</td>\n",
       "      <td>21.592577</td>\n",
       "    </tr>\n",
       "    <tr>\n",
       "      <th>1</th>\n",
       "      <td>2</td>\n",
       "      <td>February</td>\n",
       "      <td>21.630224</td>\n",
       "    </tr>\n",
       "    <tr>\n",
       "      <th>2</th>\n",
       "      <td>3</td>\n",
       "      <td>March</td>\n",
       "      <td>21.654972</td>\n",
       "    </tr>\n",
       "    <tr>\n",
       "      <th>3</th>\n",
       "      <td>4</td>\n",
       "      <td>April</td>\n",
       "      <td>21.247420</td>\n",
       "    </tr>\n",
       "    <tr>\n",
       "      <th>4</th>\n",
       "      <td>5</td>\n",
       "      <td>May</td>\n",
       "      <td>20.016548</td>\n",
       "    </tr>\n",
       "    <tr>\n",
       "      <th>5</th>\n",
       "      <td>6</td>\n",
       "      <td>June</td>\n",
       "      <td>18.997148</td>\n",
       "    </tr>\n",
       "    <tr>\n",
       "      <th>6</th>\n",
       "      <td>7</td>\n",
       "      <td>July</td>\n",
       "      <td>18.889711</td>\n",
       "    </tr>\n",
       "    <tr>\n",
       "      <th>7</th>\n",
       "      <td>8</td>\n",
       "      <td>August</td>\n",
       "      <td>20.707746</td>\n",
       "    </tr>\n",
       "    <tr>\n",
       "      <th>8</th>\n",
       "      <td>9</td>\n",
       "      <td>September</td>\n",
       "      <td>22.367396</td>\n",
       "    </tr>\n",
       "    <tr>\n",
       "      <th>9</th>\n",
       "      <td>10</td>\n",
       "      <td>October</td>\n",
       "      <td>22.438981</td>\n",
       "    </tr>\n",
       "    <tr>\n",
       "      <th>10</th>\n",
       "      <td>11</td>\n",
       "      <td>November</td>\n",
       "      <td>21.494827</td>\n",
       "    </tr>\n",
       "    <tr>\n",
       "      <th>11</th>\n",
       "      <td>12</td>\n",
       "      <td>December</td>\n",
       "      <td>21.427866</td>\n",
       "    </tr>\n",
       "  </tbody>\n",
       "</table>\n",
       "</div>"
      ],
      "text/plain": [
       "    NUM_MÊS        MÊS  TEMPERATURA MEDIA COMPENSADA, DIARIA(°C)\n",
       "0         1    January                                 21.592577\n",
       "1         2   February                                 21.630224\n",
       "2         3      March                                 21.654972\n",
       "3         4      April                                 21.247420\n",
       "4         5        May                                 20.016548\n",
       "5         6       June                                 18.997148\n",
       "6         7       July                                 18.889711\n",
       "7         8     August                                 20.707746\n",
       "8         9  September                                 22.367396\n",
       "9        10    October                                 22.438981\n",
       "10       11   November                                 21.494827\n",
       "11       12   December                                 21.427866"
      ]
     },
     "execution_count": 22,
     "metadata": {},
     "output_type": "execute_result"
    }
   ],
   "source": [
    "df_est_bsb_conv_temp_mes"
   ]
  },
  {
   "cell_type": "code",
   "execution_count": 23,
   "metadata": {},
   "outputs": [
    {
     "data": {
      "application/vnd.microsoft.datawrangler.viewer.v0+json": {
       "columns": [
        {
         "name": "index",
         "rawType": "int64",
         "type": "integer"
        },
        {
         "name": "NUM_MÊS",
         "rawType": "int64",
         "type": "integer"
        },
        {
         "name": "MÊS",
         "rawType": "object",
         "type": "string"
        },
        {
         "name": "TEMPERATURA MEDIA, DIARIA (AUT)(°C)",
         "rawType": "float64",
         "type": "float"
        }
       ],
       "conversionMethod": "pd.DataFrame",
       "ref": "53d51cbc-859f-4090-9974-be703d6b37d0",
       "rows": [
        [
         "0",
         "1",
         "January",
         "21.82096817794486"
        ],
        [
         "1",
         "2",
         "February",
         "21.859252945504085"
        ],
        [
         "2",
         "3",
         "March",
         "21.749433962500003"
        ],
        [
         "3",
         "4",
         "April",
         "21.545502143589744"
        ],
        [
         "4",
         "5",
         "May",
         "20.177069645161293"
        ],
        [
         "5",
         "6",
         "June",
         "19.536150146153847"
        ],
        [
         "6",
         "7",
         "July",
         "19.346515722084366"
        ],
        [
         "7",
         "8",
         "August",
         "21.253148990049752"
        ],
        [
         "8",
         "9",
         "September",
         "23.58513061696658"
        ],
        [
         "9",
         "10",
         "October",
         "23.493067841191067"
        ],
        [
         "10",
         "11",
         "November",
         "21.80603630769231"
        ],
        [
         "11",
         "12",
         "December",
         "21.84863523573201"
        ]
       ],
       "shape": {
        "columns": 3,
        "rows": 12
       }
      },
      "text/html": [
       "<div>\n",
       "<style scoped>\n",
       "    .dataframe tbody tr th:only-of-type {\n",
       "        vertical-align: middle;\n",
       "    }\n",
       "\n",
       "    .dataframe tbody tr th {\n",
       "        vertical-align: top;\n",
       "    }\n",
       "\n",
       "    .dataframe thead th {\n",
       "        text-align: right;\n",
       "    }\n",
       "</style>\n",
       "<table border=\"1\" class=\"dataframe\">\n",
       "  <thead>\n",
       "    <tr style=\"text-align: right;\">\n",
       "      <th></th>\n",
       "      <th>NUM_MÊS</th>\n",
       "      <th>MÊS</th>\n",
       "      <th>TEMPERATURA MEDIA, DIARIA (AUT)(°C)</th>\n",
       "    </tr>\n",
       "  </thead>\n",
       "  <tbody>\n",
       "    <tr>\n",
       "      <th>0</th>\n",
       "      <td>1</td>\n",
       "      <td>January</td>\n",
       "      <td>21.820968</td>\n",
       "    </tr>\n",
       "    <tr>\n",
       "      <th>1</th>\n",
       "      <td>2</td>\n",
       "      <td>February</td>\n",
       "      <td>21.859253</td>\n",
       "    </tr>\n",
       "    <tr>\n",
       "      <th>2</th>\n",
       "      <td>3</td>\n",
       "      <td>March</td>\n",
       "      <td>21.749434</td>\n",
       "    </tr>\n",
       "    <tr>\n",
       "      <th>3</th>\n",
       "      <td>4</td>\n",
       "      <td>April</td>\n",
       "      <td>21.545502</td>\n",
       "    </tr>\n",
       "    <tr>\n",
       "      <th>4</th>\n",
       "      <td>5</td>\n",
       "      <td>May</td>\n",
       "      <td>20.177070</td>\n",
       "    </tr>\n",
       "    <tr>\n",
       "      <th>5</th>\n",
       "      <td>6</td>\n",
       "      <td>June</td>\n",
       "      <td>19.536150</td>\n",
       "    </tr>\n",
       "    <tr>\n",
       "      <th>6</th>\n",
       "      <td>7</td>\n",
       "      <td>July</td>\n",
       "      <td>19.346516</td>\n",
       "    </tr>\n",
       "    <tr>\n",
       "      <th>7</th>\n",
       "      <td>8</td>\n",
       "      <td>August</td>\n",
       "      <td>21.253149</td>\n",
       "    </tr>\n",
       "    <tr>\n",
       "      <th>8</th>\n",
       "      <td>9</td>\n",
       "      <td>September</td>\n",
       "      <td>23.585131</td>\n",
       "    </tr>\n",
       "    <tr>\n",
       "      <th>9</th>\n",
       "      <td>10</td>\n",
       "      <td>October</td>\n",
       "      <td>23.493068</td>\n",
       "    </tr>\n",
       "    <tr>\n",
       "      <th>10</th>\n",
       "      <td>11</td>\n",
       "      <td>November</td>\n",
       "      <td>21.806036</td>\n",
       "    </tr>\n",
       "    <tr>\n",
       "      <th>11</th>\n",
       "      <td>12</td>\n",
       "      <td>December</td>\n",
       "      <td>21.848635</td>\n",
       "    </tr>\n",
       "  </tbody>\n",
       "</table>\n",
       "</div>"
      ],
      "text/plain": [
       "    NUM_MÊS        MÊS  TEMPERATURA MEDIA, DIARIA (AUT)(°C)\n",
       "0         1    January                            21.820968\n",
       "1         2   February                            21.859253\n",
       "2         3      March                            21.749434\n",
       "3         4      April                            21.545502\n",
       "4         5        May                            20.177070\n",
       "5         6       June                            19.536150\n",
       "6         7       July                            19.346516\n",
       "7         8     August                            21.253149\n",
       "8         9  September                            23.585131\n",
       "9        10    October                            23.493068\n",
       "10       11   November                            21.806036\n",
       "11       12   December                            21.848635"
      ]
     },
     "execution_count": 23,
     "metadata": {},
     "output_type": "execute_result"
    }
   ],
   "source": [
    "df_est_bsb_aut_temp_mes"
   ]
  },
  {
   "cell_type": "code",
   "execution_count": 24,
   "metadata": {},
   "outputs": [
    {
     "data": {
      "application/vnd.microsoft.datawrangler.viewer.v0+json": {
       "columns": [
        {
         "name": "index",
         "rawType": "int64",
         "type": "integer"
        },
        {
         "name": "NUM_MÊS",
         "rawType": "int64",
         "type": "integer"
        },
        {
         "name": "MÊS",
         "rawType": "object",
         "type": "string"
        },
        {
         "name": "TEMPERATURA MEDIA, DIARIA (AUT)(°C)",
         "rawType": "float64",
         "type": "float"
        }
       ],
       "conversionMethod": "pd.DataFrame",
       "ref": "b42e94da-1c49-4fb1-a588-ddffa6a4c0a3",
       "rows": [
        [
         "0",
         "1",
         "January",
         "21.774279550925925"
        ],
        [
         "1",
         "2",
         "February",
         "21.83451141116751"
        ],
        [
         "2",
         "3",
         "March",
         "21.803299817757008"
        ],
        [
         "3",
         "4",
         "April",
         "21.327742385714288"
        ],
        [
         "4",
         "5",
         "May",
         "20.176066599078343"
        ],
        [
         "5",
         "6",
         "June",
         "19.06368871770335"
        ],
        [
         "6",
         "7",
         "July",
         "18.931510866359446"
        ],
        [
         "7",
         "8",
         "August",
         "20.557528252336446"
        ],
        [
         "8",
         "9",
         "September",
         "22.874598"
        ],
        [
         "9",
         "10",
         "October",
         "22.88605137209302"
        ],
        [
         "10",
         "11",
         "November",
         "21.523726557142854"
        ],
        [
         "11",
         "12",
         "December",
         "21.656898115207373"
        ]
       ],
       "shape": {
        "columns": 3,
        "rows": 12
       }
      },
      "text/html": [
       "<div>\n",
       "<style scoped>\n",
       "    .dataframe tbody tr th:only-of-type {\n",
       "        vertical-align: middle;\n",
       "    }\n",
       "\n",
       "    .dataframe tbody tr th {\n",
       "        vertical-align: top;\n",
       "    }\n",
       "\n",
       "    .dataframe thead th {\n",
       "        text-align: right;\n",
       "    }\n",
       "</style>\n",
       "<table border=\"1\" class=\"dataframe\">\n",
       "  <thead>\n",
       "    <tr style=\"text-align: right;\">\n",
       "      <th></th>\n",
       "      <th>NUM_MÊS</th>\n",
       "      <th>MÊS</th>\n",
       "      <th>TEMPERATURA MEDIA, DIARIA (AUT)(°C)</th>\n",
       "    </tr>\n",
       "  </thead>\n",
       "  <tbody>\n",
       "    <tr>\n",
       "      <th>0</th>\n",
       "      <td>1</td>\n",
       "      <td>January</td>\n",
       "      <td>21.774280</td>\n",
       "    </tr>\n",
       "    <tr>\n",
       "      <th>1</th>\n",
       "      <td>2</td>\n",
       "      <td>February</td>\n",
       "      <td>21.834511</td>\n",
       "    </tr>\n",
       "    <tr>\n",
       "      <th>2</th>\n",
       "      <td>3</td>\n",
       "      <td>March</td>\n",
       "      <td>21.803300</td>\n",
       "    </tr>\n",
       "    <tr>\n",
       "      <th>3</th>\n",
       "      <td>4</td>\n",
       "      <td>April</td>\n",
       "      <td>21.327742</td>\n",
       "    </tr>\n",
       "    <tr>\n",
       "      <th>4</th>\n",
       "      <td>5</td>\n",
       "      <td>May</td>\n",
       "      <td>20.176067</td>\n",
       "    </tr>\n",
       "    <tr>\n",
       "      <th>5</th>\n",
       "      <td>6</td>\n",
       "      <td>June</td>\n",
       "      <td>19.063689</td>\n",
       "    </tr>\n",
       "    <tr>\n",
       "      <th>6</th>\n",
       "      <td>7</td>\n",
       "      <td>July</td>\n",
       "      <td>18.931511</td>\n",
       "    </tr>\n",
       "    <tr>\n",
       "      <th>7</th>\n",
       "      <td>8</td>\n",
       "      <td>August</td>\n",
       "      <td>20.557528</td>\n",
       "    </tr>\n",
       "    <tr>\n",
       "      <th>8</th>\n",
       "      <td>9</td>\n",
       "      <td>September</td>\n",
       "      <td>22.874598</td>\n",
       "    </tr>\n",
       "    <tr>\n",
       "      <th>9</th>\n",
       "      <td>10</td>\n",
       "      <td>October</td>\n",
       "      <td>22.886051</td>\n",
       "    </tr>\n",
       "    <tr>\n",
       "      <th>10</th>\n",
       "      <td>11</td>\n",
       "      <td>November</td>\n",
       "      <td>21.523727</td>\n",
       "    </tr>\n",
       "    <tr>\n",
       "      <th>11</th>\n",
       "      <td>12</td>\n",
       "      <td>December</td>\n",
       "      <td>21.656898</td>\n",
       "    </tr>\n",
       "  </tbody>\n",
       "</table>\n",
       "</div>"
      ],
      "text/plain": [
       "    NUM_MÊS        MÊS  TEMPERATURA MEDIA, DIARIA (AUT)(°C)\n",
       "0         1    January                            21.774280\n",
       "1         2   February                            21.834511\n",
       "2         3      March                            21.803300\n",
       "3         4      April                            21.327742\n",
       "4         5        May                            20.176067\n",
       "5         6       June                            19.063689\n",
       "6         7       July                            18.931511\n",
       "7         8     August                            20.557528\n",
       "8         9  September                            22.874598\n",
       "9        10    October                            22.886051\n",
       "10       11   November                            21.523727\n",
       "11       12   December                            21.656898"
      ]
     },
     "execution_count": 24,
     "metadata": {},
     "output_type": "execute_result"
    }
   ],
   "source": [
    "df_est_emendadas_aut_temp_mes"
   ]
  },
  {
   "cell_type": "code",
   "execution_count": 25,
   "metadata": {},
   "outputs": [
    {
     "data": {
      "application/vnd.microsoft.datawrangler.viewer.v0+json": {
       "columns": [
        {
         "name": "index",
         "rawType": "int64",
         "type": "integer"
        },
        {
         "name": "NUM_MÊS",
         "rawType": "int64",
         "type": "integer"
        },
        {
         "name": "MÊS",
         "rawType": "object",
         "type": "string"
        },
        {
         "name": "TEMPERATURA MAXIMA, DIARIA(°C)",
         "rawType": "float64",
         "type": "float"
        }
       ],
       "conversionMethod": "pd.DataFrame",
       "ref": "9bc6cf08-f487-4e26-b0c9-795c10ce610e",
       "rows": [
        [
         "0",
         "1",
         "January",
         "26.856842703009654"
        ],
        [
         "1",
         "2",
         "February",
         "27.000373599003733"
        ],
        [
         "2",
         "3",
         "March",
         "27.0922335600907"
        ],
        [
         "3",
         "4",
         "April",
         "26.753598595669985"
        ],
        [
         "4",
         "5",
         "May",
         "25.983814374646293"
        ],
        [
         "5",
         "6",
         "June",
         "25.35839201877934"
        ],
        [
         "6",
         "7",
         "July",
         "25.492115711854794"
        ],
        [
         "7",
         "8",
         "August",
         "27.436523216308043"
        ],
        [
         "8",
         "9",
         "September",
         "28.86418958455237"
        ],
        [
         "9",
         "10",
         "October",
         "28.373964832671586"
        ],
        [
         "10",
         "11",
         "November",
         "26.836950146627565"
        ],
        [
         "11",
         "12",
         "December",
         "26.610016977928694"
        ]
       ],
       "shape": {
        "columns": 3,
        "rows": 12
       }
      },
      "text/html": [
       "<div>\n",
       "<style scoped>\n",
       "    .dataframe tbody tr th:only-of-type {\n",
       "        vertical-align: middle;\n",
       "    }\n",
       "\n",
       "    .dataframe tbody tr th {\n",
       "        vertical-align: top;\n",
       "    }\n",
       "\n",
       "    .dataframe thead th {\n",
       "        text-align: right;\n",
       "    }\n",
       "</style>\n",
       "<table border=\"1\" class=\"dataframe\">\n",
       "  <thead>\n",
       "    <tr style=\"text-align: right;\">\n",
       "      <th></th>\n",
       "      <th>NUM_MÊS</th>\n",
       "      <th>MÊS</th>\n",
       "      <th>TEMPERATURA MAXIMA, DIARIA(°C)</th>\n",
       "    </tr>\n",
       "  </thead>\n",
       "  <tbody>\n",
       "    <tr>\n",
       "      <th>0</th>\n",
       "      <td>1</td>\n",
       "      <td>January</td>\n",
       "      <td>26.856843</td>\n",
       "    </tr>\n",
       "    <tr>\n",
       "      <th>1</th>\n",
       "      <td>2</td>\n",
       "      <td>February</td>\n",
       "      <td>27.000374</td>\n",
       "    </tr>\n",
       "    <tr>\n",
       "      <th>2</th>\n",
       "      <td>3</td>\n",
       "      <td>March</td>\n",
       "      <td>27.092234</td>\n",
       "    </tr>\n",
       "    <tr>\n",
       "      <th>3</th>\n",
       "      <td>4</td>\n",
       "      <td>April</td>\n",
       "      <td>26.753599</td>\n",
       "    </tr>\n",
       "    <tr>\n",
       "      <th>4</th>\n",
       "      <td>5</td>\n",
       "      <td>May</td>\n",
       "      <td>25.983814</td>\n",
       "    </tr>\n",
       "    <tr>\n",
       "      <th>5</th>\n",
       "      <td>6</td>\n",
       "      <td>June</td>\n",
       "      <td>25.358392</td>\n",
       "    </tr>\n",
       "    <tr>\n",
       "      <th>6</th>\n",
       "      <td>7</td>\n",
       "      <td>July</td>\n",
       "      <td>25.492116</td>\n",
       "    </tr>\n",
       "    <tr>\n",
       "      <th>7</th>\n",
       "      <td>8</td>\n",
       "      <td>August</td>\n",
       "      <td>27.436523</td>\n",
       "    </tr>\n",
       "    <tr>\n",
       "      <th>8</th>\n",
       "      <td>9</td>\n",
       "      <td>September</td>\n",
       "      <td>28.864190</td>\n",
       "    </tr>\n",
       "    <tr>\n",
       "      <th>9</th>\n",
       "      <td>10</td>\n",
       "      <td>October</td>\n",
       "      <td>28.373965</td>\n",
       "    </tr>\n",
       "    <tr>\n",
       "      <th>10</th>\n",
       "      <td>11</td>\n",
       "      <td>November</td>\n",
       "      <td>26.836950</td>\n",
       "    </tr>\n",
       "    <tr>\n",
       "      <th>11</th>\n",
       "      <td>12</td>\n",
       "      <td>December</td>\n",
       "      <td>26.610017</td>\n",
       "    </tr>\n",
       "  </tbody>\n",
       "</table>\n",
       "</div>"
      ],
      "text/plain": [
       "    NUM_MÊS        MÊS  TEMPERATURA MAXIMA, DIARIA(°C)\n",
       "0         1    January                       26.856843\n",
       "1         2   February                       27.000374\n",
       "2         3      March                       27.092234\n",
       "3         4      April                       26.753599\n",
       "4         5        May                       25.983814\n",
       "5         6       June                       25.358392\n",
       "6         7       July                       25.492116\n",
       "7         8     August                       27.436523\n",
       "8         9  September                       28.864190\n",
       "9        10    October                       28.373965\n",
       "10       11   November                       26.836950\n",
       "11       12   December                       26.610017"
      ]
     },
     "execution_count": 25,
     "metadata": {},
     "output_type": "execute_result"
    }
   ],
   "source": [
    "df_est_bsb_conv_temp_mes_max"
   ]
  },
  {
   "cell_type": "markdown",
   "metadata": {},
   "source": [
    "Visualizar os resultados"
   ]
  },
  {
   "cell_type": "code",
   "execution_count": 28,
   "metadata": {},
   "outputs": [
    {
     "data": {
      "text/plain": [
       "21.038784588452803"
      ]
     },
     "execution_count": 28,
     "metadata": {},
     "output_type": "execute_result"
    }
   ],
   "source": [
    "df_est_bsb_conv_temp_mes['TEMPERATURA MEDIA COMPENSADA, DIARIA(°C)'].mean()"
   ]
  },
  {
   "cell_type": "code",
   "execution_count": null,
   "metadata": {},
   "outputs": [
    {
     "data": {
      "text/plain": [
       "26.888251276761892"
      ]
     },
     "execution_count": 29,
     "metadata": {},
     "output_type": "execute_result"
    }
   ],
   "source": []
  },
  {
   "cell_type": "code",
   "execution_count": 26,
   "metadata": {},
   "outputs": [
    {
     "data": {
      "application/vnd.plotly.v1+json": {
       "config": {
        "plotlyServerURL": "https://plot.ly"
       },
       "data": [
        {
         "mode": "lines+markers",
         "name": "Estação Convencional Inmet (1961 - 2023)",
         "type": "scatter",
         "x": [
          "January",
          "February",
          "March",
          "April",
          "May",
          "June",
          "July",
          "August",
          "September",
          "October",
          "November",
          "December"
         ],
         "y": [
          21.59,
          21.63,
          21.65,
          21.25,
          20.02,
          19,
          18.89,
          20.71,
          22.37,
          22.44,
          21.49,
          21.43
         ]
        },
        {
         "mode": "lines+markers",
         "name": "Estação Automática Inmet (2000 - 2023)",
         "type": "scatter",
         "x": [
          "January",
          "February",
          "March",
          "April",
          "May",
          "June",
          "July",
          "August",
          "September",
          "October",
          "November",
          "December"
         ],
         "y": [
          21.82,
          21.86,
          21.75,
          21.55,
          20.18,
          19.54,
          19.35,
          21.25,
          23.59,
          23.49,
          21.81,
          21.85
         ]
        },
        {
         "mode": "lines+markers",
         "name": "Estação Automática Águas Emendadas (2008 - 2023)",
         "type": "scatter",
         "x": [
          "January",
          "February",
          "March",
          "April",
          "May",
          "June",
          "July",
          "August",
          "September",
          "October",
          "November",
          "December"
         ],
         "y": [
          21.77,
          21.83,
          21.8,
          21.33,
          20.18,
          19.06,
          18.93,
          20.56,
          22.87,
          22.89,
          21.52,
          21.66
         ]
        },
        {
         "mode": "lines+markers",
         "name": "Tem. Max Estação Convencional Inmet (1961 - 2023)",
         "type": "scatter",
         "x": [
          "January",
          "February",
          "March",
          "April",
          "May",
          "June",
          "July",
          "August",
          "September",
          "October",
          "November",
          "December"
         ],
         "y": [
          26.86,
          27,
          27.09,
          26.75,
          25.98,
          25.36,
          25.49,
          27.44,
          28.86,
          28.37,
          26.84,
          26.61
         ]
        }
       ],
       "layout": {
        "template": {
         "data": {
          "bar": [
           {
            "error_x": {
             "color": "#2a3f5f"
            },
            "error_y": {
             "color": "#2a3f5f"
            },
            "marker": {
             "line": {
              "color": "#E5ECF6",
              "width": 0.5
             },
             "pattern": {
              "fillmode": "overlay",
              "size": 10,
              "solidity": 0.2
             }
            },
            "type": "bar"
           }
          ],
          "barpolar": [
           {
            "marker": {
             "line": {
              "color": "#E5ECF6",
              "width": 0.5
             },
             "pattern": {
              "fillmode": "overlay",
              "size": 10,
              "solidity": 0.2
             }
            },
            "type": "barpolar"
           }
          ],
          "carpet": [
           {
            "aaxis": {
             "endlinecolor": "#2a3f5f",
             "gridcolor": "white",
             "linecolor": "white",
             "minorgridcolor": "white",
             "startlinecolor": "#2a3f5f"
            },
            "baxis": {
             "endlinecolor": "#2a3f5f",
             "gridcolor": "white",
             "linecolor": "white",
             "minorgridcolor": "white",
             "startlinecolor": "#2a3f5f"
            },
            "type": "carpet"
           }
          ],
          "choropleth": [
           {
            "colorbar": {
             "outlinewidth": 0,
             "ticks": ""
            },
            "type": "choropleth"
           }
          ],
          "contour": [
           {
            "colorbar": {
             "outlinewidth": 0,
             "ticks": ""
            },
            "colorscale": [
             [
              0,
              "#0d0887"
             ],
             [
              0.1111111111111111,
              "#46039f"
             ],
             [
              0.2222222222222222,
              "#7201a8"
             ],
             [
              0.3333333333333333,
              "#9c179e"
             ],
             [
              0.4444444444444444,
              "#bd3786"
             ],
             [
              0.5555555555555556,
              "#d8576b"
             ],
             [
              0.6666666666666666,
              "#ed7953"
             ],
             [
              0.7777777777777778,
              "#fb9f3a"
             ],
             [
              0.8888888888888888,
              "#fdca26"
             ],
             [
              1,
              "#f0f921"
             ]
            ],
            "type": "contour"
           }
          ],
          "contourcarpet": [
           {
            "colorbar": {
             "outlinewidth": 0,
             "ticks": ""
            },
            "type": "contourcarpet"
           }
          ],
          "heatmap": [
           {
            "colorbar": {
             "outlinewidth": 0,
             "ticks": ""
            },
            "colorscale": [
             [
              0,
              "#0d0887"
             ],
             [
              0.1111111111111111,
              "#46039f"
             ],
             [
              0.2222222222222222,
              "#7201a8"
             ],
             [
              0.3333333333333333,
              "#9c179e"
             ],
             [
              0.4444444444444444,
              "#bd3786"
             ],
             [
              0.5555555555555556,
              "#d8576b"
             ],
             [
              0.6666666666666666,
              "#ed7953"
             ],
             [
              0.7777777777777778,
              "#fb9f3a"
             ],
             [
              0.8888888888888888,
              "#fdca26"
             ],
             [
              1,
              "#f0f921"
             ]
            ],
            "type": "heatmap"
           }
          ],
          "heatmapgl": [
           {
            "colorbar": {
             "outlinewidth": 0,
             "ticks": ""
            },
            "colorscale": [
             [
              0,
              "#0d0887"
             ],
             [
              0.1111111111111111,
              "#46039f"
             ],
             [
              0.2222222222222222,
              "#7201a8"
             ],
             [
              0.3333333333333333,
              "#9c179e"
             ],
             [
              0.4444444444444444,
              "#bd3786"
             ],
             [
              0.5555555555555556,
              "#d8576b"
             ],
             [
              0.6666666666666666,
              "#ed7953"
             ],
             [
              0.7777777777777778,
              "#fb9f3a"
             ],
             [
              0.8888888888888888,
              "#fdca26"
             ],
             [
              1,
              "#f0f921"
             ]
            ],
            "type": "heatmapgl"
           }
          ],
          "histogram": [
           {
            "marker": {
             "pattern": {
              "fillmode": "overlay",
              "size": 10,
              "solidity": 0.2
             }
            },
            "type": "histogram"
           }
          ],
          "histogram2d": [
           {
            "colorbar": {
             "outlinewidth": 0,
             "ticks": ""
            },
            "colorscale": [
             [
              0,
              "#0d0887"
             ],
             [
              0.1111111111111111,
              "#46039f"
             ],
             [
              0.2222222222222222,
              "#7201a8"
             ],
             [
              0.3333333333333333,
              "#9c179e"
             ],
             [
              0.4444444444444444,
              "#bd3786"
             ],
             [
              0.5555555555555556,
              "#d8576b"
             ],
             [
              0.6666666666666666,
              "#ed7953"
             ],
             [
              0.7777777777777778,
              "#fb9f3a"
             ],
             [
              0.8888888888888888,
              "#fdca26"
             ],
             [
              1,
              "#f0f921"
             ]
            ],
            "type": "histogram2d"
           }
          ],
          "histogram2dcontour": [
           {
            "colorbar": {
             "outlinewidth": 0,
             "ticks": ""
            },
            "colorscale": [
             [
              0,
              "#0d0887"
             ],
             [
              0.1111111111111111,
              "#46039f"
             ],
             [
              0.2222222222222222,
              "#7201a8"
             ],
             [
              0.3333333333333333,
              "#9c179e"
             ],
             [
              0.4444444444444444,
              "#bd3786"
             ],
             [
              0.5555555555555556,
              "#d8576b"
             ],
             [
              0.6666666666666666,
              "#ed7953"
             ],
             [
              0.7777777777777778,
              "#fb9f3a"
             ],
             [
              0.8888888888888888,
              "#fdca26"
             ],
             [
              1,
              "#f0f921"
             ]
            ],
            "type": "histogram2dcontour"
           }
          ],
          "mesh3d": [
           {
            "colorbar": {
             "outlinewidth": 0,
             "ticks": ""
            },
            "type": "mesh3d"
           }
          ],
          "parcoords": [
           {
            "line": {
             "colorbar": {
              "outlinewidth": 0,
              "ticks": ""
             }
            },
            "type": "parcoords"
           }
          ],
          "pie": [
           {
            "automargin": true,
            "type": "pie"
           }
          ],
          "scatter": [
           {
            "fillpattern": {
             "fillmode": "overlay",
             "size": 10,
             "solidity": 0.2
            },
            "type": "scatter"
           }
          ],
          "scatter3d": [
           {
            "line": {
             "colorbar": {
              "outlinewidth": 0,
              "ticks": ""
             }
            },
            "marker": {
             "colorbar": {
              "outlinewidth": 0,
              "ticks": ""
             }
            },
            "type": "scatter3d"
           }
          ],
          "scattercarpet": [
           {
            "marker": {
             "colorbar": {
              "outlinewidth": 0,
              "ticks": ""
             }
            },
            "type": "scattercarpet"
           }
          ],
          "scattergeo": [
           {
            "marker": {
             "colorbar": {
              "outlinewidth": 0,
              "ticks": ""
             }
            },
            "type": "scattergeo"
           }
          ],
          "scattergl": [
           {
            "marker": {
             "colorbar": {
              "outlinewidth": 0,
              "ticks": ""
             }
            },
            "type": "scattergl"
           }
          ],
          "scattermapbox": [
           {
            "marker": {
             "colorbar": {
              "outlinewidth": 0,
              "ticks": ""
             }
            },
            "type": "scattermapbox"
           }
          ],
          "scatterpolar": [
           {
            "marker": {
             "colorbar": {
              "outlinewidth": 0,
              "ticks": ""
             }
            },
            "type": "scatterpolar"
           }
          ],
          "scatterpolargl": [
           {
            "marker": {
             "colorbar": {
              "outlinewidth": 0,
              "ticks": ""
             }
            },
            "type": "scatterpolargl"
           }
          ],
          "scatterternary": [
           {
            "marker": {
             "colorbar": {
              "outlinewidth": 0,
              "ticks": ""
             }
            },
            "type": "scatterternary"
           }
          ],
          "surface": [
           {
            "colorbar": {
             "outlinewidth": 0,
             "ticks": ""
            },
            "colorscale": [
             [
              0,
              "#0d0887"
             ],
             [
              0.1111111111111111,
              "#46039f"
             ],
             [
              0.2222222222222222,
              "#7201a8"
             ],
             [
              0.3333333333333333,
              "#9c179e"
             ],
             [
              0.4444444444444444,
              "#bd3786"
             ],
             [
              0.5555555555555556,
              "#d8576b"
             ],
             [
              0.6666666666666666,
              "#ed7953"
             ],
             [
              0.7777777777777778,
              "#fb9f3a"
             ],
             [
              0.8888888888888888,
              "#fdca26"
             ],
             [
              1,
              "#f0f921"
             ]
            ],
            "type": "surface"
           }
          ],
          "table": [
           {
            "cells": {
             "fill": {
              "color": "#EBF0F8"
             },
             "line": {
              "color": "white"
             }
            },
            "header": {
             "fill": {
              "color": "#C8D4E3"
             },
             "line": {
              "color": "white"
             }
            },
            "type": "table"
           }
          ]
         },
         "layout": {
          "annotationdefaults": {
           "arrowcolor": "#2a3f5f",
           "arrowhead": 0,
           "arrowwidth": 1
          },
          "autotypenumbers": "strict",
          "coloraxis": {
           "colorbar": {
            "outlinewidth": 0,
            "ticks": ""
           }
          },
          "colorscale": {
           "diverging": [
            [
             0,
             "#8e0152"
            ],
            [
             0.1,
             "#c51b7d"
            ],
            [
             0.2,
             "#de77ae"
            ],
            [
             0.3,
             "#f1b6da"
            ],
            [
             0.4,
             "#fde0ef"
            ],
            [
             0.5,
             "#f7f7f7"
            ],
            [
             0.6,
             "#e6f5d0"
            ],
            [
             0.7,
             "#b8e186"
            ],
            [
             0.8,
             "#7fbc41"
            ],
            [
             0.9,
             "#4d9221"
            ],
            [
             1,
             "#276419"
            ]
           ],
           "sequential": [
            [
             0,
             "#0d0887"
            ],
            [
             0.1111111111111111,
             "#46039f"
            ],
            [
             0.2222222222222222,
             "#7201a8"
            ],
            [
             0.3333333333333333,
             "#9c179e"
            ],
            [
             0.4444444444444444,
             "#bd3786"
            ],
            [
             0.5555555555555556,
             "#d8576b"
            ],
            [
             0.6666666666666666,
             "#ed7953"
            ],
            [
             0.7777777777777778,
             "#fb9f3a"
            ],
            [
             0.8888888888888888,
             "#fdca26"
            ],
            [
             1,
             "#f0f921"
            ]
           ],
           "sequentialminus": [
            [
             0,
             "#0d0887"
            ],
            [
             0.1111111111111111,
             "#46039f"
            ],
            [
             0.2222222222222222,
             "#7201a8"
            ],
            [
             0.3333333333333333,
             "#9c179e"
            ],
            [
             0.4444444444444444,
             "#bd3786"
            ],
            [
             0.5555555555555556,
             "#d8576b"
            ],
            [
             0.6666666666666666,
             "#ed7953"
            ],
            [
             0.7777777777777778,
             "#fb9f3a"
            ],
            [
             0.8888888888888888,
             "#fdca26"
            ],
            [
             1,
             "#f0f921"
            ]
           ]
          },
          "colorway": [
           "#636efa",
           "#EF553B",
           "#00cc96",
           "#ab63fa",
           "#FFA15A",
           "#19d3f3",
           "#FF6692",
           "#B6E880",
           "#FF97FF",
           "#FECB52"
          ],
          "font": {
           "color": "#2a3f5f"
          },
          "geo": {
           "bgcolor": "white",
           "lakecolor": "white",
           "landcolor": "#E5ECF6",
           "showlakes": true,
           "showland": true,
           "subunitcolor": "white"
          },
          "hoverlabel": {
           "align": "left"
          },
          "hovermode": "closest",
          "mapbox": {
           "style": "light"
          },
          "paper_bgcolor": "white",
          "plot_bgcolor": "#E5ECF6",
          "polar": {
           "angularaxis": {
            "gridcolor": "white",
            "linecolor": "white",
            "ticks": ""
           },
           "bgcolor": "#E5ECF6",
           "radialaxis": {
            "gridcolor": "white",
            "linecolor": "white",
            "ticks": ""
           }
          },
          "scene": {
           "xaxis": {
            "backgroundcolor": "#E5ECF6",
            "gridcolor": "white",
            "gridwidth": 2,
            "linecolor": "white",
            "showbackground": true,
            "ticks": "",
            "zerolinecolor": "white"
           },
           "yaxis": {
            "backgroundcolor": "#E5ECF6",
            "gridcolor": "white",
            "gridwidth": 2,
            "linecolor": "white",
            "showbackground": true,
            "ticks": "",
            "zerolinecolor": "white"
           },
           "zaxis": {
            "backgroundcolor": "#E5ECF6",
            "gridcolor": "white",
            "gridwidth": 2,
            "linecolor": "white",
            "showbackground": true,
            "ticks": "",
            "zerolinecolor": "white"
           }
          },
          "shapedefaults": {
           "line": {
            "color": "#2a3f5f"
           }
          },
          "ternary": {
           "aaxis": {
            "gridcolor": "white",
            "linecolor": "white",
            "ticks": ""
           },
           "baxis": {
            "gridcolor": "white",
            "linecolor": "white",
            "ticks": ""
           },
           "bgcolor": "#E5ECF6",
           "caxis": {
            "gridcolor": "white",
            "linecolor": "white",
            "ticks": ""
           }
          },
          "title": {
           "x": 0.05
          },
          "xaxis": {
           "automargin": true,
           "gridcolor": "white",
           "linecolor": "white",
           "ticks": "",
           "title": {
            "standoff": 15
           },
           "zerolinecolor": "white",
           "zerolinewidth": 2
          },
          "yaxis": {
           "automargin": true,
           "gridcolor": "white",
           "linecolor": "white",
           "ticks": "",
           "title": {
            "standoff": 15
           },
           "zerolinecolor": "white",
           "zerolinewidth": 2
          }
         }
        },
        "title": {
         "text": "Média da Temperatura Média Mensal - Estação Convencional Inmet (1961 - 2023)"
        },
        "xaxis": {
         "title": {
          "text": "Mês"
         }
        },
        "yaxis": {
         "title": {
          "text": "Temperatura Média (°C)"
         }
        }
       }
      }
     },
     "metadata": {},
     "output_type": "display_data"
    }
   ],
   "source": [
    "fig = go.Figure()\n",
    "\n",
    "fig.add_trace(go.Scatter(x=df_est_bsb_conv_temp_mes['MÊS'], \n",
    "                         y=round(df_est_bsb_conv_temp_mes['TEMPERATURA MEDIA COMPENSADA, DIARIA(°C)'],2), \n",
    "                         mode='lines+markers', \n",
    "                         name='Estação Convencional Inmet (1961 - 2023)'))\n",
    "fig.add_trace(go.Scatter(x=df_est_bsb_aut_temp_mes['MÊS'],\n",
    "                         y=round(df_est_bsb_aut_temp_mes['TEMPERATURA MEDIA, DIARIA (AUT)(°C)'],2), \n",
    "                         mode='lines+markers', \n",
    "                         name= 'Estação Automática Inmet (2000 - 2023)'))\n",
    "fig.add_trace(go.Scatter(x=df_est_emendadas_aut_temp_mes['MÊS'], \n",
    "                         y=round(df_est_emendadas_aut_temp_mes['TEMPERATURA MEDIA, DIARIA (AUT)(°C)'],2), \n",
    "                         mode='lines+markers', \n",
    "                         name='Estação Automática Águas Emendadas (2008 - 2023)'))\n",
    "\n",
    "fig.add_trace(go.Scatter(x=df_est_bsb_conv_temp_mes_max['MÊS'], \n",
    "                         y=round(df_est_bsb_conv_temp_mes_max['TEMPERATURA MAXIMA, DIARIA(°C)'],2), \n",
    "                         mode='lines+markers', \n",
    "                         name='Tem. Max Estação Convencional Inmet (1961 - 2023)'))\n",
    "\n",
    "fig.update_layout(title='Média da Temperatura Média Mensal - Estação Convencional Inmet (1961 - 2023)', xaxis_title='Mês', yaxis_title='Temperatura Média (°C)')"
   ]
  },
  {
   "cell_type": "markdown",
   "metadata": {},
   "source": [
    "Valor médio da série tratada"
   ]
  },
  {
   "cell_type": "code",
   "execution_count": 27,
   "metadata": {},
   "outputs": [
    {
     "name": "stdout",
     "output_type": "stream",
     "text": [
      "Média da temperatura média - Est. Convencional Inmet: 21.038784588452803\n",
      "Média da temperatura máxima - Est. Convencional Inmet: 26.893576961867993\n",
      "Média da temperatura média - Est. Automática Inmet: 21.50174264454749\n",
      "Média da temperatura média - Est. Automática Águas Emendadas: 21.200825137123797\n"
     ]
    }
   ],
   "source": [
    "print(\"Média da temperatura média - Est. Convencional Inmet: {}\\n\"\n",
    "      \"Média da temperatura máxima - Est. Convencional Inmet: {}\\n\"\n",
    "            \"Média da temperatura média - Est. Automática Inmet: {}\\n\"\n",
    "            \"Média da temperatura média - Est. Automática Águas Emendadas: {}\".format(\n",
    "        df_est_bsb_conv_temp_mes['TEMPERATURA MEDIA COMPENSADA, DIARIA(°C)'].mean(),\n",
    "        df_est_bsb_conv_temp_max['TEMPERATURA MAXIMA, DIARIA(°C)'].mean(),\n",
    "        df_est_bsb_aut_temp_mes['TEMPERATURA MEDIA, DIARIA (AUT)(°C)'].mean(),\n",
    "        df_est_emendadas_aut_temp_mes['TEMPERATURA MEDIA, DIARIA (AUT)(°C)'].mean()\n",
    "))                                                                                                                                                                                                                                                                                           \n"
   ]
  },
  {
   "cell_type": "markdown",
   "metadata": {},
   "source": [
    "Valor de UHI usado o Urban Cooling Index (UCI) = 1 - (TmédiaReferencia/TMaxmédiaUrbana)"
   ]
  },
  {
   "cell_type": "code",
   "execution_count": null,
   "metadata": {},
   "outputs": [],
   "source": [
    "df_est_emendadas_aut_temp_mes['TEMPERATURA MINIMA, DIARIA (AUT)(°C)'].describe()"
   ]
  },
  {
   "cell_type": "code",
   "execution_count": null,
   "metadata": {},
   "outputs": [],
   "source": [
    "df_bsb_A001_d.columns"
   ]
  },
  {
   "cell_type": "code",
   "execution_count": null,
   "metadata": {},
   "outputs": [],
   "source": [
    "df_bsb_83377_d.nlargest(5,'TEMPERATURA MEDIA COMPENSADA, DIARIA(°C)')"
   ]
  },
  {
   "cell_type": "code",
   "execution_count": null,
   "metadata": {},
   "outputs": [],
   "source": [
    "df_bsb_A001_d.nlargest(100,'TEMPERATURA MAXIMA, DIARIA (AUT)(°C)')\n"
   ]
  },
  {
   "cell_type": "code",
   "execution_count": null,
   "metadata": {},
   "outputs": [],
   "source": [
    "df_bsb_A001_d['TEMPERATURA MAXIMA, DIARIA (AUT)(°C)'].std()"
   ]
  },
  {
   "cell_type": "code",
   "execution_count": null,
   "metadata": {},
   "outputs": [],
   "source": [
    "df_bsb_A001_d['TEMPERATURA MAXIMA, DIARIA (AUT)(°C)'].describe()"
   ]
  },
  {
   "cell_type": "code",
   "execution_count": null,
   "metadata": {},
   "outputs": [],
   "source": [
    "#UHI: Diferença entre a tempertura rural de referencia e a temperatura máxima observada na cidade\n",
    "UHI = df_est_bsb_conv_temp_mes_max['TEMPERATURA MAXIMA, DIARIA(°C)'].mean() - df_est_emendadas_aut_temp_mes['TEMPERATURA MEDIA, DIARIA (AUT)(°C)'].mean()\n",
    "UHI"
   ]
  }
 ],
 "metadata": {
  "kernelspec": {
   "display_name": "base",
   "language": "python",
   "name": "python3"
  },
  "language_info": {
   "codemirror_mode": {
    "name": "ipython",
    "version": 3
   },
   "file_extension": ".py",
   "mimetype": "text/x-python",
   "name": "python",
   "nbconvert_exporter": "python",
   "pygments_lexer": "ipython3",
   "version": "3.11.8"
  }
 },
 "nbformat": 4,
 "nbformat_minor": 2
}
