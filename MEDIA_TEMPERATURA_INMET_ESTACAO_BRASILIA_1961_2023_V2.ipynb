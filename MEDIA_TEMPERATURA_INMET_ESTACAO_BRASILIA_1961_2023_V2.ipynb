{
 "cells": [
  {
   "cell_type": "code",
   "execution_count": 2,
   "metadata": {},
   "outputs": [],
   "source": [
    "\"\"\"\n",
    "Os dados utilizados para a análise foram obtidos do site do INMET (Instituto Nacional de Meteorologia) e estão disponíveis em: https://bdmep.inmet.gov.br/#\n",
    "Para realizar a análise, é necessário baixar os dados das estações meteorológicas de interesse e salvá-los no mesmo diretório do código.\n",
    "\n",
    "O objetivo princiapal é analisar a temperatura média das estações meteorológicas de interesse e compará-las com o gráfico de temperatura média do INMET. O valor escolhido\n",
    "será entrada para a varíavel Reference Air Temeprature (°C) do modelo Urban Cooling do InVEST.\n",
    "\n",
    "\"\"\"\n",
    "# Bibliotecas utilizadas para a análise dos dados climáticos\n",
    "import os # Biblioteca para manipulação de arquivos\n",
    "import pandas as pd # Biblioteca para manipulação de dados\n",
    "import plotly.graph_objects as go # Biblioteca para plotagem de gráficos"
   ]
  },
  {
   "cell_type": "code",
   "execution_count": 22,
   "metadata": {},
   "outputs": [],
   "source": [
    "# Caminho do arquivo\n",
    "def caminho_arquivo(nome_arquivo: str):\n",
    "    return os.path.join(os.getcwd(), nome_arquivo)\n",
    "\n",
    "# Carregar dados do arquivo CSV\n",
    "def carregar_dados_csv(caminho_arquivo: str):\n",
    "    return pd.read_csv(caminho_arquivo, delimiter=';', skiprows=10)\n",
    "\n",
    "# Contar valores nodata a partir de uma coluna de interesse\n",
    "def contar_valores_nodata(df: pd.DataFrame, coluna: str):\n",
    "    isna = df[coluna].isna()\n",
    "    notna = df[coluna].notna()\n",
    "    return f'Completo: {len(df[coluna])} | Vazios: Com vazios: {isna.sum()}  | Sem vazios: {notna.sum()}'\n",
    "\n",
    "# Filtrar dados não nulos\n",
    "def filtrar_dados_notNaN(df: pd.DataFrame, coluna: str):\n",
    "    notna = df[coluna].notna()\n",
    "    return df[notna]\n",
    "\n",
    "# Inserir coluna com o número do mês\n",
    "def inserir_mes_ano(df: pd.DataFrame, coluna: str):\n",
    "    df_copy = df.copy()\n",
    "    df_copy[coluna] = pd.to_datetime(df_copy[coluna]) # Converter a coluna para o formato de data\n",
    "    nm_mes = df_copy[coluna].dt.strftime(\"%B\") # Extrair o nome do mês\n",
    "    ano = df_copy[coluna].dt.strftime(\"%Y\") # Extrair o ano\n",
    "\n",
    "    df_copy.insert(1,\"MÊS\",nm_mes) # Inserir na 1ª posição a coluna com o nome do mês\n",
    "    df_copy.insert(2,\"ANO\",ano) # Inserir na 1ª posição a coluna com o ano\n",
    "\n",
    "    return df_copy\n",
    "\n",
    "# Inserir coluna com o número do mês e orderar\n",
    "def inserir_numero_mes(df: pd.DataFrame):\n",
    "    df_copy = df.copy()\n",
    "\n",
    "    # Definir um dicionário com o número do mês\n",
    "    dt_number = {'': 0,\n",
    "                'January': 1,\n",
    "                'February': 2,\n",
    "                'March': 3,\n",
    "                'April': 4,\n",
    "                'May': 5,\n",
    "                'June': 6,\n",
    "                'July': 7,\n",
    "                'August': 8,\n",
    "                'September': 9,\n",
    "                'October': 10,\n",
    "                'November': 11,\n",
    "                'December': 12\n",
    "                }\n",
    "\n",
    "    # Relacionar o número do mês com o nome do mês e atribuir a varíavel num_mes\n",
    "    num_mes = df_copy['MÊS'].apply(lambda x: dt_number[x])\n",
    "\n",
    "    df_copy.insert(1,\"NUM_MÊS\",num_mes) # Inserir na 1ª posição a coluna com o número do mês\n",
    "\n",
    "    df_copy = df_copy.sort_values(by=['NUM_MÊS']) # Ordenar os dados pela coluna NUM_MÊS\n",
    "\n",
    "    return df_copy\n",
    "\n",
    "# Anos que possuem menos de 360 dias de dados de temperatura média\n",
    "def listar_anos_descartados(df: pd.DataFrame, coluna: str):\n",
    "    df_copy = df.copy()\n",
    "\n",
    "    qtd_dias_ano = df_copy.groupby([coluna]).count() # Contar a quantidade de dias de medição por ano\n",
    "    qtd_dias_ano = qtd_dias_ano.reset_index() # Resetar o índice\n",
    "\n",
    "    qtd_dias_ano = qtd_dias_ano.iloc[:,0:2] # Selecionar as colunas de interesse\n",
    "    qtd_dias_ano = qtd_dias_ano.rename(columns={\"Data Medicao\": \"Dias\"}) # Renomear a coluna\n",
    "\n",
    "    l_ano_maior = qtd_dias_ano[qtd_dias_ano['Dias'] > 360]['ANO'].tolist()   # Anos com mais de 360 dias de medição\n",
    "    l_ano_menor = qtd_dias_ano[qtd_dias_ano['Dias'] < 360]['ANO'].tolist() # Anos com menos de 360 dias de medição\n",
    "    \n",
    "    return l_ano_maior, l_ano_menor\n",
    "\n",
    "def df_temperatura_media_mes(df: pd.DataFrame, colunas: list, coluna: str):\n",
    "    df_copy = df.copy()\n",
    "\n",
    "    # Média da Temperatural Mensal para cada ano e mês da série temporal\n",
    "    temp_mes_serie = df_copy.groupby(colunas)[coluna].mean().reset_index()\n",
    "    return temp_mes_serie\n",
    "\n",
    "def df_temperatura_media_ano_completo(df: pd.DataFrame, colunas: list, coluna: str):\n",
    "    df_copy = df.copy()\n",
    "\n",
    "    # Média da Temperatural Mensal para cada ano e mês da série temporal\n",
    "    temp_mes = df_copy.groupby(colunas)[coluna].mean()\n",
    "\n",
    "    df2 = pd.DataFrame(temp_mes)\n",
    "    df2 = df2.reset_index()\n",
    "    return df2"
   ]
  },
  {
   "cell_type": "code",
   "execution_count": 4,
   "metadata": {},
   "outputs": [],
   "source": [
    "\n",
    "# Carregar os dados do arquivo excel a um df \n",
    "df_bsb_83377_d = carregar_dados_csv(caminho_arquivo('dados_83377_D_1961-09-11_2024-03-14.csv')) # Estação Convêncional do Inmet Brasília - 83377\n",
    "df_bsb_A001_d = carregar_dados_csv(caminho_arquivo('dados_A001_D_2000-05-06_2024-03-14.csv')) # Estção Automática do Inmet Brasília - A001\n",
    "df_AguasEmendadas_A045_d = carregar_dados_csv(caminho_arquivo('dados_A045_D_2008-10-02_2024-03-14.csv')) # Estação Automática do Inmet Águas Emendadas - A045\n"
   ]
  },
  {
   "cell_type": "code",
   "execution_count": 6,
   "metadata": {},
   "outputs": [
    {
     "data": {
      "text/plain": [
       "'Completo: 22831 | Vazios: Com vazios: 269  | Sem vazios: 22562'"
      ]
     },
     "execution_count": 6,
     "metadata": {},
     "output_type": "execute_result"
    }
   ],
   "source": [
    "contar_valores_nodata(df_bsb_83377_d, 'TEMPERATURA MEDIA COMPENSADA, DIARIA(°C)')\n"
   ]
  },
  {
   "cell_type": "code",
   "execution_count": 7,
   "metadata": {},
   "outputs": [
    {
     "data": {
      "text/plain": [
       "'Completo: 8714 | Vazios: Com vazios: 340  | Sem vazios: 8374'"
      ]
     },
     "execution_count": 7,
     "metadata": {},
     "output_type": "execute_result"
    }
   ],
   "source": [
    "contar_valores_nodata(df_bsb_A001_d,'TEMPERATURA MEDIA, DIARIA (AUT)(°C)' )"
   ]
  },
  {
   "cell_type": "code",
   "execution_count": 8,
   "metadata": {},
   "outputs": [
    {
     "data": {
      "text/plain": [
       "'Completo: 5643 | Vazios: Com vazios: 137  | Sem vazios: 5506'"
      ]
     },
     "execution_count": 8,
     "metadata": {},
     "output_type": "execute_result"
    }
   ],
   "source": [
    "contar_valores_nodata(df_AguasEmendadas_A045_d,'TEMPERATURA MEDIA, DIARIA (AUT)(°C)' )"
   ]
  },
  {
   "cell_type": "code",
   "execution_count": 19,
   "metadata": {},
   "outputs": [],
   "source": [
    "df_bsb_83377_d_filtro = filtrar_dados_notNaN(df_bsb_83377_d, 'TEMPERATURA MEDIA COMPENSADA, DIARIA(°C)')\n",
    "df_bsb_A001_d_filtro = filtrar_dados_notNaN(df_bsb_A001_d, 'TEMPERATURA MEDIA, DIARIA (AUT)(°C)')\n",
    "df_AguasEmendadas_A045_d_filtro = filtrar_dados_notNaN(df_AguasEmendadas_A045_d, 'TEMPERATURA MEDIA, DIARIA (AUT)(°C)')\n"
   ]
  },
  {
   "cell_type": "code",
   "execution_count": 20,
   "metadata": {},
   "outputs": [],
   "source": [
    "df_bsb_83377_d_filtro = inserir_mes_ano(df_bsb_83377_d_filtro, 'Data Medicao')\n",
    "df_bsb_A001_d_filtro = inserir_mes_ano(df_bsb_A001_d_filtro, 'Data Medicao')\n",
    "df_AguasEmendadas_A045_d_filtro = inserir_mes_ano(df_AguasEmendadas_A045_d_filtro, 'Data Medicao')"
   ]
  },
  {
   "cell_type": "code",
   "execution_count": 23,
   "metadata": {},
   "outputs": [],
   "source": [
    "df_bsb_83377_d_filtro = inserir_numero_mes(df_bsb_83377_d_filtro)\n",
    "df_bsb_A001_d_filtro = inserir_numero_mes(df_bsb_A001_d_filtro)\n",
    "df_AguasEmendadas_A045_d_filtro = inserir_numero_mes(df_AguasEmendadas_A045_d_filtro)"
   ]
  },
  {
   "cell_type": "code",
   "execution_count": 24,
   "metadata": {},
   "outputs": [],
   "source": [
    "est_bsb_conv_temp = df_bsb_83377_d_filtro[['Data Medicao','NUM_MÊS','MÊS','ANO','TEMPERATURA MEDIA COMPENSADA, DIARIA(°C)']]\n",
    "est_bsb_aut_temp = df_bsb_A001_d_filtro[['Data Medicao','NUM_MÊS','MÊS','ANO','TEMPERATURA MEDIA, DIARIA (AUT)(°C)']]\n",
    "est_emendadas_aut_temp = df_AguasEmendadas_A045_d_filtro[['Data Medicao','NUM_MÊS','MÊS','ANO','TEMPERATURA MEDIA, DIARIA (AUT)(°C)']]\n"
   ]
  },
  {
   "cell_type": "code",
   "execution_count": 25,
   "metadata": {},
   "outputs": [
    {
     "name": "stdout",
     "output_type": "stream",
     "text": [
      "57, 6\n"
     ]
    }
   ],
   "source": [
    "completos_bsb_conv, incompletos_bsb_conv = listar_anos_descartados(est_bsb_conv_temp, 'ANO')\n",
    "print(f'{len(completos_bsb_conv)}, {len(incompletos_bsb_conv)}')\n"
   ]
  },
  {
   "cell_type": "code",
   "execution_count": 26,
   "metadata": {},
   "outputs": [
    {
     "name": "stdout",
     "output_type": "stream",
     "text": [
      "13, 11\n"
     ]
    }
   ],
   "source": [
    "completos_bsb_aut, incompletos_bsb_aut = listar_anos_descartados(est_bsb_aut_temp, 'ANO')\n",
    "print(f'{len(completos_bsb_aut)}, {len(incompletos_bsb_aut)}')"
   ]
  },
  {
   "cell_type": "code",
   "execution_count": 27,
   "metadata": {},
   "outputs": [
    {
     "name": "stdout",
     "output_type": "stream",
     "text": [
      "7, 10\n"
     ]
    }
   ],
   "source": [
    "completos_emendadas_aut, incompletos_emendadas_aut = listar_anos_descartados(est_emendadas_aut_temp, 'ANO')\n",
    "print(f'{len(completos_emendadas_aut)}, {len(incompletos_emendadas_aut)}')"
   ]
  },
  {
   "cell_type": "code",
   "execution_count": 28,
   "metadata": {},
   "outputs": [],
   "source": [
    "df_est_bsb_conv_temp = df_temperatura_media_mes(est_bsb_conv_temp, ['ANO','NUM_MÊS','MÊS'], 'TEMPERATURA MEDIA COMPENSADA, DIARIA(°C)')\n",
    "df_est_bsb_aut_temp = df_temperatura_media_mes(est_bsb_aut_temp, ['ANO','NUM_MÊS','MÊS'], 'TEMPERATURA MEDIA, DIARIA (AUT)(°C)')\n",
    "df_est_emendadas_aut_temp = df_temperatura_media_mes(est_emendadas_aut_temp, ['ANO','NUM_MÊS','MÊS'], 'TEMPERATURA MEDIA, DIARIA (AUT)(°C)')"
   ]
  },
  {
   "cell_type": "code",
   "execution_count": 29,
   "metadata": {},
   "outputs": [
    {
     "data": {
      "text/html": [
       "<div>\n",
       "<style scoped>\n",
       "    .dataframe tbody tr th:only-of-type {\n",
       "        vertical-align: middle;\n",
       "    }\n",
       "\n",
       "    .dataframe tbody tr th {\n",
       "        vertical-align: top;\n",
       "    }\n",
       "\n",
       "    .dataframe thead th {\n",
       "        text-align: right;\n",
       "    }\n",
       "</style>\n",
       "<table border=\"1\" class=\"dataframe\">\n",
       "  <thead>\n",
       "    <tr style=\"text-align: right;\">\n",
       "      <th></th>\n",
       "      <th>ANO</th>\n",
       "      <th>NUM_MÊS</th>\n",
       "      <th>MÊS</th>\n",
       "      <th>TEMPERATURA MEDIA, DIARIA (AUT)(°C)</th>\n",
       "    </tr>\n",
       "  </thead>\n",
       "  <tbody>\n",
       "    <tr>\n",
       "      <th>0</th>\n",
       "      <td>2008</td>\n",
       "      <td>10</td>\n",
       "      <td>October</td>\n",
       "      <td>23.605167</td>\n",
       "    </tr>\n",
       "    <tr>\n",
       "      <th>1</th>\n",
       "      <td>2008</td>\n",
       "      <td>11</td>\n",
       "      <td>November</td>\n",
       "      <td>21.650417</td>\n",
       "    </tr>\n",
       "    <tr>\n",
       "      <th>2</th>\n",
       "      <td>2008</td>\n",
       "      <td>12</td>\n",
       "      <td>December</td>\n",
       "      <td>21.250538</td>\n",
       "    </tr>\n",
       "    <tr>\n",
       "      <th>3</th>\n",
       "      <td>2009</td>\n",
       "      <td>1</td>\n",
       "      <td>January</td>\n",
       "      <td>21.746324</td>\n",
       "    </tr>\n",
       "    <tr>\n",
       "      <th>4</th>\n",
       "      <td>2009</td>\n",
       "      <td>2</td>\n",
       "      <td>February</td>\n",
       "      <td>21.764020</td>\n",
       "    </tr>\n",
       "    <tr>\n",
       "      <th>...</th>\n",
       "      <td>...</td>\n",
       "      <td>...</td>\n",
       "      <td>...</td>\n",
       "      <td>...</td>\n",
       "    </tr>\n",
       "    <tr>\n",
       "      <th>181</th>\n",
       "      <td>2023</td>\n",
       "      <td>11</td>\n",
       "      <td>November</td>\n",
       "      <td>24.425556</td>\n",
       "    </tr>\n",
       "    <tr>\n",
       "      <th>182</th>\n",
       "      <td>2023</td>\n",
       "      <td>12</td>\n",
       "      <td>December</td>\n",
       "      <td>23.412769</td>\n",
       "    </tr>\n",
       "    <tr>\n",
       "      <th>183</th>\n",
       "      <td>2024</td>\n",
       "      <td>1</td>\n",
       "      <td>January</td>\n",
       "      <td>22.408192</td>\n",
       "    </tr>\n",
       "    <tr>\n",
       "      <th>184</th>\n",
       "      <td>2024</td>\n",
       "      <td>2</td>\n",
       "      <td>February</td>\n",
       "      <td>22.472797</td>\n",
       "    </tr>\n",
       "    <tr>\n",
       "      <th>185</th>\n",
       "      <td>2024</td>\n",
       "      <td>3</td>\n",
       "      <td>March</td>\n",
       "      <td>23.163674</td>\n",
       "    </tr>\n",
       "  </tbody>\n",
       "</table>\n",
       "<p>186 rows × 4 columns</p>\n",
       "</div>"
      ],
      "text/plain": [
       "      ANO  NUM_MÊS       MÊS  TEMPERATURA MEDIA, DIARIA (AUT)(°C)\n",
       "0    2008       10   October                            23.605167\n",
       "1    2008       11  November                            21.650417\n",
       "2    2008       12  December                            21.250538\n",
       "3    2009        1   January                            21.746324\n",
       "4    2009        2  February                            21.764020\n",
       "..    ...      ...       ...                                  ...\n",
       "181  2023       11  November                            24.425556\n",
       "182  2023       12  December                            23.412769\n",
       "183  2024        1   January                            22.408192\n",
       "184  2024        2  February                            22.472797\n",
       "185  2024        3     March                            23.163674\n",
       "\n",
       "[186 rows x 4 columns]"
      ]
     },
     "execution_count": 29,
     "metadata": {},
     "output_type": "execute_result"
    }
   ],
   "source": [
    "df_est_emendadas_aut_temp"
   ]
  },
  {
   "cell_type": "code",
   "execution_count": 31,
   "metadata": {},
   "outputs": [],
   "source": [
    "# Aplicar filtro, ie, lista com os anos que possuem mais de 360 dias e atribuir a variável precip_mes_serie\n",
    "est_bsb_conv_temp_serie  = est_bsb_conv_temp[est_bsb_conv_temp[\"ANO\"].isin(completos_bsb_conv)]\n",
    "est_bsb_aut_temp_serie = est_bsb_aut_temp[est_bsb_aut_temp[\"ANO\"].isin(completos_bsb_aut)]\n",
    "est_emendadas_aut_temp_serie = est_emendadas_aut_temp[est_emendadas_aut_temp[\"ANO\"].isin(completos_emendadas_aut)]"
   ]
  },
  {
   "cell_type": "code",
   "execution_count": 32,
   "metadata": {},
   "outputs": [],
   "source": [
    "df_est_bsb_conv_temp_mes = df_temperatura_media_ano_completo(est_bsb_conv_temp_serie, ['NUM_MÊS','MÊS'], 'TEMPERATURA MEDIA COMPENSADA, DIARIA(°C)')\n",
    "df_est_bsb_aut_temp_mes = df_temperatura_media_ano_completo(est_bsb_aut_temp_serie, ['NUM_MÊS','MÊS'], 'TEMPERATURA MEDIA, DIARIA (AUT)(°C)')\n",
    "df_est_emendadas_aut_temp_mes = df_temperatura_media_ano_completo(est_emendadas_aut_temp_serie, ['NUM_MÊS','MÊS'], 'TEMPERATURA MEDIA, DIARIA (AUT)(°C)')"
   ]
  },
  {
   "cell_type": "code",
   "execution_count": 33,
   "metadata": {},
   "outputs": [
    {
     "data": {
      "text/html": [
       "<div>\n",
       "<style scoped>\n",
       "    .dataframe tbody tr th:only-of-type {\n",
       "        vertical-align: middle;\n",
       "    }\n",
       "\n",
       "    .dataframe tbody tr th {\n",
       "        vertical-align: top;\n",
       "    }\n",
       "\n",
       "    .dataframe thead th {\n",
       "        text-align: right;\n",
       "    }\n",
       "</style>\n",
       "<table border=\"1\" class=\"dataframe\">\n",
       "  <thead>\n",
       "    <tr style=\"text-align: right;\">\n",
       "      <th></th>\n",
       "      <th>NUM_MÊS</th>\n",
       "      <th>MÊS</th>\n",
       "      <th>TEMPERATURA MEDIA COMPENSADA, DIARIA(°C)</th>\n",
       "    </tr>\n",
       "  </thead>\n",
       "  <tbody>\n",
       "    <tr>\n",
       "      <th>0</th>\n",
       "      <td>1</td>\n",
       "      <td>January</td>\n",
       "      <td>21.592577</td>\n",
       "    </tr>\n",
       "    <tr>\n",
       "      <th>1</th>\n",
       "      <td>2</td>\n",
       "      <td>February</td>\n",
       "      <td>21.630224</td>\n",
       "    </tr>\n",
       "    <tr>\n",
       "      <th>2</th>\n",
       "      <td>3</td>\n",
       "      <td>March</td>\n",
       "      <td>21.654972</td>\n",
       "    </tr>\n",
       "    <tr>\n",
       "      <th>3</th>\n",
       "      <td>4</td>\n",
       "      <td>April</td>\n",
       "      <td>21.247420</td>\n",
       "    </tr>\n",
       "    <tr>\n",
       "      <th>4</th>\n",
       "      <td>5</td>\n",
       "      <td>May</td>\n",
       "      <td>20.016548</td>\n",
       "    </tr>\n",
       "    <tr>\n",
       "      <th>5</th>\n",
       "      <td>6</td>\n",
       "      <td>June</td>\n",
       "      <td>18.997148</td>\n",
       "    </tr>\n",
       "    <tr>\n",
       "      <th>6</th>\n",
       "      <td>7</td>\n",
       "      <td>July</td>\n",
       "      <td>18.889711</td>\n",
       "    </tr>\n",
       "    <tr>\n",
       "      <th>7</th>\n",
       "      <td>8</td>\n",
       "      <td>August</td>\n",
       "      <td>20.707746</td>\n",
       "    </tr>\n",
       "    <tr>\n",
       "      <th>8</th>\n",
       "      <td>9</td>\n",
       "      <td>September</td>\n",
       "      <td>22.367396</td>\n",
       "    </tr>\n",
       "    <tr>\n",
       "      <th>9</th>\n",
       "      <td>10</td>\n",
       "      <td>October</td>\n",
       "      <td>22.438981</td>\n",
       "    </tr>\n",
       "    <tr>\n",
       "      <th>10</th>\n",
       "      <td>11</td>\n",
       "      <td>November</td>\n",
       "      <td>21.494827</td>\n",
       "    </tr>\n",
       "    <tr>\n",
       "      <th>11</th>\n",
       "      <td>12</td>\n",
       "      <td>December</td>\n",
       "      <td>21.427866</td>\n",
       "    </tr>\n",
       "  </tbody>\n",
       "</table>\n",
       "</div>"
      ],
      "text/plain": [
       "    NUM_MÊS        MÊS  TEMPERATURA MEDIA COMPENSADA, DIARIA(°C)\n",
       "0         1    January                                 21.592577\n",
       "1         2   February                                 21.630224\n",
       "2         3      March                                 21.654972\n",
       "3         4      April                                 21.247420\n",
       "4         5        May                                 20.016548\n",
       "5         6       June                                 18.997148\n",
       "6         7       July                                 18.889711\n",
       "7         8     August                                 20.707746\n",
       "8         9  September                                 22.367396\n",
       "9        10    October                                 22.438981\n",
       "10       11   November                                 21.494827\n",
       "11       12   December                                 21.427866"
      ]
     },
     "execution_count": 33,
     "metadata": {},
     "output_type": "execute_result"
    }
   ],
   "source": [
    "df_est_bsb_conv_temp_mes"
   ]
  },
  {
   "cell_type": "code",
   "execution_count": 34,
   "metadata": {},
   "outputs": [
    {
     "data": {
      "text/html": [
       "<div>\n",
       "<style scoped>\n",
       "    .dataframe tbody tr th:only-of-type {\n",
       "        vertical-align: middle;\n",
       "    }\n",
       "\n",
       "    .dataframe tbody tr th {\n",
       "        vertical-align: top;\n",
       "    }\n",
       "\n",
       "    .dataframe thead th {\n",
       "        text-align: right;\n",
       "    }\n",
       "</style>\n",
       "<table border=\"1\" class=\"dataframe\">\n",
       "  <thead>\n",
       "    <tr style=\"text-align: right;\">\n",
       "      <th></th>\n",
       "      <th>NUM_MÊS</th>\n",
       "      <th>MÊS</th>\n",
       "      <th>TEMPERATURA MEDIA, DIARIA (AUT)(°C)</th>\n",
       "    </tr>\n",
       "  </thead>\n",
       "  <tbody>\n",
       "    <tr>\n",
       "      <th>0</th>\n",
       "      <td>1</td>\n",
       "      <td>January</td>\n",
       "      <td>21.820968</td>\n",
       "    </tr>\n",
       "    <tr>\n",
       "      <th>1</th>\n",
       "      <td>2</td>\n",
       "      <td>February</td>\n",
       "      <td>21.859253</td>\n",
       "    </tr>\n",
       "    <tr>\n",
       "      <th>2</th>\n",
       "      <td>3</td>\n",
       "      <td>March</td>\n",
       "      <td>21.749434</td>\n",
       "    </tr>\n",
       "    <tr>\n",
       "      <th>3</th>\n",
       "      <td>4</td>\n",
       "      <td>April</td>\n",
       "      <td>21.545502</td>\n",
       "    </tr>\n",
       "    <tr>\n",
       "      <th>4</th>\n",
       "      <td>5</td>\n",
       "      <td>May</td>\n",
       "      <td>20.177070</td>\n",
       "    </tr>\n",
       "    <tr>\n",
       "      <th>5</th>\n",
       "      <td>6</td>\n",
       "      <td>June</td>\n",
       "      <td>19.536150</td>\n",
       "    </tr>\n",
       "    <tr>\n",
       "      <th>6</th>\n",
       "      <td>7</td>\n",
       "      <td>July</td>\n",
       "      <td>19.346516</td>\n",
       "    </tr>\n",
       "    <tr>\n",
       "      <th>7</th>\n",
       "      <td>8</td>\n",
       "      <td>August</td>\n",
       "      <td>21.253149</td>\n",
       "    </tr>\n",
       "    <tr>\n",
       "      <th>8</th>\n",
       "      <td>9</td>\n",
       "      <td>September</td>\n",
       "      <td>23.585131</td>\n",
       "    </tr>\n",
       "    <tr>\n",
       "      <th>9</th>\n",
       "      <td>10</td>\n",
       "      <td>October</td>\n",
       "      <td>23.493068</td>\n",
       "    </tr>\n",
       "    <tr>\n",
       "      <th>10</th>\n",
       "      <td>11</td>\n",
       "      <td>November</td>\n",
       "      <td>21.806036</td>\n",
       "    </tr>\n",
       "    <tr>\n",
       "      <th>11</th>\n",
       "      <td>12</td>\n",
       "      <td>December</td>\n",
       "      <td>21.848635</td>\n",
       "    </tr>\n",
       "  </tbody>\n",
       "</table>\n",
       "</div>"
      ],
      "text/plain": [
       "    NUM_MÊS        MÊS  TEMPERATURA MEDIA, DIARIA (AUT)(°C)\n",
       "0         1    January                            21.820968\n",
       "1         2   February                            21.859253\n",
       "2         3      March                            21.749434\n",
       "3         4      April                            21.545502\n",
       "4         5        May                            20.177070\n",
       "5         6       June                            19.536150\n",
       "6         7       July                            19.346516\n",
       "7         8     August                            21.253149\n",
       "8         9  September                            23.585131\n",
       "9        10    October                            23.493068\n",
       "10       11   November                            21.806036\n",
       "11       12   December                            21.848635"
      ]
     },
     "execution_count": 34,
     "metadata": {},
     "output_type": "execute_result"
    }
   ],
   "source": [
    "df_est_bsb_aut_temp_mes"
   ]
  },
  {
   "cell_type": "code",
   "execution_count": 35,
   "metadata": {},
   "outputs": [
    {
     "data": {
      "text/html": [
       "<div>\n",
       "<style scoped>\n",
       "    .dataframe tbody tr th:only-of-type {\n",
       "        vertical-align: middle;\n",
       "    }\n",
       "\n",
       "    .dataframe tbody tr th {\n",
       "        vertical-align: top;\n",
       "    }\n",
       "\n",
       "    .dataframe thead th {\n",
       "        text-align: right;\n",
       "    }\n",
       "</style>\n",
       "<table border=\"1\" class=\"dataframe\">\n",
       "  <thead>\n",
       "    <tr style=\"text-align: right;\">\n",
       "      <th></th>\n",
       "      <th>NUM_MÊS</th>\n",
       "      <th>MÊS</th>\n",
       "      <th>TEMPERATURA MEDIA, DIARIA (AUT)(°C)</th>\n",
       "    </tr>\n",
       "  </thead>\n",
       "  <tbody>\n",
       "    <tr>\n",
       "      <th>0</th>\n",
       "      <td>1</td>\n",
       "      <td>January</td>\n",
       "      <td>21.774280</td>\n",
       "    </tr>\n",
       "    <tr>\n",
       "      <th>1</th>\n",
       "      <td>2</td>\n",
       "      <td>February</td>\n",
       "      <td>21.834511</td>\n",
       "    </tr>\n",
       "    <tr>\n",
       "      <th>2</th>\n",
       "      <td>3</td>\n",
       "      <td>March</td>\n",
       "      <td>21.803300</td>\n",
       "    </tr>\n",
       "    <tr>\n",
       "      <th>3</th>\n",
       "      <td>4</td>\n",
       "      <td>April</td>\n",
       "      <td>21.327742</td>\n",
       "    </tr>\n",
       "    <tr>\n",
       "      <th>4</th>\n",
       "      <td>5</td>\n",
       "      <td>May</td>\n",
       "      <td>20.176067</td>\n",
       "    </tr>\n",
       "    <tr>\n",
       "      <th>5</th>\n",
       "      <td>6</td>\n",
       "      <td>June</td>\n",
       "      <td>19.063689</td>\n",
       "    </tr>\n",
       "    <tr>\n",
       "      <th>6</th>\n",
       "      <td>7</td>\n",
       "      <td>July</td>\n",
       "      <td>18.931511</td>\n",
       "    </tr>\n",
       "    <tr>\n",
       "      <th>7</th>\n",
       "      <td>8</td>\n",
       "      <td>August</td>\n",
       "      <td>20.557528</td>\n",
       "    </tr>\n",
       "    <tr>\n",
       "      <th>8</th>\n",
       "      <td>9</td>\n",
       "      <td>September</td>\n",
       "      <td>22.874598</td>\n",
       "    </tr>\n",
       "    <tr>\n",
       "      <th>9</th>\n",
       "      <td>10</td>\n",
       "      <td>October</td>\n",
       "      <td>22.886051</td>\n",
       "    </tr>\n",
       "    <tr>\n",
       "      <th>10</th>\n",
       "      <td>11</td>\n",
       "      <td>November</td>\n",
       "      <td>21.523727</td>\n",
       "    </tr>\n",
       "    <tr>\n",
       "      <th>11</th>\n",
       "      <td>12</td>\n",
       "      <td>December</td>\n",
       "      <td>21.656898</td>\n",
       "    </tr>\n",
       "  </tbody>\n",
       "</table>\n",
       "</div>"
      ],
      "text/plain": [
       "    NUM_MÊS        MÊS  TEMPERATURA MEDIA, DIARIA (AUT)(°C)\n",
       "0         1    January                            21.774280\n",
       "1         2   February                            21.834511\n",
       "2         3      March                            21.803300\n",
       "3         4      April                            21.327742\n",
       "4         5        May                            20.176067\n",
       "5         6       June                            19.063689\n",
       "6         7       July                            18.931511\n",
       "7         8     August                            20.557528\n",
       "8         9  September                            22.874598\n",
       "9        10    October                            22.886051\n",
       "10       11   November                            21.523727\n",
       "11       12   December                            21.656898"
      ]
     },
     "execution_count": 35,
     "metadata": {},
     "output_type": "execute_result"
    }
   ],
   "source": [
    "df_est_emendadas_aut_temp_mes"
   ]
  },
  {
   "cell_type": "code",
   "execution_count": 36,
   "metadata": {},
   "outputs": [
    {
     "data": {
      "application/vnd.plotly.v1+json": {
       "config": {
        "plotlyServerURL": "https://plot.ly"
       },
       "data": [
        {
         "mode": "lines+markers",
         "name": "Estação Convencional Inmet (1961 - 2023)",
         "type": "scatter",
         "x": [
          "January",
          "February",
          "March",
          "April",
          "May",
          "June",
          "July",
          "August",
          "September",
          "October",
          "November",
          "December"
         ],
         "y": [
          21.59,
          21.63,
          21.65,
          21.25,
          20.02,
          19,
          18.89,
          20.71,
          22.37,
          22.44,
          21.49,
          21.43
         ]
        },
        {
         "mode": "lines+markers",
         "name": "Estação Automática Inmet (2000 - 2023)",
         "type": "scatter",
         "x": [
          "January",
          "February",
          "March",
          "April",
          "May",
          "June",
          "July",
          "August",
          "September",
          "October",
          "November",
          "December"
         ],
         "y": [
          21.82,
          21.86,
          21.75,
          21.55,
          20.18,
          19.54,
          19.35,
          21.25,
          23.59,
          23.49,
          21.81,
          21.85
         ]
        },
        {
         "mode": "lines+markers",
         "name": "Estação Automática Águas Emendadas (2008 - 2023)",
         "type": "scatter",
         "x": [
          "January",
          "February",
          "March",
          "April",
          "May",
          "June",
          "July",
          "August",
          "September",
          "October",
          "November",
          "December"
         ],
         "y": [
          21.77,
          21.83,
          21.8,
          21.33,
          20.18,
          19.06,
          18.93,
          20.56,
          22.87,
          22.89,
          21.52,
          21.66
         ]
        }
       ],
       "layout": {
        "template": {
         "data": {
          "bar": [
           {
            "error_x": {
             "color": "#2a3f5f"
            },
            "error_y": {
             "color": "#2a3f5f"
            },
            "marker": {
             "line": {
              "color": "#E5ECF6",
              "width": 0.5
             },
             "pattern": {
              "fillmode": "overlay",
              "size": 10,
              "solidity": 0.2
             }
            },
            "type": "bar"
           }
          ],
          "barpolar": [
           {
            "marker": {
             "line": {
              "color": "#E5ECF6",
              "width": 0.5
             },
             "pattern": {
              "fillmode": "overlay",
              "size": 10,
              "solidity": 0.2
             }
            },
            "type": "barpolar"
           }
          ],
          "carpet": [
           {
            "aaxis": {
             "endlinecolor": "#2a3f5f",
             "gridcolor": "white",
             "linecolor": "white",
             "minorgridcolor": "white",
             "startlinecolor": "#2a3f5f"
            },
            "baxis": {
             "endlinecolor": "#2a3f5f",
             "gridcolor": "white",
             "linecolor": "white",
             "minorgridcolor": "white",
             "startlinecolor": "#2a3f5f"
            },
            "type": "carpet"
           }
          ],
          "choropleth": [
           {
            "colorbar": {
             "outlinewidth": 0,
             "ticks": ""
            },
            "type": "choropleth"
           }
          ],
          "contour": [
           {
            "colorbar": {
             "outlinewidth": 0,
             "ticks": ""
            },
            "colorscale": [
             [
              0,
              "#0d0887"
             ],
             [
              0.1111111111111111,
              "#46039f"
             ],
             [
              0.2222222222222222,
              "#7201a8"
             ],
             [
              0.3333333333333333,
              "#9c179e"
             ],
             [
              0.4444444444444444,
              "#bd3786"
             ],
             [
              0.5555555555555556,
              "#d8576b"
             ],
             [
              0.6666666666666666,
              "#ed7953"
             ],
             [
              0.7777777777777778,
              "#fb9f3a"
             ],
             [
              0.8888888888888888,
              "#fdca26"
             ],
             [
              1,
              "#f0f921"
             ]
            ],
            "type": "contour"
           }
          ],
          "contourcarpet": [
           {
            "colorbar": {
             "outlinewidth": 0,
             "ticks": ""
            },
            "type": "contourcarpet"
           }
          ],
          "heatmap": [
           {
            "colorbar": {
             "outlinewidth": 0,
             "ticks": ""
            },
            "colorscale": [
             [
              0,
              "#0d0887"
             ],
             [
              0.1111111111111111,
              "#46039f"
             ],
             [
              0.2222222222222222,
              "#7201a8"
             ],
             [
              0.3333333333333333,
              "#9c179e"
             ],
             [
              0.4444444444444444,
              "#bd3786"
             ],
             [
              0.5555555555555556,
              "#d8576b"
             ],
             [
              0.6666666666666666,
              "#ed7953"
             ],
             [
              0.7777777777777778,
              "#fb9f3a"
             ],
             [
              0.8888888888888888,
              "#fdca26"
             ],
             [
              1,
              "#f0f921"
             ]
            ],
            "type": "heatmap"
           }
          ],
          "heatmapgl": [
           {
            "colorbar": {
             "outlinewidth": 0,
             "ticks": ""
            },
            "colorscale": [
             [
              0,
              "#0d0887"
             ],
             [
              0.1111111111111111,
              "#46039f"
             ],
             [
              0.2222222222222222,
              "#7201a8"
             ],
             [
              0.3333333333333333,
              "#9c179e"
             ],
             [
              0.4444444444444444,
              "#bd3786"
             ],
             [
              0.5555555555555556,
              "#d8576b"
             ],
             [
              0.6666666666666666,
              "#ed7953"
             ],
             [
              0.7777777777777778,
              "#fb9f3a"
             ],
             [
              0.8888888888888888,
              "#fdca26"
             ],
             [
              1,
              "#f0f921"
             ]
            ],
            "type": "heatmapgl"
           }
          ],
          "histogram": [
           {
            "marker": {
             "pattern": {
              "fillmode": "overlay",
              "size": 10,
              "solidity": 0.2
             }
            },
            "type": "histogram"
           }
          ],
          "histogram2d": [
           {
            "colorbar": {
             "outlinewidth": 0,
             "ticks": ""
            },
            "colorscale": [
             [
              0,
              "#0d0887"
             ],
             [
              0.1111111111111111,
              "#46039f"
             ],
             [
              0.2222222222222222,
              "#7201a8"
             ],
             [
              0.3333333333333333,
              "#9c179e"
             ],
             [
              0.4444444444444444,
              "#bd3786"
             ],
             [
              0.5555555555555556,
              "#d8576b"
             ],
             [
              0.6666666666666666,
              "#ed7953"
             ],
             [
              0.7777777777777778,
              "#fb9f3a"
             ],
             [
              0.8888888888888888,
              "#fdca26"
             ],
             [
              1,
              "#f0f921"
             ]
            ],
            "type": "histogram2d"
           }
          ],
          "histogram2dcontour": [
           {
            "colorbar": {
             "outlinewidth": 0,
             "ticks": ""
            },
            "colorscale": [
             [
              0,
              "#0d0887"
             ],
             [
              0.1111111111111111,
              "#46039f"
             ],
             [
              0.2222222222222222,
              "#7201a8"
             ],
             [
              0.3333333333333333,
              "#9c179e"
             ],
             [
              0.4444444444444444,
              "#bd3786"
             ],
             [
              0.5555555555555556,
              "#d8576b"
             ],
             [
              0.6666666666666666,
              "#ed7953"
             ],
             [
              0.7777777777777778,
              "#fb9f3a"
             ],
             [
              0.8888888888888888,
              "#fdca26"
             ],
             [
              1,
              "#f0f921"
             ]
            ],
            "type": "histogram2dcontour"
           }
          ],
          "mesh3d": [
           {
            "colorbar": {
             "outlinewidth": 0,
             "ticks": ""
            },
            "type": "mesh3d"
           }
          ],
          "parcoords": [
           {
            "line": {
             "colorbar": {
              "outlinewidth": 0,
              "ticks": ""
             }
            },
            "type": "parcoords"
           }
          ],
          "pie": [
           {
            "automargin": true,
            "type": "pie"
           }
          ],
          "scatter": [
           {
            "fillpattern": {
             "fillmode": "overlay",
             "size": 10,
             "solidity": 0.2
            },
            "type": "scatter"
           }
          ],
          "scatter3d": [
           {
            "line": {
             "colorbar": {
              "outlinewidth": 0,
              "ticks": ""
             }
            },
            "marker": {
             "colorbar": {
              "outlinewidth": 0,
              "ticks": ""
             }
            },
            "type": "scatter3d"
           }
          ],
          "scattercarpet": [
           {
            "marker": {
             "colorbar": {
              "outlinewidth": 0,
              "ticks": ""
             }
            },
            "type": "scattercarpet"
           }
          ],
          "scattergeo": [
           {
            "marker": {
             "colorbar": {
              "outlinewidth": 0,
              "ticks": ""
             }
            },
            "type": "scattergeo"
           }
          ],
          "scattergl": [
           {
            "marker": {
             "colorbar": {
              "outlinewidth": 0,
              "ticks": ""
             }
            },
            "type": "scattergl"
           }
          ],
          "scattermapbox": [
           {
            "marker": {
             "colorbar": {
              "outlinewidth": 0,
              "ticks": ""
             }
            },
            "type": "scattermapbox"
           }
          ],
          "scatterpolar": [
           {
            "marker": {
             "colorbar": {
              "outlinewidth": 0,
              "ticks": ""
             }
            },
            "type": "scatterpolar"
           }
          ],
          "scatterpolargl": [
           {
            "marker": {
             "colorbar": {
              "outlinewidth": 0,
              "ticks": ""
             }
            },
            "type": "scatterpolargl"
           }
          ],
          "scatterternary": [
           {
            "marker": {
             "colorbar": {
              "outlinewidth": 0,
              "ticks": ""
             }
            },
            "type": "scatterternary"
           }
          ],
          "surface": [
           {
            "colorbar": {
             "outlinewidth": 0,
             "ticks": ""
            },
            "colorscale": [
             [
              0,
              "#0d0887"
             ],
             [
              0.1111111111111111,
              "#46039f"
             ],
             [
              0.2222222222222222,
              "#7201a8"
             ],
             [
              0.3333333333333333,
              "#9c179e"
             ],
             [
              0.4444444444444444,
              "#bd3786"
             ],
             [
              0.5555555555555556,
              "#d8576b"
             ],
             [
              0.6666666666666666,
              "#ed7953"
             ],
             [
              0.7777777777777778,
              "#fb9f3a"
             ],
             [
              0.8888888888888888,
              "#fdca26"
             ],
             [
              1,
              "#f0f921"
             ]
            ],
            "type": "surface"
           }
          ],
          "table": [
           {
            "cells": {
             "fill": {
              "color": "#EBF0F8"
             },
             "line": {
              "color": "white"
             }
            },
            "header": {
             "fill": {
              "color": "#C8D4E3"
             },
             "line": {
              "color": "white"
             }
            },
            "type": "table"
           }
          ]
         },
         "layout": {
          "annotationdefaults": {
           "arrowcolor": "#2a3f5f",
           "arrowhead": 0,
           "arrowwidth": 1
          },
          "autotypenumbers": "strict",
          "coloraxis": {
           "colorbar": {
            "outlinewidth": 0,
            "ticks": ""
           }
          },
          "colorscale": {
           "diverging": [
            [
             0,
             "#8e0152"
            ],
            [
             0.1,
             "#c51b7d"
            ],
            [
             0.2,
             "#de77ae"
            ],
            [
             0.3,
             "#f1b6da"
            ],
            [
             0.4,
             "#fde0ef"
            ],
            [
             0.5,
             "#f7f7f7"
            ],
            [
             0.6,
             "#e6f5d0"
            ],
            [
             0.7,
             "#b8e186"
            ],
            [
             0.8,
             "#7fbc41"
            ],
            [
             0.9,
             "#4d9221"
            ],
            [
             1,
             "#276419"
            ]
           ],
           "sequential": [
            [
             0,
             "#0d0887"
            ],
            [
             0.1111111111111111,
             "#46039f"
            ],
            [
             0.2222222222222222,
             "#7201a8"
            ],
            [
             0.3333333333333333,
             "#9c179e"
            ],
            [
             0.4444444444444444,
             "#bd3786"
            ],
            [
             0.5555555555555556,
             "#d8576b"
            ],
            [
             0.6666666666666666,
             "#ed7953"
            ],
            [
             0.7777777777777778,
             "#fb9f3a"
            ],
            [
             0.8888888888888888,
             "#fdca26"
            ],
            [
             1,
             "#f0f921"
            ]
           ],
           "sequentialminus": [
            [
             0,
             "#0d0887"
            ],
            [
             0.1111111111111111,
             "#46039f"
            ],
            [
             0.2222222222222222,
             "#7201a8"
            ],
            [
             0.3333333333333333,
             "#9c179e"
            ],
            [
             0.4444444444444444,
             "#bd3786"
            ],
            [
             0.5555555555555556,
             "#d8576b"
            ],
            [
             0.6666666666666666,
             "#ed7953"
            ],
            [
             0.7777777777777778,
             "#fb9f3a"
            ],
            [
             0.8888888888888888,
             "#fdca26"
            ],
            [
             1,
             "#f0f921"
            ]
           ]
          },
          "colorway": [
           "#636efa",
           "#EF553B",
           "#00cc96",
           "#ab63fa",
           "#FFA15A",
           "#19d3f3",
           "#FF6692",
           "#B6E880",
           "#FF97FF",
           "#FECB52"
          ],
          "font": {
           "color": "#2a3f5f"
          },
          "geo": {
           "bgcolor": "white",
           "lakecolor": "white",
           "landcolor": "#E5ECF6",
           "showlakes": true,
           "showland": true,
           "subunitcolor": "white"
          },
          "hoverlabel": {
           "align": "left"
          },
          "hovermode": "closest",
          "mapbox": {
           "style": "light"
          },
          "paper_bgcolor": "white",
          "plot_bgcolor": "#E5ECF6",
          "polar": {
           "angularaxis": {
            "gridcolor": "white",
            "linecolor": "white",
            "ticks": ""
           },
           "bgcolor": "#E5ECF6",
           "radialaxis": {
            "gridcolor": "white",
            "linecolor": "white",
            "ticks": ""
           }
          },
          "scene": {
           "xaxis": {
            "backgroundcolor": "#E5ECF6",
            "gridcolor": "white",
            "gridwidth": 2,
            "linecolor": "white",
            "showbackground": true,
            "ticks": "",
            "zerolinecolor": "white"
           },
           "yaxis": {
            "backgroundcolor": "#E5ECF6",
            "gridcolor": "white",
            "gridwidth": 2,
            "linecolor": "white",
            "showbackground": true,
            "ticks": "",
            "zerolinecolor": "white"
           },
           "zaxis": {
            "backgroundcolor": "#E5ECF6",
            "gridcolor": "white",
            "gridwidth": 2,
            "linecolor": "white",
            "showbackground": true,
            "ticks": "",
            "zerolinecolor": "white"
           }
          },
          "shapedefaults": {
           "line": {
            "color": "#2a3f5f"
           }
          },
          "ternary": {
           "aaxis": {
            "gridcolor": "white",
            "linecolor": "white",
            "ticks": ""
           },
           "baxis": {
            "gridcolor": "white",
            "linecolor": "white",
            "ticks": ""
           },
           "bgcolor": "#E5ECF6",
           "caxis": {
            "gridcolor": "white",
            "linecolor": "white",
            "ticks": ""
           }
          },
          "title": {
           "x": 0.05
          },
          "xaxis": {
           "automargin": true,
           "gridcolor": "white",
           "linecolor": "white",
           "ticks": "",
           "title": {
            "standoff": 15
           },
           "zerolinecolor": "white",
           "zerolinewidth": 2
          },
          "yaxis": {
           "automargin": true,
           "gridcolor": "white",
           "linecolor": "white",
           "ticks": "",
           "title": {
            "standoff": 15
           },
           "zerolinecolor": "white",
           "zerolinewidth": 2
          }
         }
        },
        "title": {
         "text": "Média da Temperatura Média Mensal - Estação Convencional Inmet (1961 - 2023)"
        },
        "xaxis": {
         "title": {
          "text": "Mês"
         }
        },
        "yaxis": {
         "title": {
          "text": "Temperatura Média (°C)"
         }
        }
       }
      }
     },
     "metadata": {},
     "output_type": "display_data"
    }
   ],
   "source": [
    "fig = go.Figure()\n",
    "\n",
    "fig.add_trace(go.Scatter(x=df_est_bsb_conv_temp_mes['MÊS'], \n",
    "                         y=round(df_est_bsb_conv_temp_mes['TEMPERATURA MEDIA COMPENSADA, DIARIA(°C)'],2), \n",
    "                         mode='lines+markers', \n",
    "                         name='Estação Convencional Inmet (1961 - 2023)'))\n",
    "fig.add_trace(go.Scatter(x=df_est_bsb_aut_temp_mes['MÊS'],\n",
    "                         y=round(df_est_bsb_aut_temp_mes['TEMPERATURA MEDIA, DIARIA (AUT)(°C)'],2), \n",
    "                         mode='lines+markers', \n",
    "                         name= 'Estação Automática Inmet (2000 - 2023)'))\n",
    "fig.add_trace(go.Scatter(x=df_est_emendadas_aut_temp_mes['MÊS'], \n",
    "                         y=round(df_est_emendadas_aut_temp_mes['TEMPERATURA MEDIA, DIARIA (AUT)(°C)'],2), \n",
    "                         mode='lines+markers', \n",
    "                         name='Estação Automática Águas Emendadas (2008 - 2023)'))\n",
    "\n",
    "\n",
    "fig.update_layout(title='Média da Temperatura Média Mensal - Estação Convencional Inmet (1961 - 2023)', xaxis_title='Mês', yaxis_title='Temperatura Média (°C)')"
   ]
  },
  {
   "cell_type": "code",
   "execution_count": 37,
   "metadata": {},
   "outputs": [
    {
     "name": "stdout",
     "output_type": "stream",
     "text": [
      "Média da temperatura média - Est. Convencional Inmet: 21.038784588452803\n",
      "Média da temperatura média - Est. Automática Inmet: 21.50174264454749\n",
      "Média da temperatura média - Est. Automática Águas Emendadas: 21.200825137123797\n"
     ]
    }
   ],
   "source": [
    "print(\"Média da temperatura média - Est. Convencional Inmet: {}\\n\"\n",
    "            \"Média da temperatura média - Est. Automática Inmet: {}\\n\"\n",
    "            \"Média da temperatura média - Est. Automática Águas Emendadas: {}\".format(\n",
    "        df_est_bsb_conv_temp_mes['TEMPERATURA MEDIA COMPENSADA, DIARIA(°C)'].mean(),\n",
    "        df_est_bsb_aut_temp_mes['TEMPERATURA MEDIA, DIARIA (AUT)(°C)'].mean(),\n",
    "        df_est_emendadas_aut_temp_mes['TEMPERATURA MEDIA, DIARIA (AUT)(°C)'].mean()\n",
    "))                                                                                                                                                                                                                                                                                           \n"
   ]
  }
 ],
 "metadata": {
  "kernelspec": {
   "display_name": "geo_py39",
   "language": "python",
   "name": "python3"
  },
  "language_info": {
   "codemirror_mode": {
    "name": "ipython",
    "version": 3
   },
   "file_extension": ".py",
   "mimetype": "text/x-python",
   "name": "python",
   "nbconvert_exporter": "python",
   "pygments_lexer": "ipython3",
   "version": "3.11.8"
  }
 },
 "nbformat": 4,
 "nbformat_minor": 2
}
