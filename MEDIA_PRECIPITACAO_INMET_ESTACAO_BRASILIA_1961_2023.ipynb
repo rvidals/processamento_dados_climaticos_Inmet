{
 "cells": [
  {
   "cell_type": "code",
   "execution_count": 4,
   "metadata": {},
   "outputs": [],
   "source": [
    "import os \n",
    "import pandas as pd \n",
    "import plotly.graph_objects as go"
   ]
  },
  {
   "cell_type": "code",
   "execution_count": 5,
   "metadata": {},
   "outputs": [],
   "source": [
    "path_bsb_83377_d = os.path.join(os.getcwd(), 'dados_83377_D_1961-09-11_2024-03-14.csv')\n",
    "path_bsb_A001_d = os.path.join(os.getcwd(), 'dados_A001_D_2000-05-06_2024-03-14.csv')\n",
    "path_AguasEmendadas_A045_d = os.path.join(os.getcwd(), 'dados_A045_D_2008-10-02_2024-03-14.csv')"
   ]
  },
  {
   "cell_type": "code",
   "execution_count": 6,
   "metadata": {},
   "outputs": [],
   "source": [
    "# Carregar os dados do arquivo excel a um df \n",
    "df_bsb_83377_d = pd.read_csv(path_bsb_83377_d, delimiter=';', skiprows=10)\n",
    "df_bsb_A001_d = pd.read_csv(path_bsb_A001_d, delimiter=';', skiprows=10)\n",
    "df_AguasEmendadas_A045_d = pd.read_csv(path_AguasEmendadas_A045_d, delimiter=';', skiprows=10)"
   ]
  },
  {
   "cell_type": "code",
   "execution_count": 7,
   "metadata": {},
   "outputs": [
    {
     "data": {
      "text/html": [
       "<div>\n",
       "<style scoped>\n",
       "    .dataframe tbody tr th:only-of-type {\n",
       "        vertical-align: middle;\n",
       "    }\n",
       "\n",
       "    .dataframe tbody tr th {\n",
       "        vertical-align: top;\n",
       "    }\n",
       "\n",
       "    .dataframe thead th {\n",
       "        text-align: right;\n",
       "    }\n",
       "</style>\n",
       "<table border=\"1\" class=\"dataframe\">\n",
       "  <thead>\n",
       "    <tr style=\"text-align: right;\">\n",
       "      <th></th>\n",
       "      <th>Data Medicao</th>\n",
       "      <th>EVAPORACAO DO PICHE, DIARIA(mm)</th>\n",
       "      <th>INSOLACAO TOTAL, DIARIO(h)</th>\n",
       "      <th>PRECIPITACAO TOTAL, DIARIO(mm)</th>\n",
       "      <th>TEMPERATURA MAXIMA, DIARIA(°C)</th>\n",
       "      <th>TEMPERATURA MEDIA COMPENSADA, DIARIA(°C)</th>\n",
       "      <th>TEMPERATURA MINIMA, DIARIA(°C)</th>\n",
       "      <th>UMIDADE RELATIVA DO AR, MEDIA DIARIA(%)</th>\n",
       "      <th>UMIDADE RELATIVA DO AR, MINIMA DIARIA(%)</th>\n",
       "      <th>VENTO, VELOCIDADE MEDIA DIARIA(m/s)</th>\n",
       "      <th>Unnamed: 10</th>\n",
       "    </tr>\n",
       "  </thead>\n",
       "  <tbody>\n",
       "    <tr>\n",
       "      <th>0</th>\n",
       "      <td>1961-09-11</td>\n",
       "      <td>NaN</td>\n",
       "      <td>NaN</td>\n",
       "      <td>0.0</td>\n",
       "      <td>32.9</td>\n",
       "      <td>NaN</td>\n",
       "      <td>16.0</td>\n",
       "      <td>NaN</td>\n",
       "      <td>20.0</td>\n",
       "      <td>2.566667</td>\n",
       "      <td>NaN</td>\n",
       "    </tr>\n",
       "    <tr>\n",
       "      <th>1</th>\n",
       "      <td>1961-09-12</td>\n",
       "      <td>NaN</td>\n",
       "      <td>10.4</td>\n",
       "      <td>0.0</td>\n",
       "      <td>32.4</td>\n",
       "      <td>NaN</td>\n",
       "      <td>14.2</td>\n",
       "      <td>NaN</td>\n",
       "      <td>24.0</td>\n",
       "      <td>2.066667</td>\n",
       "      <td>NaN</td>\n",
       "    </tr>\n",
       "    <tr>\n",
       "      <th>2</th>\n",
       "      <td>1961-09-13</td>\n",
       "      <td>NaN</td>\n",
       "      <td>8.4</td>\n",
       "      <td>0.0</td>\n",
       "      <td>32.9</td>\n",
       "      <td>NaN</td>\n",
       "      <td>14.1</td>\n",
       "      <td>NaN</td>\n",
       "      <td>21.0</td>\n",
       "      <td>1.900000</td>\n",
       "      <td>NaN</td>\n",
       "    </tr>\n",
       "    <tr>\n",
       "      <th>3</th>\n",
       "      <td>1961-09-14</td>\n",
       "      <td>NaN</td>\n",
       "      <td>9.5</td>\n",
       "      <td>0.0</td>\n",
       "      <td>32.5</td>\n",
       "      <td>NaN</td>\n",
       "      <td>15.0</td>\n",
       "      <td>NaN</td>\n",
       "      <td>16.0</td>\n",
       "      <td>2.900000</td>\n",
       "      <td>NaN</td>\n",
       "    </tr>\n",
       "    <tr>\n",
       "      <th>4</th>\n",
       "      <td>1961-09-15</td>\n",
       "      <td>NaN</td>\n",
       "      <td>7.4</td>\n",
       "      <td>0.0</td>\n",
       "      <td>32.2</td>\n",
       "      <td>NaN</td>\n",
       "      <td>13.9</td>\n",
       "      <td>NaN</td>\n",
       "      <td>20.0</td>\n",
       "      <td>2.566667</td>\n",
       "      <td>NaN</td>\n",
       "    </tr>\n",
       "    <tr>\n",
       "      <th>...</th>\n",
       "      <td>...</td>\n",
       "      <td>...</td>\n",
       "      <td>...</td>\n",
       "      <td>...</td>\n",
       "      <td>...</td>\n",
       "      <td>...</td>\n",
       "      <td>...</td>\n",
       "      <td>...</td>\n",
       "      <td>...</td>\n",
       "      <td>...</td>\n",
       "      <td>...</td>\n",
       "    </tr>\n",
       "    <tr>\n",
       "      <th>22826</th>\n",
       "      <td>2024-03-10</td>\n",
       "      <td>NaN</td>\n",
       "      <td>4.9</td>\n",
       "      <td>26.5</td>\n",
       "      <td>29.7</td>\n",
       "      <td>23.14</td>\n",
       "      <td>19.3</td>\n",
       "      <td>78.00</td>\n",
       "      <td>NaN</td>\n",
       "      <td>1.371840</td>\n",
       "      <td>NaN</td>\n",
       "    </tr>\n",
       "    <tr>\n",
       "      <th>22827</th>\n",
       "      <td>2024-03-11</td>\n",
       "      <td>NaN</td>\n",
       "      <td>4.7</td>\n",
       "      <td>0.0</td>\n",
       "      <td>30.0</td>\n",
       "      <td>23.82</td>\n",
       "      <td>20.0</td>\n",
       "      <td>84.75</td>\n",
       "      <td>NaN</td>\n",
       "      <td>0.342960</td>\n",
       "      <td>NaN</td>\n",
       "    </tr>\n",
       "    <tr>\n",
       "      <th>22828</th>\n",
       "      <td>2024-03-12</td>\n",
       "      <td>NaN</td>\n",
       "      <td>4.2</td>\n",
       "      <td>4.0</td>\n",
       "      <td>29.8</td>\n",
       "      <td>24.22</td>\n",
       "      <td>20.4</td>\n",
       "      <td>85.00</td>\n",
       "      <td>NaN</td>\n",
       "      <td>0.000000</td>\n",
       "      <td>NaN</td>\n",
       "    </tr>\n",
       "    <tr>\n",
       "      <th>22829</th>\n",
       "      <td>2024-03-13</td>\n",
       "      <td>NaN</td>\n",
       "      <td>5.4</td>\n",
       "      <td>2.0</td>\n",
       "      <td>28.9</td>\n",
       "      <td>22.54</td>\n",
       "      <td>17.0</td>\n",
       "      <td>81.25</td>\n",
       "      <td>NaN</td>\n",
       "      <td>0.685920</td>\n",
       "      <td>NaN</td>\n",
       "    </tr>\n",
       "    <tr>\n",
       "      <th>22830</th>\n",
       "      <td>2024-03-14</td>\n",
       "      <td>NaN</td>\n",
       "      <td>3.4</td>\n",
       "      <td>6.7</td>\n",
       "      <td>29.3</td>\n",
       "      <td>22.78</td>\n",
       "      <td>19.7</td>\n",
       "      <td>94.75</td>\n",
       "      <td>90.0</td>\n",
       "      <td>0.000000</td>\n",
       "      <td>NaN</td>\n",
       "    </tr>\n",
       "  </tbody>\n",
       "</table>\n",
       "<p>22831 rows × 11 columns</p>\n",
       "</div>"
      ],
      "text/plain": [
       "      Data Medicao  EVAPORACAO DO PICHE, DIARIA(mm)   \n",
       "0       1961-09-11                              NaN  \\\n",
       "1       1961-09-12                              NaN   \n",
       "2       1961-09-13                              NaN   \n",
       "3       1961-09-14                              NaN   \n",
       "4       1961-09-15                              NaN   \n",
       "...            ...                              ...   \n",
       "22826   2024-03-10                              NaN   \n",
       "22827   2024-03-11                              NaN   \n",
       "22828   2024-03-12                              NaN   \n",
       "22829   2024-03-13                              NaN   \n",
       "22830   2024-03-14                              NaN   \n",
       "\n",
       "       INSOLACAO TOTAL, DIARIO(h)  PRECIPITACAO TOTAL, DIARIO(mm)   \n",
       "0                             NaN                             0.0  \\\n",
       "1                            10.4                             0.0   \n",
       "2                             8.4                             0.0   \n",
       "3                             9.5                             0.0   \n",
       "4                             7.4                             0.0   \n",
       "...                           ...                             ...   \n",
       "22826                         4.9                            26.5   \n",
       "22827                         4.7                             0.0   \n",
       "22828                         4.2                             4.0   \n",
       "22829                         5.4                             2.0   \n",
       "22830                         3.4                             6.7   \n",
       "\n",
       "       TEMPERATURA MAXIMA, DIARIA(°C)   \n",
       "0                                32.9  \\\n",
       "1                                32.4   \n",
       "2                                32.9   \n",
       "3                                32.5   \n",
       "4                                32.2   \n",
       "...                               ...   \n",
       "22826                            29.7   \n",
       "22827                            30.0   \n",
       "22828                            29.8   \n",
       "22829                            28.9   \n",
       "22830                            29.3   \n",
       "\n",
       "       TEMPERATURA MEDIA COMPENSADA, DIARIA(°C)   \n",
       "0                                           NaN  \\\n",
       "1                                           NaN   \n",
       "2                                           NaN   \n",
       "3                                           NaN   \n",
       "4                                           NaN   \n",
       "...                                         ...   \n",
       "22826                                     23.14   \n",
       "22827                                     23.82   \n",
       "22828                                     24.22   \n",
       "22829                                     22.54   \n",
       "22830                                     22.78   \n",
       "\n",
       "       TEMPERATURA MINIMA, DIARIA(°C)   \n",
       "0                                16.0  \\\n",
       "1                                14.2   \n",
       "2                                14.1   \n",
       "3                                15.0   \n",
       "4                                13.9   \n",
       "...                               ...   \n",
       "22826                            19.3   \n",
       "22827                            20.0   \n",
       "22828                            20.4   \n",
       "22829                            17.0   \n",
       "22830                            19.7   \n",
       "\n",
       "       UMIDADE RELATIVA DO AR, MEDIA DIARIA(%)   \n",
       "0                                          NaN  \\\n",
       "1                                          NaN   \n",
       "2                                          NaN   \n",
       "3                                          NaN   \n",
       "4                                          NaN   \n",
       "...                                        ...   \n",
       "22826                                    78.00   \n",
       "22827                                    84.75   \n",
       "22828                                    85.00   \n",
       "22829                                    81.25   \n",
       "22830                                    94.75   \n",
       "\n",
       "       UMIDADE RELATIVA DO AR, MINIMA DIARIA(%)   \n",
       "0                                          20.0  \\\n",
       "1                                          24.0   \n",
       "2                                          21.0   \n",
       "3                                          16.0   \n",
       "4                                          20.0   \n",
       "...                                         ...   \n",
       "22826                                       NaN   \n",
       "22827                                       NaN   \n",
       "22828                                       NaN   \n",
       "22829                                       NaN   \n",
       "22830                                      90.0   \n",
       "\n",
       "       VENTO, VELOCIDADE MEDIA DIARIA(m/s)  Unnamed: 10  \n",
       "0                                 2.566667          NaN  \n",
       "1                                 2.066667          NaN  \n",
       "2                                 1.900000          NaN  \n",
       "3                                 2.900000          NaN  \n",
       "4                                 2.566667          NaN  \n",
       "...                                    ...          ...  \n",
       "22826                             1.371840          NaN  \n",
       "22827                             0.342960          NaN  \n",
       "22828                             0.000000          NaN  \n",
       "22829                             0.685920          NaN  \n",
       "22830                             0.000000          NaN  \n",
       "\n",
       "[22831 rows x 11 columns]"
      ]
     },
     "execution_count": 7,
     "metadata": {},
     "output_type": "execute_result"
    }
   ],
   "source": [
    "df_bsb_83377_d"
   ]
  },
  {
   "cell_type": "code",
   "execution_count": 8,
   "metadata": {},
   "outputs": [
    {
     "data": {
      "text/html": [
       "<div>\n",
       "<style scoped>\n",
       "    .dataframe tbody tr th:only-of-type {\n",
       "        vertical-align: middle;\n",
       "    }\n",
       "\n",
       "    .dataframe tbody tr th {\n",
       "        vertical-align: top;\n",
       "    }\n",
       "\n",
       "    .dataframe thead th {\n",
       "        text-align: right;\n",
       "    }\n",
       "</style>\n",
       "<table border=\"1\" class=\"dataframe\">\n",
       "  <thead>\n",
       "    <tr style=\"text-align: right;\">\n",
       "      <th></th>\n",
       "      <th>Data Medicao</th>\n",
       "      <th>PRECIPITACAO TOTAL, DIARIO (AUT)(mm)</th>\n",
       "      <th>PRESSAO ATMOSFERICA MEDIA DIARIA (AUT)(mB)</th>\n",
       "      <th>TEMPERATURA DO PONTO DE ORVALHO MEDIA DIARIA (AUT)(°C)</th>\n",
       "      <th>TEMPERATURA MAXIMA, DIARIA (AUT)(°C)</th>\n",
       "      <th>TEMPERATURA MEDIA, DIARIA (AUT)(°C)</th>\n",
       "      <th>TEMPERATURA MINIMA, DIARIA (AUT)(°C)</th>\n",
       "      <th>UMIDADE RELATIVA DO AR, MEDIA DIARIA (AUT)(%)</th>\n",
       "      <th>UMIDADE RELATIVA DO AR, MINIMA DIARIA (AUT)(%)</th>\n",
       "      <th>VENTO, RAJADA MAXIMA DIARIA (AUT)(m/s)</th>\n",
       "      <th>VENTO, VELOCIDADE MEDIA DIARIA (AUT)(m/s)</th>\n",
       "      <th>Unnamed: 11</th>\n",
       "    </tr>\n",
       "  </thead>\n",
       "  <tbody>\n",
       "    <tr>\n",
       "      <th>0</th>\n",
       "      <td>2000-05-06</td>\n",
       "      <td>NaN</td>\n",
       "      <td>NaN</td>\n",
       "      <td>NaN</td>\n",
       "      <td>NaN</td>\n",
       "      <td>NaN</td>\n",
       "      <td>NaN</td>\n",
       "      <td>NaN</td>\n",
       "      <td>NaN</td>\n",
       "      <td>NaN</td>\n",
       "      <td>NaN</td>\n",
       "      <td>NaN</td>\n",
       "    </tr>\n",
       "    <tr>\n",
       "      <th>1</th>\n",
       "      <td>2000-05-07</td>\n",
       "      <td>NaN</td>\n",
       "      <td>NaN</td>\n",
       "      <td>NaN</td>\n",
       "      <td>NaN</td>\n",
       "      <td>NaN</td>\n",
       "      <td>NaN</td>\n",
       "      <td>49.153846</td>\n",
       "      <td>36.0</td>\n",
       "      <td>6.3</td>\n",
       "      <td>NaN</td>\n",
       "      <td>NaN</td>\n",
       "    </tr>\n",
       "    <tr>\n",
       "      <th>2</th>\n",
       "      <td>2000-05-08</td>\n",
       "      <td>0.0</td>\n",
       "      <td>888.087500</td>\n",
       "      <td>13.516667</td>\n",
       "      <td>28.2</td>\n",
       "      <td>22.137500</td>\n",
       "      <td>16.5</td>\n",
       "      <td>60.333333</td>\n",
       "      <td>33.0</td>\n",
       "      <td>7.1</td>\n",
       "      <td>2.108333</td>\n",
       "      <td>NaN</td>\n",
       "    </tr>\n",
       "    <tr>\n",
       "      <th>3</th>\n",
       "      <td>2000-05-09</td>\n",
       "      <td>0.0</td>\n",
       "      <td>888.108333</td>\n",
       "      <td>13.254167</td>\n",
       "      <td>28.7</td>\n",
       "      <td>22.058333</td>\n",
       "      <td>16.6</td>\n",
       "      <td>58.833333</td>\n",
       "      <td>37.0</td>\n",
       "      <td>7.0</td>\n",
       "      <td>1.158333</td>\n",
       "      <td>NaN</td>\n",
       "    </tr>\n",
       "    <tr>\n",
       "      <th>4</th>\n",
       "      <td>2000-05-10</td>\n",
       "      <td>0.0</td>\n",
       "      <td>889.000000</td>\n",
       "      <td>14.366667</td>\n",
       "      <td>28.9</td>\n",
       "      <td>22.391667</td>\n",
       "      <td>17.7</td>\n",
       "      <td>62.083333</td>\n",
       "      <td>35.0</td>\n",
       "      <td>6.3</td>\n",
       "      <td>2.054167</td>\n",
       "      <td>NaN</td>\n",
       "    </tr>\n",
       "    <tr>\n",
       "      <th>...</th>\n",
       "      <td>...</td>\n",
       "      <td>...</td>\n",
       "      <td>...</td>\n",
       "      <td>...</td>\n",
       "      <td>...</td>\n",
       "      <td>...</td>\n",
       "      <td>...</td>\n",
       "      <td>...</td>\n",
       "      <td>...</td>\n",
       "      <td>...</td>\n",
       "      <td>...</td>\n",
       "      <td>...</td>\n",
       "    </tr>\n",
       "    <tr>\n",
       "      <th>8709</th>\n",
       "      <td>2024-03-10</td>\n",
       "      <td>19.6</td>\n",
       "      <td>887.704167</td>\n",
       "      <td>19.329167</td>\n",
       "      <td>29.8</td>\n",
       "      <td>23.079167</td>\n",
       "      <td>18.8</td>\n",
       "      <td>81.666667</td>\n",
       "      <td>45.0</td>\n",
       "      <td>9.3</td>\n",
       "      <td>1.537500</td>\n",
       "      <td>NaN</td>\n",
       "    </tr>\n",
       "    <tr>\n",
       "      <th>8710</th>\n",
       "      <td>2024-03-11</td>\n",
       "      <td>0.2</td>\n",
       "      <td>887.620833</td>\n",
       "      <td>20.175000</td>\n",
       "      <td>29.7</td>\n",
       "      <td>22.925000</td>\n",
       "      <td>19.0</td>\n",
       "      <td>85.625000</td>\n",
       "      <td>51.0</td>\n",
       "      <td>7.9</td>\n",
       "      <td>1.262500</td>\n",
       "      <td>NaN</td>\n",
       "    </tr>\n",
       "    <tr>\n",
       "      <th>8711</th>\n",
       "      <td>2024-03-12</td>\n",
       "      <td>3.2</td>\n",
       "      <td>888.275000</td>\n",
       "      <td>20.333333</td>\n",
       "      <td>29.3</td>\n",
       "      <td>23.929167</td>\n",
       "      <td>19.5</td>\n",
       "      <td>81.916667</td>\n",
       "      <td>55.0</td>\n",
       "      <td>6.0</td>\n",
       "      <td>1.325000</td>\n",
       "      <td>NaN</td>\n",
       "    </tr>\n",
       "    <tr>\n",
       "      <th>8712</th>\n",
       "      <td>2024-03-13</td>\n",
       "      <td>1.4</td>\n",
       "      <td>888.362500</td>\n",
       "      <td>20.300000</td>\n",
       "      <td>29.4</td>\n",
       "      <td>23.800000</td>\n",
       "      <td>21.1</td>\n",
       "      <td>81.833333</td>\n",
       "      <td>58.0</td>\n",
       "      <td>7.1</td>\n",
       "      <td>1.837500</td>\n",
       "      <td>NaN</td>\n",
       "    </tr>\n",
       "    <tr>\n",
       "      <th>8713</th>\n",
       "      <td>2024-03-14</td>\n",
       "      <td>4.8</td>\n",
       "      <td>888.037500</td>\n",
       "      <td>19.716667</td>\n",
       "      <td>29.1</td>\n",
       "      <td>22.341667</td>\n",
       "      <td>18.9</td>\n",
       "      <td>86.625000</td>\n",
       "      <td>49.0</td>\n",
       "      <td>5.8</td>\n",
       "      <td>1.329167</td>\n",
       "      <td>NaN</td>\n",
       "    </tr>\n",
       "  </tbody>\n",
       "</table>\n",
       "<p>8714 rows × 12 columns</p>\n",
       "</div>"
      ],
      "text/plain": [
       "     Data Medicao  PRECIPITACAO TOTAL, DIARIO (AUT)(mm)   \n",
       "0      2000-05-06                                   NaN  \\\n",
       "1      2000-05-07                                   NaN   \n",
       "2      2000-05-08                                   0.0   \n",
       "3      2000-05-09                                   0.0   \n",
       "4      2000-05-10                                   0.0   \n",
       "...           ...                                   ...   \n",
       "8709   2024-03-10                                  19.6   \n",
       "8710   2024-03-11                                   0.2   \n",
       "8711   2024-03-12                                   3.2   \n",
       "8712   2024-03-13                                   1.4   \n",
       "8713   2024-03-14                                   4.8   \n",
       "\n",
       "      PRESSAO ATMOSFERICA MEDIA DIARIA (AUT)(mB)   \n",
       "0                                            NaN  \\\n",
       "1                                            NaN   \n",
       "2                                     888.087500   \n",
       "3                                     888.108333   \n",
       "4                                     889.000000   \n",
       "...                                          ...   \n",
       "8709                                  887.704167   \n",
       "8710                                  887.620833   \n",
       "8711                                  888.275000   \n",
       "8712                                  888.362500   \n",
       "8713                                  888.037500   \n",
       "\n",
       "      TEMPERATURA DO PONTO DE ORVALHO MEDIA DIARIA (AUT)(°C)   \n",
       "0                                                   NaN       \\\n",
       "1                                                   NaN        \n",
       "2                                             13.516667        \n",
       "3                                             13.254167        \n",
       "4                                             14.366667        \n",
       "...                                                 ...        \n",
       "8709                                          19.329167        \n",
       "8710                                          20.175000        \n",
       "8711                                          20.333333        \n",
       "8712                                          20.300000        \n",
       "8713                                          19.716667        \n",
       "\n",
       "      TEMPERATURA MAXIMA, DIARIA (AUT)(°C)   \n",
       "0                                      NaN  \\\n",
       "1                                      NaN   \n",
       "2                                     28.2   \n",
       "3                                     28.7   \n",
       "4                                     28.9   \n",
       "...                                    ...   \n",
       "8709                                  29.8   \n",
       "8710                                  29.7   \n",
       "8711                                  29.3   \n",
       "8712                                  29.4   \n",
       "8713                                  29.1   \n",
       "\n",
       "      TEMPERATURA MEDIA, DIARIA (AUT)(°C)   \n",
       "0                                     NaN  \\\n",
       "1                                     NaN   \n",
       "2                               22.137500   \n",
       "3                               22.058333   \n",
       "4                               22.391667   \n",
       "...                                   ...   \n",
       "8709                            23.079167   \n",
       "8710                            22.925000   \n",
       "8711                            23.929167   \n",
       "8712                            23.800000   \n",
       "8713                            22.341667   \n",
       "\n",
       "      TEMPERATURA MINIMA, DIARIA (AUT)(°C)   \n",
       "0                                      NaN  \\\n",
       "1                                      NaN   \n",
       "2                                     16.5   \n",
       "3                                     16.6   \n",
       "4                                     17.7   \n",
       "...                                    ...   \n",
       "8709                                  18.8   \n",
       "8710                                  19.0   \n",
       "8711                                  19.5   \n",
       "8712                                  21.1   \n",
       "8713                                  18.9   \n",
       "\n",
       "      UMIDADE RELATIVA DO AR, MEDIA DIARIA (AUT)(%)   \n",
       "0                                               NaN  \\\n",
       "1                                         49.153846   \n",
       "2                                         60.333333   \n",
       "3                                         58.833333   \n",
       "4                                         62.083333   \n",
       "...                                             ...   \n",
       "8709                                      81.666667   \n",
       "8710                                      85.625000   \n",
       "8711                                      81.916667   \n",
       "8712                                      81.833333   \n",
       "8713                                      86.625000   \n",
       "\n",
       "      UMIDADE RELATIVA DO AR, MINIMA DIARIA (AUT)(%)   \n",
       "0                                                NaN  \\\n",
       "1                                               36.0   \n",
       "2                                               33.0   \n",
       "3                                               37.0   \n",
       "4                                               35.0   \n",
       "...                                              ...   \n",
       "8709                                            45.0   \n",
       "8710                                            51.0   \n",
       "8711                                            55.0   \n",
       "8712                                            58.0   \n",
       "8713                                            49.0   \n",
       "\n",
       "      VENTO, RAJADA MAXIMA DIARIA (AUT)(m/s)   \n",
       "0                                        NaN  \\\n",
       "1                                        6.3   \n",
       "2                                        7.1   \n",
       "3                                        7.0   \n",
       "4                                        6.3   \n",
       "...                                      ...   \n",
       "8709                                     9.3   \n",
       "8710                                     7.9   \n",
       "8711                                     6.0   \n",
       "8712                                     7.1   \n",
       "8713                                     5.8   \n",
       "\n",
       "      VENTO, VELOCIDADE MEDIA DIARIA (AUT)(m/s)  Unnamed: 11  \n",
       "0                                           NaN          NaN  \n",
       "1                                           NaN          NaN  \n",
       "2                                      2.108333          NaN  \n",
       "3                                      1.158333          NaN  \n",
       "4                                      2.054167          NaN  \n",
       "...                                         ...          ...  \n",
       "8709                                   1.537500          NaN  \n",
       "8710                                   1.262500          NaN  \n",
       "8711                                   1.325000          NaN  \n",
       "8712                                   1.837500          NaN  \n",
       "8713                                   1.329167          NaN  \n",
       "\n",
       "[8714 rows x 12 columns]"
      ]
     },
     "execution_count": 8,
     "metadata": {},
     "output_type": "execute_result"
    }
   ],
   "source": [
    "df_bsb_A001_d"
   ]
  },
  {
   "cell_type": "code",
   "execution_count": 9,
   "metadata": {},
   "outputs": [
    {
     "data": {
      "text/html": [
       "<div>\n",
       "<style scoped>\n",
       "    .dataframe tbody tr th:only-of-type {\n",
       "        vertical-align: middle;\n",
       "    }\n",
       "\n",
       "    .dataframe tbody tr th {\n",
       "        vertical-align: top;\n",
       "    }\n",
       "\n",
       "    .dataframe thead th {\n",
       "        text-align: right;\n",
       "    }\n",
       "</style>\n",
       "<table border=\"1\" class=\"dataframe\">\n",
       "  <thead>\n",
       "    <tr style=\"text-align: right;\">\n",
       "      <th></th>\n",
       "      <th>Data Medicao</th>\n",
       "      <th>PRECIPITACAO TOTAL, DIARIO (AUT)(mm)</th>\n",
       "      <th>PRESSAO ATMOSFERICA MEDIA DIARIA (AUT)(mB)</th>\n",
       "      <th>TEMPERATURA DO PONTO DE ORVALHO MEDIA DIARIA (AUT)(°C)</th>\n",
       "      <th>TEMPERATURA MAXIMA, DIARIA (AUT)(°C)</th>\n",
       "      <th>TEMPERATURA MEDIA, DIARIA (AUT)(°C)</th>\n",
       "      <th>TEMPERATURA MINIMA, DIARIA (AUT)(°C)</th>\n",
       "      <th>UMIDADE RELATIVA DO AR, MEDIA DIARIA (AUT)(%)</th>\n",
       "      <th>UMIDADE RELATIVA DO AR, MINIMA DIARIA (AUT)(%)</th>\n",
       "      <th>VENTO, RAJADA MAXIMA DIARIA (AUT)(m/s)</th>\n",
       "      <th>VENTO, VELOCIDADE MEDIA DIARIA (AUT)(m/s)</th>\n",
       "      <th>Unnamed: 11</th>\n",
       "    </tr>\n",
       "  </thead>\n",
       "  <tbody>\n",
       "    <tr>\n",
       "      <th>0</th>\n",
       "      <td>2008-10-02</td>\n",
       "      <td>NaN</td>\n",
       "      <td>NaN</td>\n",
       "      <td>NaN</td>\n",
       "      <td>NaN</td>\n",
       "      <td>NaN</td>\n",
       "      <td>NaN</td>\n",
       "      <td>NaN</td>\n",
       "      <td>NaN</td>\n",
       "      <td>NaN</td>\n",
       "      <td>NaN</td>\n",
       "      <td>NaN</td>\n",
       "    </tr>\n",
       "    <tr>\n",
       "      <th>1</th>\n",
       "      <td>2008-10-03</td>\n",
       "      <td>NaN</td>\n",
       "      <td>NaN</td>\n",
       "      <td>NaN</td>\n",
       "      <td>NaN</td>\n",
       "      <td>NaN</td>\n",
       "      <td>NaN</td>\n",
       "      <td>NaN</td>\n",
       "      <td>NaN</td>\n",
       "      <td>NaN</td>\n",
       "      <td>NaN</td>\n",
       "      <td>NaN</td>\n",
       "    </tr>\n",
       "    <tr>\n",
       "      <th>2</th>\n",
       "      <td>2008-10-04</td>\n",
       "      <td>NaN</td>\n",
       "      <td>NaN</td>\n",
       "      <td>NaN</td>\n",
       "      <td>NaN</td>\n",
       "      <td>NaN</td>\n",
       "      <td>NaN</td>\n",
       "      <td>NaN</td>\n",
       "      <td>NaN</td>\n",
       "      <td>NaN</td>\n",
       "      <td>NaN</td>\n",
       "      <td>NaN</td>\n",
       "    </tr>\n",
       "    <tr>\n",
       "      <th>3</th>\n",
       "      <td>2008-10-05</td>\n",
       "      <td>NaN</td>\n",
       "      <td>NaN</td>\n",
       "      <td>NaN</td>\n",
       "      <td>NaN</td>\n",
       "      <td>NaN</td>\n",
       "      <td>NaN</td>\n",
       "      <td>NaN</td>\n",
       "      <td>NaN</td>\n",
       "      <td>NaN</td>\n",
       "      <td>NaN</td>\n",
       "      <td>NaN</td>\n",
       "    </tr>\n",
       "    <tr>\n",
       "      <th>4</th>\n",
       "      <td>2008-10-06</td>\n",
       "      <td>NaN</td>\n",
       "      <td>NaN</td>\n",
       "      <td>NaN</td>\n",
       "      <td>NaN</td>\n",
       "      <td>NaN</td>\n",
       "      <td>NaN</td>\n",
       "      <td>31.538462</td>\n",
       "      <td>14.0</td>\n",
       "      <td>9.7</td>\n",
       "      <td>NaN</td>\n",
       "      <td>NaN</td>\n",
       "    </tr>\n",
       "    <tr>\n",
       "      <th>...</th>\n",
       "      <td>...</td>\n",
       "      <td>...</td>\n",
       "      <td>...</td>\n",
       "      <td>...</td>\n",
       "      <td>...</td>\n",
       "      <td>...</td>\n",
       "      <td>...</td>\n",
       "      <td>...</td>\n",
       "      <td>...</td>\n",
       "      <td>...</td>\n",
       "      <td>...</td>\n",
       "      <td>...</td>\n",
       "    </tr>\n",
       "    <tr>\n",
       "      <th>5638</th>\n",
       "      <td>2024-03-10</td>\n",
       "      <td>0.0</td>\n",
       "      <td>900.730435</td>\n",
       "      <td>18.713043</td>\n",
       "      <td>29.9</td>\n",
       "      <td>22.534783</td>\n",
       "      <td>18.1</td>\n",
       "      <td>80.695652</td>\n",
       "      <td>47.0</td>\n",
       "      <td>10.1</td>\n",
       "      <td>1.556522</td>\n",
       "      <td>NaN</td>\n",
       "    </tr>\n",
       "    <tr>\n",
       "      <th>5639</th>\n",
       "      <td>2024-03-11</td>\n",
       "      <td>16.4</td>\n",
       "      <td>900.536364</td>\n",
       "      <td>19.904545</td>\n",
       "      <td>31.1</td>\n",
       "      <td>24.795455</td>\n",
       "      <td>19.6</td>\n",
       "      <td>76.681818</td>\n",
       "      <td>42.0</td>\n",
       "      <td>7.5</td>\n",
       "      <td>1.390909</td>\n",
       "      <td>NaN</td>\n",
       "    </tr>\n",
       "    <tr>\n",
       "      <th>5640</th>\n",
       "      <td>2024-03-12</td>\n",
       "      <td>0.0</td>\n",
       "      <td>901.268182</td>\n",
       "      <td>19.022727</td>\n",
       "      <td>31.5</td>\n",
       "      <td>24.386364</td>\n",
       "      <td>18.5</td>\n",
       "      <td>74.590909</td>\n",
       "      <td>43.0</td>\n",
       "      <td>9.9</td>\n",
       "      <td>1.181818</td>\n",
       "      <td>NaN</td>\n",
       "    </tr>\n",
       "    <tr>\n",
       "      <th>5641</th>\n",
       "      <td>2024-03-13</td>\n",
       "      <td>0.0</td>\n",
       "      <td>901.363636</td>\n",
       "      <td>20.254545</td>\n",
       "      <td>30.9</td>\n",
       "      <td>24.054545</td>\n",
       "      <td>21.1</td>\n",
       "      <td>80.454545</td>\n",
       "      <td>52.0</td>\n",
       "      <td>9.6</td>\n",
       "      <td>1.763636</td>\n",
       "      <td>NaN</td>\n",
       "    </tr>\n",
       "    <tr>\n",
       "      <th>5642</th>\n",
       "      <td>2024-03-14</td>\n",
       "      <td>NaN</td>\n",
       "      <td>901.066667</td>\n",
       "      <td>19.276190</td>\n",
       "      <td>30.8</td>\n",
       "      <td>NaN</td>\n",
       "      <td>19.0</td>\n",
       "      <td>77.904762</td>\n",
       "      <td>44.0</td>\n",
       "      <td>7.9</td>\n",
       "      <td>1.433333</td>\n",
       "      <td>NaN</td>\n",
       "    </tr>\n",
       "  </tbody>\n",
       "</table>\n",
       "<p>5643 rows × 12 columns</p>\n",
       "</div>"
      ],
      "text/plain": [
       "     Data Medicao  PRECIPITACAO TOTAL, DIARIO (AUT)(mm)   \n",
       "0      2008-10-02                                   NaN  \\\n",
       "1      2008-10-03                                   NaN   \n",
       "2      2008-10-04                                   NaN   \n",
       "3      2008-10-05                                   NaN   \n",
       "4      2008-10-06                                   NaN   \n",
       "...           ...                                   ...   \n",
       "5638   2024-03-10                                   0.0   \n",
       "5639   2024-03-11                                  16.4   \n",
       "5640   2024-03-12                                   0.0   \n",
       "5641   2024-03-13                                   0.0   \n",
       "5642   2024-03-14                                   NaN   \n",
       "\n",
       "      PRESSAO ATMOSFERICA MEDIA DIARIA (AUT)(mB)   \n",
       "0                                            NaN  \\\n",
       "1                                            NaN   \n",
       "2                                            NaN   \n",
       "3                                            NaN   \n",
       "4                                            NaN   \n",
       "...                                          ...   \n",
       "5638                                  900.730435   \n",
       "5639                                  900.536364   \n",
       "5640                                  901.268182   \n",
       "5641                                  901.363636   \n",
       "5642                                  901.066667   \n",
       "\n",
       "      TEMPERATURA DO PONTO DE ORVALHO MEDIA DIARIA (AUT)(°C)   \n",
       "0                                                   NaN       \\\n",
       "1                                                   NaN        \n",
       "2                                                   NaN        \n",
       "3                                                   NaN        \n",
       "4                                                   NaN        \n",
       "...                                                 ...        \n",
       "5638                                          18.713043        \n",
       "5639                                          19.904545        \n",
       "5640                                          19.022727        \n",
       "5641                                          20.254545        \n",
       "5642                                          19.276190        \n",
       "\n",
       "      TEMPERATURA MAXIMA, DIARIA (AUT)(°C)   \n",
       "0                                      NaN  \\\n",
       "1                                      NaN   \n",
       "2                                      NaN   \n",
       "3                                      NaN   \n",
       "4                                      NaN   \n",
       "...                                    ...   \n",
       "5638                                  29.9   \n",
       "5639                                  31.1   \n",
       "5640                                  31.5   \n",
       "5641                                  30.9   \n",
       "5642                                  30.8   \n",
       "\n",
       "      TEMPERATURA MEDIA, DIARIA (AUT)(°C)   \n",
       "0                                     NaN  \\\n",
       "1                                     NaN   \n",
       "2                                     NaN   \n",
       "3                                     NaN   \n",
       "4                                     NaN   \n",
       "...                                   ...   \n",
       "5638                            22.534783   \n",
       "5639                            24.795455   \n",
       "5640                            24.386364   \n",
       "5641                            24.054545   \n",
       "5642                                  NaN   \n",
       "\n",
       "      TEMPERATURA MINIMA, DIARIA (AUT)(°C)   \n",
       "0                                      NaN  \\\n",
       "1                                      NaN   \n",
       "2                                      NaN   \n",
       "3                                      NaN   \n",
       "4                                      NaN   \n",
       "...                                    ...   \n",
       "5638                                  18.1   \n",
       "5639                                  19.6   \n",
       "5640                                  18.5   \n",
       "5641                                  21.1   \n",
       "5642                                  19.0   \n",
       "\n",
       "      UMIDADE RELATIVA DO AR, MEDIA DIARIA (AUT)(%)   \n",
       "0                                               NaN  \\\n",
       "1                                               NaN   \n",
       "2                                               NaN   \n",
       "3                                               NaN   \n",
       "4                                         31.538462   \n",
       "...                                             ...   \n",
       "5638                                      80.695652   \n",
       "5639                                      76.681818   \n",
       "5640                                      74.590909   \n",
       "5641                                      80.454545   \n",
       "5642                                      77.904762   \n",
       "\n",
       "      UMIDADE RELATIVA DO AR, MINIMA DIARIA (AUT)(%)   \n",
       "0                                                NaN  \\\n",
       "1                                                NaN   \n",
       "2                                                NaN   \n",
       "3                                                NaN   \n",
       "4                                               14.0   \n",
       "...                                              ...   \n",
       "5638                                            47.0   \n",
       "5639                                            42.0   \n",
       "5640                                            43.0   \n",
       "5641                                            52.0   \n",
       "5642                                            44.0   \n",
       "\n",
       "      VENTO, RAJADA MAXIMA DIARIA (AUT)(m/s)   \n",
       "0                                        NaN  \\\n",
       "1                                        NaN   \n",
       "2                                        NaN   \n",
       "3                                        NaN   \n",
       "4                                        9.7   \n",
       "...                                      ...   \n",
       "5638                                    10.1   \n",
       "5639                                     7.5   \n",
       "5640                                     9.9   \n",
       "5641                                     9.6   \n",
       "5642                                     7.9   \n",
       "\n",
       "      VENTO, VELOCIDADE MEDIA DIARIA (AUT)(m/s)  Unnamed: 11  \n",
       "0                                           NaN          NaN  \n",
       "1                                           NaN          NaN  \n",
       "2                                           NaN          NaN  \n",
       "3                                           NaN          NaN  \n",
       "4                                           NaN          NaN  \n",
       "...                                         ...          ...  \n",
       "5638                                   1.556522          NaN  \n",
       "5639                                   1.390909          NaN  \n",
       "5640                                   1.181818          NaN  \n",
       "5641                                   1.763636          NaN  \n",
       "5642                                   1.433333          NaN  \n",
       "\n",
       "[5643 rows x 12 columns]"
      ]
     },
     "execution_count": 9,
     "metadata": {},
     "output_type": "execute_result"
    }
   ],
   "source": [
    "df_AguasEmendadas_A045_d"
   ]
  },
  {
   "cell_type": "markdown",
   "metadata": {},
   "source": [
    "PRIMEIRO FILTRO:\n",
    "- Remover valores nodata "
   ]
  },
  {
   "cell_type": "code",
   "execution_count": 19,
   "metadata": {},
   "outputs": [],
   "source": [
    "# Dois tipos de filtros para os dados do dataframe est_inmet: isna e notna para a colina de TEMPERATURA MEDIA COMPENSADA DIARIA(°C)\n",
    "filter_isna = df_bsb_83377_d['TEMPERATURA MEDIA COMPENSADA, DIARIA(°C)'].isna()\n",
    "filter_notna = df_bsb_83377_d['TEMPERATURA MEDIA COMPENSADA, DIARIA(°C)'].notna()"
   ]
  },
  {
   "cell_type": "code",
   "execution_count": 20,
   "metadata": {},
   "outputs": [
    {
     "data": {
      "text/plain": [
       "22562"
      ]
     },
     "execution_count": 20,
     "metadata": {},
     "output_type": "execute_result"
    }
   ],
   "source": [
    "df_bsb_83377_d['TEMPERATURA MEDIA COMPENSADA, DIARIA(°C)'].notna().sum()"
   ]
  },
  {
   "cell_type": "code",
   "execution_count": 21,
   "metadata": {},
   "outputs": [
    {
     "data": {
      "text/plain": [
       "22562"
      ]
     },
     "execution_count": 21,
     "metadata": {},
     "output_type": "execute_result"
    }
   ],
   "source": [
    "df_bsb_83377_d['TEMPERATURA MEDIA COMPENSADA, DIARIA(°C)'].count()"
   ]
  },
  {
   "cell_type": "code",
   "execution_count": 22,
   "metadata": {},
   "outputs": [
    {
     "data": {
      "text/plain": [
       "22831"
      ]
     },
     "execution_count": 22,
     "metadata": {},
     "output_type": "execute_result"
    }
   ],
   "source": [
    "len(df_bsb_83377_d['TEMPERATURA MEDIA COMPENSADA, DIARIA(°C)'])"
   ]
  },
  {
   "cell_type": "code",
   "execution_count": 23,
   "metadata": {},
   "outputs": [
    {
     "name": "stdout",
     "output_type": "stream",
     "text": [
      "Com vazios: 22831\n",
      "Vazios: 269\n",
      "Sem Vazios 22562\n"
     ]
    }
   ],
   "source": [
    "# Visualizar a quantidade de dados com vazios e sem vazios\n",
    "print(f\"Com vazios: {df_bsb_83377_d.shape[0]}\\nVazios: { df_bsb_83377_d[filter_isna].shape[0]}\\nSem Vazios {df_bsb_83377_d[filter_notna].shape[0]}\")"
   ]
  },
  {
   "cell_type": "code",
   "execution_count": 24,
   "metadata": {},
   "outputs": [],
   "source": [
    "# Atribuir os dados sem vazios a variável est_inmet_filtrado\n",
    "df_bsb_83377_d_filtrado = df_bsb_83377_d[filter_notna]"
   ]
  },
  {
   "cell_type": "markdown",
   "metadata": {},
   "source": [
    "Nos próximos processamentos, será necessário a utilização da data de cada linha. Para isso, foi necessário criar duas colunas:\n",
    " - Mês \n",
    " - Ano\n",
    "\n",
    "Além disso, é necessário conveter os valores da coluna \"Data Medicacao\" que estão como objeto para DateTimes."
   ]
  },
  {
   "cell_type": "code",
   "execution_count": 25,
   "metadata": {},
   "outputs": [
    {
     "name": "stderr",
     "output_type": "stream",
     "text": [
      "C:\\Users\\rogerio.siqueira\\AppData\\Local\\Temp\\ipykernel_26224\\2901567815.py:3: SettingWithCopyWarning: \n",
      "A value is trying to be set on a copy of a slice from a DataFrame.\n",
      "Try using .loc[row_indexer,col_indexer] = value instead\n",
      "\n",
      "See the caveats in the documentation: https://pandas.pydata.org/pandas-docs/stable/user_guide/indexing.html#returning-a-view-versus-a-copy\n",
      "  df_bsb_83377_d_filtrado[\"Data Medicao\"] = pd.to_datetime(df_bsb_83377_d_filtrado[\"Data Medicao\"])\n"
     ]
    }
   ],
   "source": [
    "#Converter objeto para Data\n",
    "\n",
    "df_bsb_83377_d_filtrado[\"Data Medicao\"] = pd.to_datetime(df_bsb_83377_d_filtrado[\"Data Medicao\"])"
   ]
  },
  {
   "cell_type": "code",
   "execution_count": 26,
   "metadata": {},
   "outputs": [
    {
     "data": {
      "text/html": [
       "<div>\n",
       "<style scoped>\n",
       "    .dataframe tbody tr th:only-of-type {\n",
       "        vertical-align: middle;\n",
       "    }\n",
       "\n",
       "    .dataframe tbody tr th {\n",
       "        vertical-align: top;\n",
       "    }\n",
       "\n",
       "    .dataframe thead th {\n",
       "        text-align: right;\n",
       "    }\n",
       "</style>\n",
       "<table border=\"1\" class=\"dataframe\">\n",
       "  <thead>\n",
       "    <tr style=\"text-align: right;\">\n",
       "      <th></th>\n",
       "      <th>Data Medicao</th>\n",
       "      <th>EVAPORACAO DO PICHE, DIARIA(mm)</th>\n",
       "      <th>INSOLACAO TOTAL, DIARIO(h)</th>\n",
       "      <th>PRECIPITACAO TOTAL, DIARIO(mm)</th>\n",
       "      <th>TEMPERATURA MAXIMA, DIARIA(°C)</th>\n",
       "      <th>TEMPERATURA MEDIA COMPENSADA, DIARIA(°C)</th>\n",
       "      <th>TEMPERATURA MINIMA, DIARIA(°C)</th>\n",
       "      <th>UMIDADE RELATIVA DO AR, MEDIA DIARIA(%)</th>\n",
       "      <th>UMIDADE RELATIVA DO AR, MINIMA DIARIA(%)</th>\n",
       "      <th>VENTO, VELOCIDADE MEDIA DIARIA(m/s)</th>\n",
       "      <th>Unnamed: 10</th>\n",
       "    </tr>\n",
       "  </thead>\n",
       "  <tbody>\n",
       "    <tr>\n",
       "      <th>6</th>\n",
       "      <td>1961-09-17</td>\n",
       "      <td>NaN</td>\n",
       "      <td>NaN</td>\n",
       "      <td>0.0</td>\n",
       "      <td>31.8</td>\n",
       "      <td>24.02</td>\n",
       "      <td>16.5</td>\n",
       "      <td>30.75</td>\n",
       "      <td>20.0</td>\n",
       "      <td>2.066667</td>\n",
       "      <td>NaN</td>\n",
       "    </tr>\n",
       "    <tr>\n",
       "      <th>7</th>\n",
       "      <td>1961-09-18</td>\n",
       "      <td>NaN</td>\n",
       "      <td>9.2</td>\n",
       "      <td>0.0</td>\n",
       "      <td>32.4</td>\n",
       "      <td>23.96</td>\n",
       "      <td>14.6</td>\n",
       "      <td>27.75</td>\n",
       "      <td>14.0</td>\n",
       "      <td>1.900000</td>\n",
       "      <td>NaN</td>\n",
       "    </tr>\n",
       "    <tr>\n",
       "      <th>8</th>\n",
       "      <td>1961-09-19</td>\n",
       "      <td>NaN</td>\n",
       "      <td>9.4</td>\n",
       "      <td>0.0</td>\n",
       "      <td>33.4</td>\n",
       "      <td>23.80</td>\n",
       "      <td>12.0</td>\n",
       "      <td>31.50</td>\n",
       "      <td>20.0</td>\n",
       "      <td>2.066667</td>\n",
       "      <td>NaN</td>\n",
       "    </tr>\n",
       "    <tr>\n",
       "      <th>9</th>\n",
       "      <td>1961-09-20</td>\n",
       "      <td>NaN</td>\n",
       "      <td>9.8</td>\n",
       "      <td>0.0</td>\n",
       "      <td>32.7</td>\n",
       "      <td>23.18</td>\n",
       "      <td>12.0</td>\n",
       "      <td>27.75</td>\n",
       "      <td>18.0</td>\n",
       "      <td>2.900000</td>\n",
       "      <td>NaN</td>\n",
       "    </tr>\n",
       "    <tr>\n",
       "      <th>10</th>\n",
       "      <td>1961-09-21</td>\n",
       "      <td>NaN</td>\n",
       "      <td>9.3</td>\n",
       "      <td>0.0</td>\n",
       "      <td>32.7</td>\n",
       "      <td>23.56</td>\n",
       "      <td>13.9</td>\n",
       "      <td>25.00</td>\n",
       "      <td>14.0</td>\n",
       "      <td>1.366667</td>\n",
       "      <td>NaN</td>\n",
       "    </tr>\n",
       "    <tr>\n",
       "      <th>...</th>\n",
       "      <td>...</td>\n",
       "      <td>...</td>\n",
       "      <td>...</td>\n",
       "      <td>...</td>\n",
       "      <td>...</td>\n",
       "      <td>...</td>\n",
       "      <td>...</td>\n",
       "      <td>...</td>\n",
       "      <td>...</td>\n",
       "      <td>...</td>\n",
       "      <td>...</td>\n",
       "    </tr>\n",
       "    <tr>\n",
       "      <th>22826</th>\n",
       "      <td>2024-03-10</td>\n",
       "      <td>NaN</td>\n",
       "      <td>4.9</td>\n",
       "      <td>26.5</td>\n",
       "      <td>29.7</td>\n",
       "      <td>23.14</td>\n",
       "      <td>19.3</td>\n",
       "      <td>78.00</td>\n",
       "      <td>NaN</td>\n",
       "      <td>1.371840</td>\n",
       "      <td>NaN</td>\n",
       "    </tr>\n",
       "    <tr>\n",
       "      <th>22827</th>\n",
       "      <td>2024-03-11</td>\n",
       "      <td>NaN</td>\n",
       "      <td>4.7</td>\n",
       "      <td>0.0</td>\n",
       "      <td>30.0</td>\n",
       "      <td>23.82</td>\n",
       "      <td>20.0</td>\n",
       "      <td>84.75</td>\n",
       "      <td>NaN</td>\n",
       "      <td>0.342960</td>\n",
       "      <td>NaN</td>\n",
       "    </tr>\n",
       "    <tr>\n",
       "      <th>22828</th>\n",
       "      <td>2024-03-12</td>\n",
       "      <td>NaN</td>\n",
       "      <td>4.2</td>\n",
       "      <td>4.0</td>\n",
       "      <td>29.8</td>\n",
       "      <td>24.22</td>\n",
       "      <td>20.4</td>\n",
       "      <td>85.00</td>\n",
       "      <td>NaN</td>\n",
       "      <td>0.000000</td>\n",
       "      <td>NaN</td>\n",
       "    </tr>\n",
       "    <tr>\n",
       "      <th>22829</th>\n",
       "      <td>2024-03-13</td>\n",
       "      <td>NaN</td>\n",
       "      <td>5.4</td>\n",
       "      <td>2.0</td>\n",
       "      <td>28.9</td>\n",
       "      <td>22.54</td>\n",
       "      <td>17.0</td>\n",
       "      <td>81.25</td>\n",
       "      <td>NaN</td>\n",
       "      <td>0.685920</td>\n",
       "      <td>NaN</td>\n",
       "    </tr>\n",
       "    <tr>\n",
       "      <th>22830</th>\n",
       "      <td>2024-03-14</td>\n",
       "      <td>NaN</td>\n",
       "      <td>3.4</td>\n",
       "      <td>6.7</td>\n",
       "      <td>29.3</td>\n",
       "      <td>22.78</td>\n",
       "      <td>19.7</td>\n",
       "      <td>94.75</td>\n",
       "      <td>90.0</td>\n",
       "      <td>0.000000</td>\n",
       "      <td>NaN</td>\n",
       "    </tr>\n",
       "  </tbody>\n",
       "</table>\n",
       "<p>22562 rows × 11 columns</p>\n",
       "</div>"
      ],
      "text/plain": [
       "      Data Medicao  EVAPORACAO DO PICHE, DIARIA(mm)   \n",
       "6       1961-09-17                              NaN  \\\n",
       "7       1961-09-18                              NaN   \n",
       "8       1961-09-19                              NaN   \n",
       "9       1961-09-20                              NaN   \n",
       "10      1961-09-21                              NaN   \n",
       "...            ...                              ...   \n",
       "22826   2024-03-10                              NaN   \n",
       "22827   2024-03-11                              NaN   \n",
       "22828   2024-03-12                              NaN   \n",
       "22829   2024-03-13                              NaN   \n",
       "22830   2024-03-14                              NaN   \n",
       "\n",
       "       INSOLACAO TOTAL, DIARIO(h)  PRECIPITACAO TOTAL, DIARIO(mm)   \n",
       "6                             NaN                             0.0  \\\n",
       "7                             9.2                             0.0   \n",
       "8                             9.4                             0.0   \n",
       "9                             9.8                             0.0   \n",
       "10                            9.3                             0.0   \n",
       "...                           ...                             ...   \n",
       "22826                         4.9                            26.5   \n",
       "22827                         4.7                             0.0   \n",
       "22828                         4.2                             4.0   \n",
       "22829                         5.4                             2.0   \n",
       "22830                         3.4                             6.7   \n",
       "\n",
       "       TEMPERATURA MAXIMA, DIARIA(°C)   \n",
       "6                                31.8  \\\n",
       "7                                32.4   \n",
       "8                                33.4   \n",
       "9                                32.7   \n",
       "10                               32.7   \n",
       "...                               ...   \n",
       "22826                            29.7   \n",
       "22827                            30.0   \n",
       "22828                            29.8   \n",
       "22829                            28.9   \n",
       "22830                            29.3   \n",
       "\n",
       "       TEMPERATURA MEDIA COMPENSADA, DIARIA(°C)   \n",
       "6                                         24.02  \\\n",
       "7                                         23.96   \n",
       "8                                         23.80   \n",
       "9                                         23.18   \n",
       "10                                        23.56   \n",
       "...                                         ...   \n",
       "22826                                     23.14   \n",
       "22827                                     23.82   \n",
       "22828                                     24.22   \n",
       "22829                                     22.54   \n",
       "22830                                     22.78   \n",
       "\n",
       "       TEMPERATURA MINIMA, DIARIA(°C)   \n",
       "6                                16.5  \\\n",
       "7                                14.6   \n",
       "8                                12.0   \n",
       "9                                12.0   \n",
       "10                               13.9   \n",
       "...                               ...   \n",
       "22826                            19.3   \n",
       "22827                            20.0   \n",
       "22828                            20.4   \n",
       "22829                            17.0   \n",
       "22830                            19.7   \n",
       "\n",
       "       UMIDADE RELATIVA DO AR, MEDIA DIARIA(%)   \n",
       "6                                        30.75  \\\n",
       "7                                        27.75   \n",
       "8                                        31.50   \n",
       "9                                        27.75   \n",
       "10                                       25.00   \n",
       "...                                        ...   \n",
       "22826                                    78.00   \n",
       "22827                                    84.75   \n",
       "22828                                    85.00   \n",
       "22829                                    81.25   \n",
       "22830                                    94.75   \n",
       "\n",
       "       UMIDADE RELATIVA DO AR, MINIMA DIARIA(%)   \n",
       "6                                          20.0  \\\n",
       "7                                          14.0   \n",
       "8                                          20.0   \n",
       "9                                          18.0   \n",
       "10                                         14.0   \n",
       "...                                         ...   \n",
       "22826                                       NaN   \n",
       "22827                                       NaN   \n",
       "22828                                       NaN   \n",
       "22829                                       NaN   \n",
       "22830                                      90.0   \n",
       "\n",
       "       VENTO, VELOCIDADE MEDIA DIARIA(m/s)  Unnamed: 10  \n",
       "6                                 2.066667          NaN  \n",
       "7                                 1.900000          NaN  \n",
       "8                                 2.066667          NaN  \n",
       "9                                 2.900000          NaN  \n",
       "10                                1.366667          NaN  \n",
       "...                                    ...          ...  \n",
       "22826                             1.371840          NaN  \n",
       "22827                             0.342960          NaN  \n",
       "22828                             0.000000          NaN  \n",
       "22829                             0.685920          NaN  \n",
       "22830                             0.000000          NaN  \n",
       "\n",
       "[22562 rows x 11 columns]"
      ]
     },
     "execution_count": 26,
     "metadata": {},
     "output_type": "execute_result"
    }
   ],
   "source": [
    "df_bsb_83377_d_filtrado"
   ]
  },
  {
   "cell_type": "code",
   "execution_count": 27,
   "metadata": {},
   "outputs": [],
   "source": [
    "#Inserir o nome do mês na coluna Mês\n",
    "\n",
    "nm_mes = df_bsb_83377_d_filtrado[\"Data Medicao\"].dt.strftime(\"%B\")\n",
    "df_bsb_83377_d_filtrado.insert(1,\"MÊS\",nm_mes)"
   ]
  },
  {
   "cell_type": "code",
   "execution_count": 28,
   "metadata": {},
   "outputs": [
    {
     "data": {
      "text/plain": [
       "6        September\n",
       "7        September\n",
       "8        September\n",
       "9        September\n",
       "10       September\n",
       "           ...    \n",
       "22826        March\n",
       "22827        March\n",
       "22828        March\n",
       "22829        March\n",
       "22830        March\n",
       "Name: Data Medicao, Length: 22562, dtype: object"
      ]
     },
     "execution_count": 28,
     "metadata": {},
     "output_type": "execute_result"
    }
   ],
   "source": [
    "# Visualizar nome do mês na coluna Mês\n",
    "nm_mes"
   ]
  },
  {
   "cell_type": "code",
   "execution_count": 29,
   "metadata": {},
   "outputs": [],
   "source": [
    "#Inserir o nome do mês na coluna Mês\n",
    "\n",
    "ano = df_bsb_83377_d_filtrado[\"Data Medicao\"].dt.strftime(\"%Y\")\n",
    "df_bsb_83377_d_filtrado.insert(2,\"ANO\",ano)"
   ]
  },
  {
   "cell_type": "code",
   "execution_count": 30,
   "metadata": {},
   "outputs": [
    {
     "data": {
      "text/plain": [
       "Index(['Data Medicao', 'MÊS', 'ANO', 'EVAPORACAO DO PICHE, DIARIA(mm)',\n",
       "       'INSOLACAO TOTAL, DIARIO(h)', 'PRECIPITACAO TOTAL, DIARIO(mm)',\n",
       "       'TEMPERATURA MAXIMA, DIARIA(°C)',\n",
       "       'TEMPERATURA MEDIA COMPENSADA, DIARIA(°C)',\n",
       "       'TEMPERATURA MINIMA, DIARIA(°C)',\n",
       "       'UMIDADE RELATIVA DO AR, MEDIA DIARIA(%)',\n",
       "       'UMIDADE RELATIVA DO AR, MINIMA DIARIA(%)',\n",
       "       'VENTO, VELOCIDADE MEDIA DIARIA(m/s)', 'Unnamed: 10'],\n",
       "      dtype='object')"
      ]
     },
     "execution_count": 30,
     "metadata": {},
     "output_type": "execute_result"
    }
   ],
   "source": [
    "# Visualizar colunas do dataframe est_inmet_filtrado\n",
    "df_bsb_83377_d_filtrado.columns"
   ]
  },
  {
   "cell_type": "code",
   "execution_count": 31,
   "metadata": {},
   "outputs": [
    {
     "data": {
      "text/html": [
       "<div>\n",
       "<style scoped>\n",
       "    .dataframe tbody tr th:only-of-type {\n",
       "        vertical-align: middle;\n",
       "    }\n",
       "\n",
       "    .dataframe tbody tr th {\n",
       "        vertical-align: top;\n",
       "    }\n",
       "\n",
       "    .dataframe thead th {\n",
       "        text-align: right;\n",
       "    }\n",
       "</style>\n",
       "<table border=\"1\" class=\"dataframe\">\n",
       "  <thead>\n",
       "    <tr style=\"text-align: right;\">\n",
       "      <th></th>\n",
       "      <th>Data Medicao</th>\n",
       "      <th>MÊS</th>\n",
       "      <th>ANO</th>\n",
       "      <th>TEMPERATURA MEDIA COMPENSADA, DIARIA(°C)</th>\n",
       "    </tr>\n",
       "  </thead>\n",
       "  <tbody>\n",
       "    <tr>\n",
       "      <th>6</th>\n",
       "      <td>1961-09-17</td>\n",
       "      <td>September</td>\n",
       "      <td>1961</td>\n",
       "      <td>24.02</td>\n",
       "    </tr>\n",
       "    <tr>\n",
       "      <th>7</th>\n",
       "      <td>1961-09-18</td>\n",
       "      <td>September</td>\n",
       "      <td>1961</td>\n",
       "      <td>23.96</td>\n",
       "    </tr>\n",
       "    <tr>\n",
       "      <th>8</th>\n",
       "      <td>1961-09-19</td>\n",
       "      <td>September</td>\n",
       "      <td>1961</td>\n",
       "      <td>23.80</td>\n",
       "    </tr>\n",
       "    <tr>\n",
       "      <th>9</th>\n",
       "      <td>1961-09-20</td>\n",
       "      <td>September</td>\n",
       "      <td>1961</td>\n",
       "      <td>23.18</td>\n",
       "    </tr>\n",
       "    <tr>\n",
       "      <th>10</th>\n",
       "      <td>1961-09-21</td>\n",
       "      <td>September</td>\n",
       "      <td>1961</td>\n",
       "      <td>23.56</td>\n",
       "    </tr>\n",
       "    <tr>\n",
       "      <th>...</th>\n",
       "      <td>...</td>\n",
       "      <td>...</td>\n",
       "      <td>...</td>\n",
       "      <td>...</td>\n",
       "    </tr>\n",
       "    <tr>\n",
       "      <th>22826</th>\n",
       "      <td>2024-03-10</td>\n",
       "      <td>March</td>\n",
       "      <td>2024</td>\n",
       "      <td>23.14</td>\n",
       "    </tr>\n",
       "    <tr>\n",
       "      <th>22827</th>\n",
       "      <td>2024-03-11</td>\n",
       "      <td>March</td>\n",
       "      <td>2024</td>\n",
       "      <td>23.82</td>\n",
       "    </tr>\n",
       "    <tr>\n",
       "      <th>22828</th>\n",
       "      <td>2024-03-12</td>\n",
       "      <td>March</td>\n",
       "      <td>2024</td>\n",
       "      <td>24.22</td>\n",
       "    </tr>\n",
       "    <tr>\n",
       "      <th>22829</th>\n",
       "      <td>2024-03-13</td>\n",
       "      <td>March</td>\n",
       "      <td>2024</td>\n",
       "      <td>22.54</td>\n",
       "    </tr>\n",
       "    <tr>\n",
       "      <th>22830</th>\n",
       "      <td>2024-03-14</td>\n",
       "      <td>March</td>\n",
       "      <td>2024</td>\n",
       "      <td>22.78</td>\n",
       "    </tr>\n",
       "  </tbody>\n",
       "</table>\n",
       "<p>22562 rows × 4 columns</p>\n",
       "</div>"
      ],
      "text/plain": [
       "      Data Medicao        MÊS   ANO  TEMPERATURA MEDIA COMPENSADA, DIARIA(°C)\n",
       "6       1961-09-17  September  1961                                     24.02\n",
       "7       1961-09-18  September  1961                                     23.96\n",
       "8       1961-09-19  September  1961                                     23.80\n",
       "9       1961-09-20  September  1961                                     23.18\n",
       "10      1961-09-21  September  1961                                     23.56\n",
       "...            ...        ...   ...                                       ...\n",
       "22826   2024-03-10      March  2024                                     23.14\n",
       "22827   2024-03-11      March  2024                                     23.82\n",
       "22828   2024-03-12      March  2024                                     24.22\n",
       "22829   2024-03-13      March  2024                                     22.54\n",
       "22830   2024-03-14      March  2024                                     22.78\n",
       "\n",
       "[22562 rows x 4 columns]"
      ]
     },
     "execution_count": 31,
     "metadata": {},
     "output_type": "execute_result"
    }
   ],
   "source": [
    "# Visualizar alguns registros das colunas Data Medicao, MÊS, ANO e PRECIPITACAO TOTAL DIARIO(mm)\n",
    "df_bsb_83377_d_filtrado[['Data Medicao', 'MÊS', 'ANO', 'TEMPERATURA MEDIA COMPENSADA, DIARIA(°C)']]"
   ]
  },
  {
   "cell_type": "markdown",
   "metadata": {},
   "source": [
    "DADOS DE PRECIPITAÇÃO\n",
    "\n",
    "SEGUNDO FILTRO - REGRA DE NEGÓCIO\n",
    " - Selecionar somente anos com mais de 360 dias de dados observados"
   ]
  },
  {
   "cell_type": "code",
   "execution_count": 32,
   "metadata": {},
   "outputs": [],
   "source": [
    "# Atribuir os dados filtrados a variável est_inmet_precip\n",
    "est_bsb_conv_temp = df_bsb_83377_d_filtrado[['Data Medicao', 'MÊS', 'ANO', 'TEMPERATURA MEDIA COMPENSADA, DIARIA(°C)']]"
   ]
  },
  {
   "cell_type": "code",
   "execution_count": 33,
   "metadata": {},
   "outputs": [],
   "source": [
    "# Obter a quantidade de dias de cada ano\n",
    "p_qtd_dias_ano = est_bsb_conv_temp.groupby(['ANO']).count()\n",
    "p_qtd_dias_ano = p_qtd_dias_ano.reset_index()"
   ]
  },
  {
   "cell_type": "code",
   "execution_count": 34,
   "metadata": {},
   "outputs": [
    {
     "data": {
      "text/html": [
       "<div>\n",
       "<style scoped>\n",
       "    .dataframe tbody tr th:only-of-type {\n",
       "        vertical-align: middle;\n",
       "    }\n",
       "\n",
       "    .dataframe tbody tr th {\n",
       "        vertical-align: top;\n",
       "    }\n",
       "\n",
       "    .dataframe thead th {\n",
       "        text-align: right;\n",
       "    }\n",
       "</style>\n",
       "<table border=\"1\" class=\"dataframe\">\n",
       "  <thead>\n",
       "    <tr style=\"text-align: right;\">\n",
       "      <th></th>\n",
       "      <th>ANO</th>\n",
       "      <th>Data Medicao</th>\n",
       "      <th>MÊS</th>\n",
       "      <th>TEMPERATURA MEDIA COMPENSADA, DIARIA(°C)</th>\n",
       "    </tr>\n",
       "  </thead>\n",
       "  <tbody>\n",
       "    <tr>\n",
       "      <th>0</th>\n",
       "      <td>1961</td>\n",
       "      <td>47</td>\n",
       "      <td>47</td>\n",
       "      <td>47</td>\n",
       "    </tr>\n",
       "    <tr>\n",
       "      <th>1</th>\n",
       "      <td>1962</td>\n",
       "      <td>247</td>\n",
       "      <td>247</td>\n",
       "      <td>247</td>\n",
       "    </tr>\n",
       "    <tr>\n",
       "      <th>2</th>\n",
       "      <td>1963</td>\n",
       "      <td>365</td>\n",
       "      <td>365</td>\n",
       "      <td>365</td>\n",
       "    </tr>\n",
       "    <tr>\n",
       "      <th>3</th>\n",
       "      <td>1964</td>\n",
       "      <td>366</td>\n",
       "      <td>366</td>\n",
       "      <td>366</td>\n",
       "    </tr>\n",
       "    <tr>\n",
       "      <th>4</th>\n",
       "      <td>1965</td>\n",
       "      <td>365</td>\n",
       "      <td>365</td>\n",
       "      <td>365</td>\n",
       "    </tr>\n",
       "    <tr>\n",
       "      <th>...</th>\n",
       "      <td>...</td>\n",
       "      <td>...</td>\n",
       "      <td>...</td>\n",
       "      <td>...</td>\n",
       "    </tr>\n",
       "    <tr>\n",
       "      <th>59</th>\n",
       "      <td>2020</td>\n",
       "      <td>358</td>\n",
       "      <td>358</td>\n",
       "      <td>358</td>\n",
       "    </tr>\n",
       "    <tr>\n",
       "      <th>60</th>\n",
       "      <td>2021</td>\n",
       "      <td>365</td>\n",
       "      <td>365</td>\n",
       "      <td>365</td>\n",
       "    </tr>\n",
       "    <tr>\n",
       "      <th>61</th>\n",
       "      <td>2022</td>\n",
       "      <td>363</td>\n",
       "      <td>363</td>\n",
       "      <td>363</td>\n",
       "    </tr>\n",
       "    <tr>\n",
       "      <th>62</th>\n",
       "      <td>2023</td>\n",
       "      <td>364</td>\n",
       "      <td>364</td>\n",
       "      <td>364</td>\n",
       "    </tr>\n",
       "    <tr>\n",
       "      <th>63</th>\n",
       "      <td>2024</td>\n",
       "      <td>72</td>\n",
       "      <td>72</td>\n",
       "      <td>72</td>\n",
       "    </tr>\n",
       "  </tbody>\n",
       "</table>\n",
       "<p>64 rows × 4 columns</p>\n",
       "</div>"
      ],
      "text/plain": [
       "     ANO  Data Medicao  MÊS  TEMPERATURA MEDIA COMPENSADA, DIARIA(°C)\n",
       "0   1961            47   47                                        47\n",
       "1   1962           247  247                                       247\n",
       "2   1963           365  365                                       365\n",
       "3   1964           366  366                                       366\n",
       "4   1965           365  365                                       365\n",
       "..   ...           ...  ...                                       ...\n",
       "59  2020           358  358                                       358\n",
       "60  2021           365  365                                       365\n",
       "61  2022           363  363                                       363\n",
       "62  2023           364  364                                       364\n",
       "63  2024            72   72                                        72\n",
       "\n",
       "[64 rows x 4 columns]"
      ]
     },
     "execution_count": 34,
     "metadata": {},
     "output_type": "execute_result"
    }
   ],
   "source": [
    "p_qtd_dias_ano"
   ]
  },
  {
   "cell_type": "code",
   "execution_count": 35,
   "metadata": {},
   "outputs": [],
   "source": [
    "# Aplicar filtros e renomear a coluna Data Medicao para Dias\n",
    "p_qtd_dias_ano = p_qtd_dias_ano.iloc[:,0:2]\n",
    "\n",
    "p_qtd_dias_ano = p_qtd_dias_ano.rename(columns={\"Data Medicao\": \"Dias\"})"
   ]
  },
  {
   "cell_type": "code",
   "execution_count": 36,
   "metadata": {},
   "outputs": [
    {
     "data": {
      "text/html": [
       "<div>\n",
       "<style scoped>\n",
       "    .dataframe tbody tr th:only-of-type {\n",
       "        vertical-align: middle;\n",
       "    }\n",
       "\n",
       "    .dataframe tbody tr th {\n",
       "        vertical-align: top;\n",
       "    }\n",
       "\n",
       "    .dataframe thead th {\n",
       "        text-align: right;\n",
       "    }\n",
       "</style>\n",
       "<table border=\"1\" class=\"dataframe\">\n",
       "  <thead>\n",
       "    <tr style=\"text-align: right;\">\n",
       "      <th></th>\n",
       "      <th>ANO</th>\n",
       "      <th>Dias</th>\n",
       "    </tr>\n",
       "  </thead>\n",
       "  <tbody>\n",
       "    <tr>\n",
       "      <th>0</th>\n",
       "      <td>1961</td>\n",
       "      <td>47</td>\n",
       "    </tr>\n",
       "    <tr>\n",
       "      <th>1</th>\n",
       "      <td>1962</td>\n",
       "      <td>247</td>\n",
       "    </tr>\n",
       "    <tr>\n",
       "      <th>2</th>\n",
       "      <td>1963</td>\n",
       "      <td>365</td>\n",
       "    </tr>\n",
       "    <tr>\n",
       "      <th>3</th>\n",
       "      <td>1964</td>\n",
       "      <td>366</td>\n",
       "    </tr>\n",
       "    <tr>\n",
       "      <th>4</th>\n",
       "      <td>1965</td>\n",
       "      <td>365</td>\n",
       "    </tr>\n",
       "    <tr>\n",
       "      <th>...</th>\n",
       "      <td>...</td>\n",
       "      <td>...</td>\n",
       "    </tr>\n",
       "    <tr>\n",
       "      <th>59</th>\n",
       "      <td>2020</td>\n",
       "      <td>358</td>\n",
       "    </tr>\n",
       "    <tr>\n",
       "      <th>60</th>\n",
       "      <td>2021</td>\n",
       "      <td>365</td>\n",
       "    </tr>\n",
       "    <tr>\n",
       "      <th>61</th>\n",
       "      <td>2022</td>\n",
       "      <td>363</td>\n",
       "    </tr>\n",
       "    <tr>\n",
       "      <th>62</th>\n",
       "      <td>2023</td>\n",
       "      <td>364</td>\n",
       "    </tr>\n",
       "    <tr>\n",
       "      <th>63</th>\n",
       "      <td>2024</td>\n",
       "      <td>72</td>\n",
       "    </tr>\n",
       "  </tbody>\n",
       "</table>\n",
       "<p>64 rows × 2 columns</p>\n",
       "</div>"
      ],
      "text/plain": [
       "     ANO  Dias\n",
       "0   1961    47\n",
       "1   1962   247\n",
       "2   1963   365\n",
       "3   1964   366\n",
       "4   1965   365\n",
       "..   ...   ...\n",
       "59  2020   358\n",
       "60  2021   365\n",
       "61  2022   363\n",
       "62  2023   364\n",
       "63  2024    72\n",
       "\n",
       "[64 rows x 2 columns]"
      ]
     },
     "execution_count": 36,
     "metadata": {},
     "output_type": "execute_result"
    }
   ],
   "source": [
    "p_qtd_dias_ano"
   ]
  },
  {
   "cell_type": "code",
   "execution_count": 37,
   "metadata": {},
   "outputs": [
    {
     "data": {
      "text/plain": [
       "['1963',\n",
       " '1964',\n",
       " '1965',\n",
       " '1966',\n",
       " '1967',\n",
       " '1968',\n",
       " '1970',\n",
       " '1971',\n",
       " '1972',\n",
       " '1973',\n",
       " '1974',\n",
       " '1975',\n",
       " '1976',\n",
       " '1977',\n",
       " '1978',\n",
       " '1980',\n",
       " '1981',\n",
       " '1982',\n",
       " '1983',\n",
       " '1984',\n",
       " '1985',\n",
       " '1986',\n",
       " '1987',\n",
       " '1988',\n",
       " '1990',\n",
       " '1991',\n",
       " '1992',\n",
       " '1993',\n",
       " '1994',\n",
       " '1995',\n",
       " '1996',\n",
       " '1997',\n",
       " '1998',\n",
       " '1999',\n",
       " '2000',\n",
       " '2001',\n",
       " '2002',\n",
       " '2003',\n",
       " '2004',\n",
       " '2005',\n",
       " '2006',\n",
       " '2007',\n",
       " '2008',\n",
       " '2009',\n",
       " '2010',\n",
       " '2011',\n",
       " '2012',\n",
       " '2013',\n",
       " '2014',\n",
       " '2015',\n",
       " '2016',\n",
       " '2017',\n",
       " '2018',\n",
       " '2019',\n",
       " '2021',\n",
       " '2022',\n",
       " '2023']"
      ]
     },
     "execution_count": 37,
     "metadata": {},
     "output_type": "execute_result"
    }
   ],
   "source": [
    "# Aplicar regra de negócio atribuiro aos dados de precipitação a variável p_ano_l que é uma lista com os anos que possuem mais de 360 dias\n",
    "p_ano_l = p_qtd_dias_ano[p_qtd_dias_ano['Dias'] > 360]['ANO'].tolist()\n",
    "p_ano_l"
   ]
  },
  {
   "cell_type": "code",
   "execution_count": 38,
   "metadata": {},
   "outputs": [
    {
     "data": {
      "text/plain": [
       "['1961', '1962', '1979', '1989', '2020', '2024']"
      ]
     },
     "execution_count": 38,
     "metadata": {},
     "output_type": "execute_result"
    }
   ],
   "source": [
    "# Verificar quais que não atendendem a regra de negócio \n",
    "p_ano_l_menor = p_qtd_dias_ano[p_qtd_dias_ano['Dias'] < 360]['ANO'].tolist()\n",
    "p_ano_l_menor"
   ]
  },
  {
   "cell_type": "code",
   "execution_count": 39,
   "metadata": {},
   "outputs": [
    {
     "data": {
      "text/plain": [
       "57"
      ]
     },
     "execution_count": 39,
     "metadata": {},
     "output_type": "execute_result"
    }
   ],
   "source": [
    "# Visualizar a quantidade de anos que possuem mais de 360 dias\n",
    "p_qtd_dias_ano[p_qtd_dias_ano['Dias'] > 360].shape[0]"
   ]
  },
  {
   "cell_type": "code",
   "execution_count": 40,
   "metadata": {},
   "outputs": [
    {
     "data": {
      "text/html": [
       "<div>\n",
       "<style scoped>\n",
       "    .dataframe tbody tr th:only-of-type {\n",
       "        vertical-align: middle;\n",
       "    }\n",
       "\n",
       "    .dataframe tbody tr th {\n",
       "        vertical-align: top;\n",
       "    }\n",
       "\n",
       "    .dataframe thead th {\n",
       "        text-align: right;\n",
       "    }\n",
       "</style>\n",
       "<table border=\"1\" class=\"dataframe\">\n",
       "  <thead>\n",
       "    <tr style=\"text-align: right;\">\n",
       "      <th></th>\n",
       "      <th>ANO</th>\n",
       "      <th>MÊS</th>\n",
       "      <th>TEMPERATURA MEDIA COMPENSADA, DIARIA(°C)</th>\n",
       "    </tr>\n",
       "  </thead>\n",
       "  <tbody>\n",
       "    <tr>\n",
       "      <th>0</th>\n",
       "      <td>1961</td>\n",
       "      <td>November</td>\n",
       "      <td>21.602857</td>\n",
       "    </tr>\n",
       "    <tr>\n",
       "      <th>1</th>\n",
       "      <td>1961</td>\n",
       "      <td>October</td>\n",
       "      <td>22.710000</td>\n",
       "    </tr>\n",
       "    <tr>\n",
       "      <th>2</th>\n",
       "      <td>1961</td>\n",
       "      <td>September</td>\n",
       "      <td>23.962857</td>\n",
       "    </tr>\n",
       "    <tr>\n",
       "      <th>3</th>\n",
       "      <td>1962</td>\n",
       "      <td>April</td>\n",
       "      <td>20.401333</td>\n",
       "    </tr>\n",
       "    <tr>\n",
       "      <th>4</th>\n",
       "      <td>1962</td>\n",
       "      <td>August</td>\n",
       "      <td>19.561935</td>\n",
       "    </tr>\n",
       "    <tr>\n",
       "      <th>...</th>\n",
       "      <td>...</td>\n",
       "      <td>...</td>\n",
       "      <td>...</td>\n",
       "    </tr>\n",
       "    <tr>\n",
       "      <th>742</th>\n",
       "      <td>2023</td>\n",
       "      <td>October</td>\n",
       "      <td>24.799355</td>\n",
       "    </tr>\n",
       "    <tr>\n",
       "      <th>743</th>\n",
       "      <td>2023</td>\n",
       "      <td>September</td>\n",
       "      <td>24.492667</td>\n",
       "    </tr>\n",
       "    <tr>\n",
       "      <th>744</th>\n",
       "      <td>2024</td>\n",
       "      <td>February</td>\n",
       "      <td>22.467586</td>\n",
       "    </tr>\n",
       "    <tr>\n",
       "      <th>745</th>\n",
       "      <td>2024</td>\n",
       "      <td>January</td>\n",
       "      <td>22.427097</td>\n",
       "    </tr>\n",
       "    <tr>\n",
       "      <th>746</th>\n",
       "      <td>2024</td>\n",
       "      <td>March</td>\n",
       "      <td>23.146667</td>\n",
       "    </tr>\n",
       "  </tbody>\n",
       "</table>\n",
       "<p>747 rows × 3 columns</p>\n",
       "</div>"
      ],
      "text/plain": [
       "      ANO        MÊS  TEMPERATURA MEDIA COMPENSADA, DIARIA(°C)\n",
       "0    1961   November                                 21.602857\n",
       "1    1961    October                                 22.710000\n",
       "2    1961  September                                 23.962857\n",
       "3    1962      April                                 20.401333\n",
       "4    1962     August                                 19.561935\n",
       "..    ...        ...                                       ...\n",
       "742  2023    October                                 24.799355\n",
       "743  2023  September                                 24.492667\n",
       "744  2024   February                                 22.467586\n",
       "745  2024    January                                 22.427097\n",
       "746  2024      March                                 23.146667\n",
       "\n",
       "[747 rows x 3 columns]"
      ]
     },
     "execution_count": 40,
     "metadata": {},
     "output_type": "execute_result"
    }
   ],
   "source": [
    "# Média da Temperatural Mensal para cada ano e mês da série temporal\n",
    "temp_mes_serie = est_bsb_conv_temp.groupby(['ANO','MÊS'])['TEMPERATURA MEDIA COMPENSADA, DIARIA(°C)'].mean().reset_index()\n",
    "temp_mes_serie"
   ]
  },
  {
   "cell_type": "code",
   "execution_count": 41,
   "metadata": {},
   "outputs": [
    {
     "data": {
      "text/plain": [
       "21.021121398049686"
      ]
     },
     "execution_count": 41,
     "metadata": {},
     "output_type": "execute_result"
    }
   ],
   "source": [
    "temp_mes_serie['TEMPERATURA MEDIA COMPENSADA, DIARIA(°C)'].mean()"
   ]
  },
  {
   "cell_type": "code",
   "execution_count": 42,
   "metadata": {},
   "outputs": [],
   "source": [
    "# Aplicar filtro, ie, lista com os anos que possuem mais de 360 dias e atribuir a variável precip_mes_serie\n",
    "temp_mes_serie = temp_mes_serie[temp_mes_serie[\"ANO\"].isin(p_ano_l)]"
   ]
  },
  {
   "cell_type": "code",
   "execution_count": 43,
   "metadata": {},
   "outputs": [],
   "source": [
    "# Média da temperatura médiia mensal para cada mês da série temporal\n",
    "temp_mes = temp_mes_serie.groupby(\"MÊS\")['TEMPERATURA MEDIA COMPENSADA, DIARIA(°C)'].mean()"
   ]
  },
  {
   "cell_type": "code",
   "execution_count": 44,
   "metadata": {},
   "outputs": [
    {
     "data": {
      "text/plain": [
       "MÊS\n",
       "April        21.246797\n",
       "August       20.707677\n",
       "December     21.427866\n",
       "February     21.633400\n",
       "January      21.591917\n",
       "July         18.889814\n",
       "June         18.999272\n",
       "March        21.655347\n",
       "May          20.016548\n",
       "November     21.495984\n",
       "October      22.438564\n",
       "September    22.367813\n",
       "Name: TEMPERATURA MEDIA COMPENSADA, DIARIA(°C), dtype: float64"
      ]
     },
     "execution_count": 44,
     "metadata": {},
     "output_type": "execute_result"
    }
   ],
   "source": [
    "temp_mes"
   ]
  },
  {
   "cell_type": "code",
   "execution_count": 45,
   "metadata": {},
   "outputs": [],
   "source": [
    "# Atribuir a um dataframe os dados da variável precip_mes\n",
    "df_temp_mes = pd.DataFrame(temp_mes)"
   ]
  },
  {
   "cell_type": "code",
   "execution_count": 46,
   "metadata": {},
   "outputs": [
    {
     "data": {
      "text/html": [
       "<div>\n",
       "<style scoped>\n",
       "    .dataframe tbody tr th:only-of-type {\n",
       "        vertical-align: middle;\n",
       "    }\n",
       "\n",
       "    .dataframe tbody tr th {\n",
       "        vertical-align: top;\n",
       "    }\n",
       "\n",
       "    .dataframe thead th {\n",
       "        text-align: right;\n",
       "    }\n",
       "</style>\n",
       "<table border=\"1\" class=\"dataframe\">\n",
       "  <thead>\n",
       "    <tr style=\"text-align: right;\">\n",
       "      <th></th>\n",
       "      <th>MÊS</th>\n",
       "      <th>TEMPERATURA MEDIA COMPENSADA, DIARIA(°C)</th>\n",
       "    </tr>\n",
       "  </thead>\n",
       "  <tbody>\n",
       "    <tr>\n",
       "      <th>0</th>\n",
       "      <td>April</td>\n",
       "      <td>21.246797</td>\n",
       "    </tr>\n",
       "    <tr>\n",
       "      <th>1</th>\n",
       "      <td>August</td>\n",
       "      <td>20.707677</td>\n",
       "    </tr>\n",
       "    <tr>\n",
       "      <th>2</th>\n",
       "      <td>December</td>\n",
       "      <td>21.427866</td>\n",
       "    </tr>\n",
       "    <tr>\n",
       "      <th>3</th>\n",
       "      <td>February</td>\n",
       "      <td>21.633400</td>\n",
       "    </tr>\n",
       "    <tr>\n",
       "      <th>4</th>\n",
       "      <td>January</td>\n",
       "      <td>21.591917</td>\n",
       "    </tr>\n",
       "    <tr>\n",
       "      <th>5</th>\n",
       "      <td>July</td>\n",
       "      <td>18.889814</td>\n",
       "    </tr>\n",
       "    <tr>\n",
       "      <th>6</th>\n",
       "      <td>June</td>\n",
       "      <td>18.999272</td>\n",
       "    </tr>\n",
       "    <tr>\n",
       "      <th>7</th>\n",
       "      <td>March</td>\n",
       "      <td>21.655347</td>\n",
       "    </tr>\n",
       "    <tr>\n",
       "      <th>8</th>\n",
       "      <td>May</td>\n",
       "      <td>20.016548</td>\n",
       "    </tr>\n",
       "    <tr>\n",
       "      <th>9</th>\n",
       "      <td>November</td>\n",
       "      <td>21.495984</td>\n",
       "    </tr>\n",
       "    <tr>\n",
       "      <th>10</th>\n",
       "      <td>October</td>\n",
       "      <td>22.438564</td>\n",
       "    </tr>\n",
       "    <tr>\n",
       "      <th>11</th>\n",
       "      <td>September</td>\n",
       "      <td>22.367813</td>\n",
       "    </tr>\n",
       "  </tbody>\n",
       "</table>\n",
       "</div>"
      ],
      "text/plain": [
       "          MÊS  TEMPERATURA MEDIA COMPENSADA, DIARIA(°C)\n",
       "0       April                                 21.246797\n",
       "1      August                                 20.707677\n",
       "2    December                                 21.427866\n",
       "3    February                                 21.633400\n",
       "4     January                                 21.591917\n",
       "5        July                                 18.889814\n",
       "6        June                                 18.999272\n",
       "7       March                                 21.655347\n",
       "8         May                                 20.016548\n",
       "9    November                                 21.495984\n",
       "10    October                                 22.438564\n",
       "11  September                                 22.367813"
      ]
     },
     "execution_count": 46,
     "metadata": {},
     "output_type": "execute_result"
    }
   ],
   "source": [
    "# Resetar o index do dataframe df_precip_mes\n",
    "df_temp_mes = df_temp_mes.reset_index()\n",
    "df_temp_mes"
   ]
  },
  {
   "cell_type": "code",
   "execution_count": 47,
   "metadata": {},
   "outputs": [],
   "source": [
    "# Definir um dicionário com o número do mês\n",
    "dt_number = {'': 0,\n",
    "             'January': 1,\n",
    "             'February': 2,\n",
    "             'March': 3,\n",
    "             'April': 4,\n",
    "             'May': 5,\n",
    "             'June': 6,\n",
    "             'July': 7,\n",
    "             'August': 8,\n",
    "             'September': 9,\n",
    "             'October': 10,\n",
    "             'November': 11,\n",
    "             'December': 12\n",
    "             }\n",
    "\n",
    "# Relacionar o número do mês com o nome do mês e atribuir a varíavel num_mes\n",
    "num_mes = df_temp_mes['MÊS'].apply(lambda x: dt_number[x])\n"
   ]
  },
  {
   "cell_type": "code",
   "execution_count": 58,
   "metadata": {},
   "outputs": [
    {
     "name": "stdout",
     "output_type": "stream",
     "text": [
      "1\n",
      "2\n",
      "3\n",
      "4\n",
      "5\n",
      "6\n",
      "7\n",
      "8\n",
      "9\n",
      "10\n",
      "11\n",
      "12\n"
     ]
    }
   ],
   "source": [
    "from datetime import datetime\n",
    "\n",
    "for _, row in df_temp_mes.iterrows():\n",
    "    print(datetime.strptime(row['MÊS'], '%B').month)\n"
   ]
  },
  {
   "cell_type": "code",
   "execution_count": 49,
   "metadata": {},
   "outputs": [],
   "source": [
    "# Inserir a coluna NUM_MÊS no dataframe df_precip_mes\n",
    "df_temp_mes.insert(1,\"NUM_MÊS\",num_mes)"
   ]
  },
  {
   "cell_type": "code",
   "execution_count": 50,
   "metadata": {},
   "outputs": [],
   "source": [
    "# Ordenar os dados do dataframe df_precip_mes pela coluna NUM_MÊS\n",
    "df_temp_mes = df_temp_mes.sort_values(by=[\"NUM_MÊS\"])"
   ]
  },
  {
   "cell_type": "code",
   "execution_count": 51,
   "metadata": {},
   "outputs": [
    {
     "data": {
      "text/html": [
       "<div>\n",
       "<style scoped>\n",
       "    .dataframe tbody tr th:only-of-type {\n",
       "        vertical-align: middle;\n",
       "    }\n",
       "\n",
       "    .dataframe tbody tr th {\n",
       "        vertical-align: top;\n",
       "    }\n",
       "\n",
       "    .dataframe thead th {\n",
       "        text-align: right;\n",
       "    }\n",
       "</style>\n",
       "<table border=\"1\" class=\"dataframe\">\n",
       "  <thead>\n",
       "    <tr style=\"text-align: right;\">\n",
       "      <th></th>\n",
       "      <th>MÊS</th>\n",
       "      <th>NUM_MÊS</th>\n",
       "      <th>TEMPERATURA MEDIA COMPENSADA, DIARIA(°C)</th>\n",
       "    </tr>\n",
       "  </thead>\n",
       "  <tbody>\n",
       "    <tr>\n",
       "      <th>4</th>\n",
       "      <td>January</td>\n",
       "      <td>1</td>\n",
       "      <td>21.591917</td>\n",
       "    </tr>\n",
       "    <tr>\n",
       "      <th>3</th>\n",
       "      <td>February</td>\n",
       "      <td>2</td>\n",
       "      <td>21.633400</td>\n",
       "    </tr>\n",
       "    <tr>\n",
       "      <th>7</th>\n",
       "      <td>March</td>\n",
       "      <td>3</td>\n",
       "      <td>21.655347</td>\n",
       "    </tr>\n",
       "    <tr>\n",
       "      <th>0</th>\n",
       "      <td>April</td>\n",
       "      <td>4</td>\n",
       "      <td>21.246797</td>\n",
       "    </tr>\n",
       "    <tr>\n",
       "      <th>8</th>\n",
       "      <td>May</td>\n",
       "      <td>5</td>\n",
       "      <td>20.016548</td>\n",
       "    </tr>\n",
       "    <tr>\n",
       "      <th>6</th>\n",
       "      <td>June</td>\n",
       "      <td>6</td>\n",
       "      <td>18.999272</td>\n",
       "    </tr>\n",
       "    <tr>\n",
       "      <th>5</th>\n",
       "      <td>July</td>\n",
       "      <td>7</td>\n",
       "      <td>18.889814</td>\n",
       "    </tr>\n",
       "    <tr>\n",
       "      <th>1</th>\n",
       "      <td>August</td>\n",
       "      <td>8</td>\n",
       "      <td>20.707677</td>\n",
       "    </tr>\n",
       "    <tr>\n",
       "      <th>11</th>\n",
       "      <td>September</td>\n",
       "      <td>9</td>\n",
       "      <td>22.367813</td>\n",
       "    </tr>\n",
       "    <tr>\n",
       "      <th>10</th>\n",
       "      <td>October</td>\n",
       "      <td>10</td>\n",
       "      <td>22.438564</td>\n",
       "    </tr>\n",
       "    <tr>\n",
       "      <th>9</th>\n",
       "      <td>November</td>\n",
       "      <td>11</td>\n",
       "      <td>21.495984</td>\n",
       "    </tr>\n",
       "    <tr>\n",
       "      <th>2</th>\n",
       "      <td>December</td>\n",
       "      <td>12</td>\n",
       "      <td>21.427866</td>\n",
       "    </tr>\n",
       "  </tbody>\n",
       "</table>\n",
       "</div>"
      ],
      "text/plain": [
       "          MÊS  NUM_MÊS  TEMPERATURA MEDIA COMPENSADA, DIARIA(°C)\n",
       "4     January        1                                 21.591917\n",
       "3    February        2                                 21.633400\n",
       "7       March        3                                 21.655347\n",
       "0       April        4                                 21.246797\n",
       "8         May        5                                 20.016548\n",
       "6        June        6                                 18.999272\n",
       "5        July        7                                 18.889814\n",
       "1      August        8                                 20.707677\n",
       "11  September        9                                 22.367813\n",
       "10    October       10                                 22.438564\n",
       "9    November       11                                 21.495984\n",
       "2    December       12                                 21.427866"
      ]
     },
     "execution_count": 51,
     "metadata": {},
     "output_type": "execute_result"
    }
   ],
   "source": [
    "# Visualizar os dados do dataframe df_precip_mes\n",
    "df_temp_mes"
   ]
  },
  {
   "cell_type": "code",
   "execution_count": 53,
   "metadata": {},
   "outputs": [
    {
     "data": {
      "application/vnd.plotly.v1+json": {
       "config": {
        "plotlyServerURL": "https://plot.ly"
       },
       "data": [
        {
         "mode": "lines+markers",
         "type": "scatter",
         "x": [
          "January",
          "February",
          "March",
          "April",
          "May",
          "June",
          "July",
          "August",
          "September",
          "October",
          "November",
          "December"
         ],
         "y": [
          21.59,
          21.63,
          21.66,
          21.25,
          20.02,
          19,
          18.89,
          20.71,
          22.37,
          22.44,
          21.5,
          21.43
         ]
        }
       ],
       "layout": {
        "template": {
         "data": {
          "bar": [
           {
            "error_x": {
             "color": "#2a3f5f"
            },
            "error_y": {
             "color": "#2a3f5f"
            },
            "marker": {
             "line": {
              "color": "#E5ECF6",
              "width": 0.5
             },
             "pattern": {
              "fillmode": "overlay",
              "size": 10,
              "solidity": 0.2
             }
            },
            "type": "bar"
           }
          ],
          "barpolar": [
           {
            "marker": {
             "line": {
              "color": "#E5ECF6",
              "width": 0.5
             },
             "pattern": {
              "fillmode": "overlay",
              "size": 10,
              "solidity": 0.2
             }
            },
            "type": "barpolar"
           }
          ],
          "carpet": [
           {
            "aaxis": {
             "endlinecolor": "#2a3f5f",
             "gridcolor": "white",
             "linecolor": "white",
             "minorgridcolor": "white",
             "startlinecolor": "#2a3f5f"
            },
            "baxis": {
             "endlinecolor": "#2a3f5f",
             "gridcolor": "white",
             "linecolor": "white",
             "minorgridcolor": "white",
             "startlinecolor": "#2a3f5f"
            },
            "type": "carpet"
           }
          ],
          "choropleth": [
           {
            "colorbar": {
             "outlinewidth": 0,
             "ticks": ""
            },
            "type": "choropleth"
           }
          ],
          "contour": [
           {
            "colorbar": {
             "outlinewidth": 0,
             "ticks": ""
            },
            "colorscale": [
             [
              0,
              "#0d0887"
             ],
             [
              0.1111111111111111,
              "#46039f"
             ],
             [
              0.2222222222222222,
              "#7201a8"
             ],
             [
              0.3333333333333333,
              "#9c179e"
             ],
             [
              0.4444444444444444,
              "#bd3786"
             ],
             [
              0.5555555555555556,
              "#d8576b"
             ],
             [
              0.6666666666666666,
              "#ed7953"
             ],
             [
              0.7777777777777778,
              "#fb9f3a"
             ],
             [
              0.8888888888888888,
              "#fdca26"
             ],
             [
              1,
              "#f0f921"
             ]
            ],
            "type": "contour"
           }
          ],
          "contourcarpet": [
           {
            "colorbar": {
             "outlinewidth": 0,
             "ticks": ""
            },
            "type": "contourcarpet"
           }
          ],
          "heatmap": [
           {
            "colorbar": {
             "outlinewidth": 0,
             "ticks": ""
            },
            "colorscale": [
             [
              0,
              "#0d0887"
             ],
             [
              0.1111111111111111,
              "#46039f"
             ],
             [
              0.2222222222222222,
              "#7201a8"
             ],
             [
              0.3333333333333333,
              "#9c179e"
             ],
             [
              0.4444444444444444,
              "#bd3786"
             ],
             [
              0.5555555555555556,
              "#d8576b"
             ],
             [
              0.6666666666666666,
              "#ed7953"
             ],
             [
              0.7777777777777778,
              "#fb9f3a"
             ],
             [
              0.8888888888888888,
              "#fdca26"
             ],
             [
              1,
              "#f0f921"
             ]
            ],
            "type": "heatmap"
           }
          ],
          "heatmapgl": [
           {
            "colorbar": {
             "outlinewidth": 0,
             "ticks": ""
            },
            "colorscale": [
             [
              0,
              "#0d0887"
             ],
             [
              0.1111111111111111,
              "#46039f"
             ],
             [
              0.2222222222222222,
              "#7201a8"
             ],
             [
              0.3333333333333333,
              "#9c179e"
             ],
             [
              0.4444444444444444,
              "#bd3786"
             ],
             [
              0.5555555555555556,
              "#d8576b"
             ],
             [
              0.6666666666666666,
              "#ed7953"
             ],
             [
              0.7777777777777778,
              "#fb9f3a"
             ],
             [
              0.8888888888888888,
              "#fdca26"
             ],
             [
              1,
              "#f0f921"
             ]
            ],
            "type": "heatmapgl"
           }
          ],
          "histogram": [
           {
            "marker": {
             "pattern": {
              "fillmode": "overlay",
              "size": 10,
              "solidity": 0.2
             }
            },
            "type": "histogram"
           }
          ],
          "histogram2d": [
           {
            "colorbar": {
             "outlinewidth": 0,
             "ticks": ""
            },
            "colorscale": [
             [
              0,
              "#0d0887"
             ],
             [
              0.1111111111111111,
              "#46039f"
             ],
             [
              0.2222222222222222,
              "#7201a8"
             ],
             [
              0.3333333333333333,
              "#9c179e"
             ],
             [
              0.4444444444444444,
              "#bd3786"
             ],
             [
              0.5555555555555556,
              "#d8576b"
             ],
             [
              0.6666666666666666,
              "#ed7953"
             ],
             [
              0.7777777777777778,
              "#fb9f3a"
             ],
             [
              0.8888888888888888,
              "#fdca26"
             ],
             [
              1,
              "#f0f921"
             ]
            ],
            "type": "histogram2d"
           }
          ],
          "histogram2dcontour": [
           {
            "colorbar": {
             "outlinewidth": 0,
             "ticks": ""
            },
            "colorscale": [
             [
              0,
              "#0d0887"
             ],
             [
              0.1111111111111111,
              "#46039f"
             ],
             [
              0.2222222222222222,
              "#7201a8"
             ],
             [
              0.3333333333333333,
              "#9c179e"
             ],
             [
              0.4444444444444444,
              "#bd3786"
             ],
             [
              0.5555555555555556,
              "#d8576b"
             ],
             [
              0.6666666666666666,
              "#ed7953"
             ],
             [
              0.7777777777777778,
              "#fb9f3a"
             ],
             [
              0.8888888888888888,
              "#fdca26"
             ],
             [
              1,
              "#f0f921"
             ]
            ],
            "type": "histogram2dcontour"
           }
          ],
          "mesh3d": [
           {
            "colorbar": {
             "outlinewidth": 0,
             "ticks": ""
            },
            "type": "mesh3d"
           }
          ],
          "parcoords": [
           {
            "line": {
             "colorbar": {
              "outlinewidth": 0,
              "ticks": ""
             }
            },
            "type": "parcoords"
           }
          ],
          "pie": [
           {
            "automargin": true,
            "type": "pie"
           }
          ],
          "scatter": [
           {
            "fillpattern": {
             "fillmode": "overlay",
             "size": 10,
             "solidity": 0.2
            },
            "type": "scatter"
           }
          ],
          "scatter3d": [
           {
            "line": {
             "colorbar": {
              "outlinewidth": 0,
              "ticks": ""
             }
            },
            "marker": {
             "colorbar": {
              "outlinewidth": 0,
              "ticks": ""
             }
            },
            "type": "scatter3d"
           }
          ],
          "scattercarpet": [
           {
            "marker": {
             "colorbar": {
              "outlinewidth": 0,
              "ticks": ""
             }
            },
            "type": "scattercarpet"
           }
          ],
          "scattergeo": [
           {
            "marker": {
             "colorbar": {
              "outlinewidth": 0,
              "ticks": ""
             }
            },
            "type": "scattergeo"
           }
          ],
          "scattergl": [
           {
            "marker": {
             "colorbar": {
              "outlinewidth": 0,
              "ticks": ""
             }
            },
            "type": "scattergl"
           }
          ],
          "scattermapbox": [
           {
            "marker": {
             "colorbar": {
              "outlinewidth": 0,
              "ticks": ""
             }
            },
            "type": "scattermapbox"
           }
          ],
          "scatterpolar": [
           {
            "marker": {
             "colorbar": {
              "outlinewidth": 0,
              "ticks": ""
             }
            },
            "type": "scatterpolar"
           }
          ],
          "scatterpolargl": [
           {
            "marker": {
             "colorbar": {
              "outlinewidth": 0,
              "ticks": ""
             }
            },
            "type": "scatterpolargl"
           }
          ],
          "scatterternary": [
           {
            "marker": {
             "colorbar": {
              "outlinewidth": 0,
              "ticks": ""
             }
            },
            "type": "scatterternary"
           }
          ],
          "surface": [
           {
            "colorbar": {
             "outlinewidth": 0,
             "ticks": ""
            },
            "colorscale": [
             [
              0,
              "#0d0887"
             ],
             [
              0.1111111111111111,
              "#46039f"
             ],
             [
              0.2222222222222222,
              "#7201a8"
             ],
             [
              0.3333333333333333,
              "#9c179e"
             ],
             [
              0.4444444444444444,
              "#bd3786"
             ],
             [
              0.5555555555555556,
              "#d8576b"
             ],
             [
              0.6666666666666666,
              "#ed7953"
             ],
             [
              0.7777777777777778,
              "#fb9f3a"
             ],
             [
              0.8888888888888888,
              "#fdca26"
             ],
             [
              1,
              "#f0f921"
             ]
            ],
            "type": "surface"
           }
          ],
          "table": [
           {
            "cells": {
             "fill": {
              "color": "#EBF0F8"
             },
             "line": {
              "color": "white"
             }
            },
            "header": {
             "fill": {
              "color": "#C8D4E3"
             },
             "line": {
              "color": "white"
             }
            },
            "type": "table"
           }
          ]
         },
         "layout": {
          "annotationdefaults": {
           "arrowcolor": "#2a3f5f",
           "arrowhead": 0,
           "arrowwidth": 1
          },
          "autotypenumbers": "strict",
          "coloraxis": {
           "colorbar": {
            "outlinewidth": 0,
            "ticks": ""
           }
          },
          "colorscale": {
           "diverging": [
            [
             0,
             "#8e0152"
            ],
            [
             0.1,
             "#c51b7d"
            ],
            [
             0.2,
             "#de77ae"
            ],
            [
             0.3,
             "#f1b6da"
            ],
            [
             0.4,
             "#fde0ef"
            ],
            [
             0.5,
             "#f7f7f7"
            ],
            [
             0.6,
             "#e6f5d0"
            ],
            [
             0.7,
             "#b8e186"
            ],
            [
             0.8,
             "#7fbc41"
            ],
            [
             0.9,
             "#4d9221"
            ],
            [
             1,
             "#276419"
            ]
           ],
           "sequential": [
            [
             0,
             "#0d0887"
            ],
            [
             0.1111111111111111,
             "#46039f"
            ],
            [
             0.2222222222222222,
             "#7201a8"
            ],
            [
             0.3333333333333333,
             "#9c179e"
            ],
            [
             0.4444444444444444,
             "#bd3786"
            ],
            [
             0.5555555555555556,
             "#d8576b"
            ],
            [
             0.6666666666666666,
             "#ed7953"
            ],
            [
             0.7777777777777778,
             "#fb9f3a"
            ],
            [
             0.8888888888888888,
             "#fdca26"
            ],
            [
             1,
             "#f0f921"
            ]
           ],
           "sequentialminus": [
            [
             0,
             "#0d0887"
            ],
            [
             0.1111111111111111,
             "#46039f"
            ],
            [
             0.2222222222222222,
             "#7201a8"
            ],
            [
             0.3333333333333333,
             "#9c179e"
            ],
            [
             0.4444444444444444,
             "#bd3786"
            ],
            [
             0.5555555555555556,
             "#d8576b"
            ],
            [
             0.6666666666666666,
             "#ed7953"
            ],
            [
             0.7777777777777778,
             "#fb9f3a"
            ],
            [
             0.8888888888888888,
             "#fdca26"
            ],
            [
             1,
             "#f0f921"
            ]
           ]
          },
          "colorway": [
           "#636efa",
           "#EF553B",
           "#00cc96",
           "#ab63fa",
           "#FFA15A",
           "#19d3f3",
           "#FF6692",
           "#B6E880",
           "#FF97FF",
           "#FECB52"
          ],
          "font": {
           "color": "#2a3f5f"
          },
          "geo": {
           "bgcolor": "white",
           "lakecolor": "white",
           "landcolor": "#E5ECF6",
           "showlakes": true,
           "showland": true,
           "subunitcolor": "white"
          },
          "hoverlabel": {
           "align": "left"
          },
          "hovermode": "closest",
          "mapbox": {
           "style": "light"
          },
          "paper_bgcolor": "white",
          "plot_bgcolor": "#E5ECF6",
          "polar": {
           "angularaxis": {
            "gridcolor": "white",
            "linecolor": "white",
            "ticks": ""
           },
           "bgcolor": "#E5ECF6",
           "radialaxis": {
            "gridcolor": "white",
            "linecolor": "white",
            "ticks": ""
           }
          },
          "scene": {
           "xaxis": {
            "backgroundcolor": "#E5ECF6",
            "gridcolor": "white",
            "gridwidth": 2,
            "linecolor": "white",
            "showbackground": true,
            "ticks": "",
            "zerolinecolor": "white"
           },
           "yaxis": {
            "backgroundcolor": "#E5ECF6",
            "gridcolor": "white",
            "gridwidth": 2,
            "linecolor": "white",
            "showbackground": true,
            "ticks": "",
            "zerolinecolor": "white"
           },
           "zaxis": {
            "backgroundcolor": "#E5ECF6",
            "gridcolor": "white",
            "gridwidth": 2,
            "linecolor": "white",
            "showbackground": true,
            "ticks": "",
            "zerolinecolor": "white"
           }
          },
          "shapedefaults": {
           "line": {
            "color": "#2a3f5f"
           }
          },
          "ternary": {
           "aaxis": {
            "gridcolor": "white",
            "linecolor": "white",
            "ticks": ""
           },
           "baxis": {
            "gridcolor": "white",
            "linecolor": "white",
            "ticks": ""
           },
           "bgcolor": "#E5ECF6",
           "caxis": {
            "gridcolor": "white",
            "linecolor": "white",
            "ticks": ""
           }
          },
          "title": {
           "x": 0.05
          },
          "xaxis": {
           "automargin": true,
           "gridcolor": "white",
           "linecolor": "white",
           "ticks": "",
           "title": {
            "standoff": 15
           },
           "zerolinecolor": "white",
           "zerolinewidth": 2
          },
          "yaxis": {
           "automargin": true,
           "gridcolor": "white",
           "linecolor": "white",
           "ticks": "",
           "title": {
            "standoff": 15
           },
           "zerolinecolor": "white",
           "zerolinewidth": 2
          }
         }
        },
        "title": {
         "text": "Média da Temperatura Média Mensal - Estação Convencional Inmet (1961 - 2023)"
        },
        "xaxis": {
         "title": {
          "text": "Mês"
         }
        },
        "yaxis": {
         "title": {
          "text": "Temperatura Média (°C)"
         }
        }
       }
      }
     },
     "metadata": {},
     "output_type": "display_data"
    }
   ],
   "source": [
    "fig = go.Figure()\n",
    "fig.add_trace(go.Scatter(x=df_temp_mes['MÊS'], y=round(df_temp_mes['TEMPERATURA MEDIA COMPENSADA, DIARIA(°C)'],2), mode='lines+markers'))\n",
    "\n",
    "fig.update_layout(title='Média da Temperatura Média Mensal - Estação Convencional Inmet (1961 - 2023)', xaxis_title='Mês', yaxis_title='Temperatura Média (°C)')"
   ]
  },
  {
   "cell_type": "code",
   "execution_count": 62,
   "metadata": {},
   "outputs": [
    {
     "data": {
      "text/plain": [
       "21.039250009308013"
      ]
     },
     "execution_count": 62,
     "metadata": {},
     "output_type": "execute_result"
    }
   ],
   "source": [
    "df_temp_mes['TEMPERATURA MEDIA COMPENSADA, DIARIA(°C)'].mean()"
   ]
  }
 ],
 "metadata": {
  "kernelspec": {
   "display_name": "geo_py39",
   "language": "python",
   "name": "python3"
  },
  "language_info": {
   "codemirror_mode": {
    "name": "ipython",
    "version": 3
   },
   "file_extension": ".py",
   "mimetype": "text/x-python",
   "name": "python",
   "nbconvert_exporter": "python",
   "pygments_lexer": "ipython3",
   "version": "3.9.16"
  }
 },
 "nbformat": 4,
 "nbformat_minor": 2
}
